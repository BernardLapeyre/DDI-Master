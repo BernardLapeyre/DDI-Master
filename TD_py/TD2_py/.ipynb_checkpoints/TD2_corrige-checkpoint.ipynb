{
 "cells": [
  {
   "cell_type": "markdown",
   "metadata": {},
   "source": [
    "$\\newcommand\\E{{\\mathbf E}}$\n",
    "$\\newcommand\\indi[1]{{\\mathbf 1}_{\\displaystyle #1}}$\n",
    "$\\newcommand\\inde[1]{{\\mathbf 1}_{\\displaystyle\\left\\{ #1 \\right\\}}}$\n",
    "$\\newcommand{\\ind}{\\inde}$\n",
    "$\\newcommand\\P{{\\mathbf P}}$"
   ]
  },
  {
   "cell_type": "markdown",
   "metadata": {},
   "source": [
    "# Un test d'équirépartition"
   ]
  },
  {
   "cell_type": "code",
   "execution_count": 3,
   "metadata": {},
   "outputs": [],
   "source": [
    "import numpy as np\n",
    "import math\n",
    "import random\n",
    "import matplotlib.pyplot as plt\n",
    "import pandas as pd"
   ]
  },
  {
   "cell_type": "markdown",
   "metadata": {},
   "source": [
    "## Etude par simulation"
   ]
  },
  {
   "cell_type": "markdown",
   "metadata": {},
   "source": [
    "On commence par construire un test d'équirpartition d'une suite de\n",
    "$100$ tirages à pile ou face.\n",
    "\n",
    "On simule des tirages à pile ou face\n",
    "répétés. A partir de ce tirage on calcule le nombre de pile\n",
    "consécutifs maximum dans le vecteur."
   ]
  },
  {
   "cell_type": "code",
   "execution_count": 4,
   "metadata": {},
   "outputs": [],
   "source": [
    "def tirage_pf(n,p):\n",
    "    # Effectue n tirage a Pile (P) ou face (F) (1/2,1/2)\n",
    "    X=\"\"\n",
    "    for i in range(n):\n",
    "        U=random.random()\n",
    "        if U <= p:\n",
    "            X=X+'P'\n",
    "        else:\n",
    "            X=X+'F'\n",
    "    return X\n",
    "\n",
    "def max_length(U):\n",
    "# Calcule le nombre maximum de P consecutifs\n",
    "# dans la suite U\n",
    "    MAX=0;N=0;\n",
    "    for n in range(len(U)):\n",
    "        if U[n]=='P':\n",
    "            N=N+1\n",
    "        else:\n",
    "            N=0\n",
    "        MAX=max(MAX,N)\n",
    "        \n",
    "    return MAX"
   ]
  },
  {
   "cell_type": "markdown",
   "metadata": {},
   "source": [
    "### Question 1"
   ]
  },
  {
   "cell_type": "markdown",
   "metadata": {},
   "source": [
    " Faire $1000$ tirages du nombre maximum de $P$ et en tracer un\n",
    "  histogramme.  On calcule par simulation une approximation de la loi\n",
    "  du nombre maximum de piles consecutifs (un histogramme d'un grand\n",
    "  nombre de tirages i.i.d.)."
   ]
  },
  {
   "cell_type": "code",
   "execution_count": 5,
   "metadata": {},
   "outputs": [],
   "source": [
    "def main_1():\n",
    "    p=1.0/2.0\n",
    "    # On teste cette fonction avec N=20\n",
    "    U=tirage_pf(20,p)# 20 tirages a pile ou face 1/2,1/2\n",
    "    max_length(U)# nombre maximum de P consecutifs\n",
    "\n",
    "    # On effectue 1000 tirages avec N=100\n",
    "    N=100\n",
    "    Taille=100000 # nbre de simulation\n",
    "    X=np.zeros(Taille)\n",
    "    for i in range(Taille):\n",
    "        U=tirage_pf(N,p)\n",
    "        X[i]=max_length(U)\n",
    " \n",
    "    # On fabrique l'histogramme \n",
    "    histo=np.zeros(21);\n",
    "    for i in range(21):\n",
    "        histo[i]=np.size(np.where(X==i))/(1.0*Taille)\n",
    "    # On trace cet histogramme\n",
    "    plt.bar(range(21), histo[0:21])\n",
    "    plt.xlabel('Loi de la longueur maximale pour 10 000 simulation de longueur 100')"
   ]
  },
  {
   "cell_type": "code",
   "execution_count": 6,
   "metadata": {},
   "outputs": [
    {
     "data": {
      "image/png": "[encoded data removed]",
      "text/plain": [
       "<Figure size 432x288 with 1 Axes>"
      ]
     },
     "metadata": {
      "needs_background": "light"
     },
     "output_type": "display_data"
    }
   ],
   "source": [
    "main_1()"
   ]
  },
  {
   "cell_type": "markdown",
   "metadata": {},
   "source": [
    "### Question 2"
   ]
  },
  {
   "cell_type": "markdown",
   "metadata": {},
   "source": [
    " Montrer que le nombre de piles successifs jusqu'à l'instant courant\n",
    "  est une chaîne de Markov à valeurs dans ${\\mathbf N}$ de matrice de\n",
    "  transition $P(x,x+1)=1/2$, $P(x,0)=1/2$. Simuler et tracer de\n",
    "  trajectoires de cette chaîne."
   ]
  },
  {
   "cell_type": "code",
   "execution_count": 7,
   "metadata": {},
   "outputs": [
    {
     "data": {
      "image/png": "[encoded data removed]",
      "text/plain": [
       "<Figure size 432x288 with 1 Axes>"
      ]
     },
     "metadata": {
      "needs_background": "light"
     },
     "output_type": "display_data"
    }
   ],
   "source": [
    "def trajectoire(U):\n",
    "# On calcule la trajectoire de X\n",
    "# à partir d'un tirage U\n",
    "    X=np.zeros(len(U)+1)\n",
    "    val=0;\n",
    "    for n in range(len(U)):\n",
    "        if U[n]=='P':\n",
    "            val=val+1\n",
    "        else:\n",
    "            val=0\n",
    "        X[n+1]=val\n",
    "    return X;\n",
    "\n",
    "def main_2():\n",
    "    N=100\n",
    "    p=1.0/2.0 \n",
    "\n",
    "    # On trace une trajectoire\n",
    "    U=tirage_pf(N,p)\n",
    "    X=trajectoire(U)\n",
    "    plt.plot(X)\n",
    "    \n",
    "    # puis Nbre trajectoires de X\n",
    "    Nbre=0\n",
    "    for i in range(Nbre):\n",
    "        U=tirage_pf(N,p)\n",
    "        X=trajectoire(U)\n",
    "        plt.plot(X);\n",
    "    \n",
    "main_2()"
   ]
  },
  {
   "cell_type": "markdown",
   "metadata": {},
   "source": [
    "# Calcul exact de la probabilité"
   ]
  },
  {
   "cell_type": "markdown",
   "metadata": {},
   "source": [
    "On va calculer exactement la probabilité de voir au moins $l$\n",
    "piles consécutifs."
   ]
  },
  {
   "cell_type": "markdown",
   "metadata": {},
   "source": [
    "### Question 3"
   ]
  },
  {
   "cell_type": "markdown",
   "metadata": {},
   "source": [
    " Calculer la matrice de transition de la chaîne arrêté en $l$,\n",
    "  l'implementer en __Python__. En déduire la probabilité d'avoir au\n",
    "  moins $l$ pile consécutifs pour $l=0,\\ldots,20$. "
   ]
  },
  {
   "cell_type": "code",
   "execution_count": 8,
   "metadata": {},
   "outputs": [],
   "source": [
    "def proba(N,l,p):\n",
    "    # Calcule la probabilite de voir au moins l piles consecutifs\n",
    "    # dans N tirages a pile (p) ou face (1-p)\n",
    "\n",
    "    # la matrice de transition de la chaîne arrêtée en l\n",
    "    # est de taille (l+1,l+1)\n",
    "    P=np.zeros((l+1,l+1)) # les indices varient de 0 à l.\n",
    "    P[0:l,0]=1-p\n",
    "    P[0:l,1:l+1]=p*np.eye(l)\n",
    "    P[l,l]=1\n",
    "    \n",
    "    # Sa puissance N ième\n",
    "    PN=np.linalg.matrix_power(P,N)\n",
    "    return PN[0,l]"
   ]
  },
  {
   "cell_type": "code",
   "execution_count": 9,
   "metadata": {},
   "outputs": [
    {
     "data": {
      "text/plain": [
       "0.810109599196358"
      ]
     },
     "execution_count": 9,
     "metadata": {},
     "output_type": "execute_result"
    }
   ],
   "source": [
    "l=5\n",
    "p=1/2\n",
    "proba(100,l,p)"
   ]
  },
  {
   "cell_type": "markdown",
   "metadata": {},
   "source": [
    "### Question 4"
   ]
  },
  {
   "cell_type": "markdown",
   "metadata": {},
   "source": [
    "Calculer la loi du nombre maximum de piles consécutifs."
   ]
  },
  {
   "cell_type": "code",
   "execution_count": 10,
   "metadata": {},
   "outputs": [],
   "source": [
    "def calculer_loi(N,p):\n",
    "    MAXMAX=50;# a choisir assez grand (mais pas trop ...)\n",
    "    loi=np.zeros(MAXMAX+1)\n",
    "  \n",
    "    previous=1;# proba d'avoir au moins 0 pile = 1 !\n",
    "    # le support de la loi est [0,1,...,N] que l'on tronque en MAXMAX\n",
    "    for l in range(min(N,MAXMAX)+1):\n",
    "        current=proba(N,l+1,p) # proba d'avoir au moins l+1 pile\n",
    "        loi[l]=previous - current # proba d'avoir exactement l pile\n",
    "        previous=current\n",
    "    return loi"
   ]
  },
  {
   "cell_type": "markdown",
   "metadata": {},
   "source": [
    "Comparer avec les simulations précédentes. Vérifier que\n",
    "  $\\P(X=3)$ est du même ordre que $\\P(X=10)$."
   ]
  },
  {
   "cell_type": "code",
   "execution_count": 11,
   "metadata": {},
   "outputs": [],
   "source": [
    "def main_3():\n",
    "    # On teste avec N=1 et N=2, p=1/2\n",
    "    # Pour N=1, 0 pile avec proba 1/2 et 1 pile avec proba 1/2\n",
    "    calculer_loi(1,1/2.0)\n",
    "    # Pour N=2, on doit trouver (1/4,1/2,1/4) pour (0,1,2)\n",
    "    calculer_loi(2,1/2.0)\n",
    "    # en principe ca marche ...\n",
    "  \n",
    "    N=100;p=1.0/2.0\n",
    "    loi=calculer_loi(N,p)\n",
    "    print('=1?',sum(loi)) # on verifie que ca somme a 1\n",
    "  \n",
    "    # dessin\n",
    "    plt.bar(range(21), loi[0:21])\n",
    "    \n",
    "    print(\"proba d'avoir 3 (ou moins) piles consécutifs: \",np.sum(loi[0:4]))\n",
    "    print(\"proba d'avoir 10 (ou plus) piles consécutifs: \",np.sum(loi[10:20]))   \n",
    "    \n",
    "    # comparaison avec les simulations\n",
    "    Taille=10000;\n",
    "    X=np.zeros(Taille);\n",
    "    # On fait 10000 tirages\n",
    "    for i in range(Taille):\n",
    "        U=tirage_pf(N,p)\n",
    "        X[i]=max_length(U)\n",
    "  \n",
    "    # on calcule l'histogramme empirique\n",
    "    histo=np.zeros(21)\n",
    "    for i in range(21):\n",
    "        histo[i]=np.size(np.where(X==i))/(1.0*Taille)\n",
    "        \n",
    "    # on regarde si l'histogramme empirique de la question 1 est proche du calcul exact\n",
    "    epsilon=np.linalg.norm(loi[0:20]-histo[0:20])\n",
    "    # epsilon doit etre \"petit\", pour bien faire il faudrait faire un\n",
    "    # test du |$\\xi^2$| pour savoir ce que \"petit\" veut dire ici.\n",
    "    print(\"epsilon = \",epsilon,\" --- petit en principe.\")"
   ]
  },
  {
   "cell_type": "code",
   "execution_count": 12,
   "metadata": {},
   "outputs": [
    {
     "name": "stdout",
     "output_type": "stream",
     "text": [
      "=1? 0.9999999999999887\n",
      "proba d'avoir 3 (ou moins) piles consécutifs:  0.027284957701160018\n",
      "proba d'avoir 10 (ou plus) piles consécutifs:  0.044098128423184044\n",
      "epsilon =  0.007726224443254494  --- petit en principe.\n"
     ]
    },
    {
     "data": {
      "image/png": "[encoded data removed]",
      "text/plain": [
       "<Figure size 432x288 with 1 Axes>"
      ]
     },
     "metadata": {
      "needs_background": "light"
     },
     "output_type": "display_data"
    }
   ],
   "source": [
    "main_3()"
   ]
  },
  {
   "cell_type": "markdown",
   "metadata": {},
   "source": [
    "# Test du critère"
   ]
  },
  {
   "cell_type": "markdown",
   "metadata": {},
   "source": [
    "### Question 5"
   ]
  },
  {
   "cell_type": "markdown",
   "metadata": {},
   "source": [
    "Vérifier que, pour des tirages aléatoires, le test proposé (\"obtenir un run\n",
    "plus grand que $4$\") fonctionne dans la plupart des cas (dans $97\\%$ des cas!),\n",
    "mais pas toujours."
   ]
  },
  {
   "cell_type": "code",
   "execution_count": 19,
   "metadata": {},
   "outputs": [],
   "source": [
    "def main_4():\n",
    "# Test du critère lorsque les tirages sont aléatoires\n",
    "# Ca marche \"souvent\" mais pas \"toujours\".\n",
    "    N=100\n",
    "    p=1/2.0\n",
    "    Taille=100\n",
    "    for i in range(Taille):  \n",
    "        U=tirage_pf(N,p);\n",
    "        if (max_length(U) >= 4) :\n",
    "            print(\"*\",end='')\n",
    "        else:\n",
    "            # Ca arrive \"rarement\" mais ca arrive 3 fois sur 100 quand même\n",
    "            print(\"!\",end='')\n"
   ]
  },
  {
   "cell_type": "code",
   "execution_count": 21,
   "metadata": {},
   "outputs": [
    {
     "name": "stdout",
     "output_type": "stream",
     "text": [
      "***************!***************************************************************************!********"
     ]
    }
   ],
   "source": [
    "main_4()"
   ]
  },
  {
   "cell_type": "markdown",
   "metadata": {},
   "source": [
    "Par quelle loi peut on approximer la loi du nombre ce cas où le test ne fonctionne pas ?"
   ]
  },
  {
   "cell_type": "markdown",
   "metadata": {},
   "source": [
    "# Comment la loi varie t'elle en fonction de $N$ ?"
   ]
  },
  {
   "cell_type": "markdown",
   "metadata": {},
   "source": [
    "On regarde ce qui se passe lorsque $N$ devient grand."
   ]
  },
  {
   "cell_type": "markdown",
   "metadata": {},
   "source": [
    "### Question 6"
   ]
  },
  {
   "cell_type": "markdown",
   "metadata": {},
   "source": [
    "On va faire varier $N$ pour étudier (en fonction de $N$) la valeur $k$\n",
    "qui réalise le maximum de la probabilité d'apparition d'exactement\n",
    "$k$ piles consécutifs: on cherche le \"maximum de vraisemblance\" de la loi du \"run\n",
    "  maximum\".\n",
    "  \n",
    "On commencera par calculer la valeur réalisant le maximum et ce maximum\n",
    "pour $N=100$, $N=500$, $N=1000$."
   ]
  },
  {
   "cell_type": "code",
   "execution_count": 15,
   "metadata": {},
   "outputs": [],
   "source": [
    "def main_5():\n",
    "# Calcul du maximum de vraisemblance de la loi \n",
    "# imax = indice du maximum,  m = le maximum\n",
    "    p=1.0/2.0;\n",
    "    print('N: [indice du maximum de vraisemblance] -> [valeur du maximum]\\n')\n",
    "    for N in [10,100,1000]:\n",
    "        loi=calculer_loi(N,p)\n",
    "        m=max(loi)\n",
    "        k=np.argmax(loi)\n",
    "        print (N,\": \",k,' -> ',m)\n"
   ]
  },
  {
   "cell_type": "code",
   "execution_count": 16,
   "metadata": {},
   "outputs": [
    {
     "name": "stdout",
     "output_type": "stream",
     "text": [
      "N: [indice du maximum de vraisemblance] -> [valeur du maximum]\n",
      "\n",
      "10 :  2  ->  0.3515625\n",
      "100 :  5  ->  0.26401597994641235\n",
      "1000 :  9  ->  0.23879124004379726\n"
     ]
    }
   ],
   "source": [
    "main_5()"
   ]
  },
  {
   "cell_type": "markdown",
   "metadata": {},
   "source": [
    "### Question 7"
   ]
  },
  {
   "cell_type": "markdown",
   "metadata": {},
   "source": [
    " Vérifier que la moyenne du ''run maximum'' varie presque linéairement en\n",
    "fonction de $\\log(N)$."
   ]
  },
  {
   "cell_type": "code",
   "execution_count": 36,
   "metadata": {},
   "outputs": [],
   "source": [
    "def moyenne(loi):\n",
    "    return sum(range(np.size(loi)) * loi)\n",
    "#-------------------------------------------------------\n",
    "def main_5_bis():\n",
    "# La moyenne varie (approximativement) comme C log(N).\n",
    "# Ca peut se prouver.\n",
    "    p=1.0/2.0\n",
    "    valeurs=[10,50,100,500,1000,5000,10000]\n",
    "    x=np.zeros(np.size(valeurs))\n",
    "    y=np.zeros(np.size(valeurs))\n",
    "    i=0\n",
    "    for N in valeurs:\n",
    "        loi=calculer_loi(N,p)\n",
    "        x[i]=math.log(N)\n",
    "        y[i]=moyenne(loi)\n",
    "        i=i+1\n",
    "    plt.plot(x,y)"
   ]
  },
  {
   "cell_type": "code",
   "execution_count": 37,
   "metadata": {},
   "outputs": [
    {
     "data": {
      "image/png": "[encoded data removed]",
      "text/plain": [
       "<Figure size 432x288 with 1 Axes>"
      ]
     },
     "metadata": {
      "needs_background": "light"
     },
     "output_type": "display_data"
    }
   ],
   "source": [
    "main_5_bis()"
   ]
  },
  {
   "cell_type": "markdown",
   "metadata": {},
   "source": [
    "Ca ressemble beaucoup à une droite mais ça n'en n'est pas une !"
   ]
  },
  {
   "cell_type": "markdown",
   "metadata": {},
   "source": [
    "# Calcul du prix d'une option européenne dans le modèle de Cox-Ross"
   ]
  },
  {
   "cell_type": "markdown",
   "metadata": {},
   "source": [
    "## Simulation du modèle"
   ]
  },
  {
   "cell_type": "markdown",
   "metadata": {},
   "source": [
    "On considère le chaîne de Cox-Ross~:\n",
    "$$\n",
    "X_0=x_0, X_{n+1}= X_{n} \\left(u\\times\\inde{U_{n+1}=P}+d\\times\\inde{U_{n+1}=F}\\right).\n",
    "$$\n",
    "avec $N=10$, $x_0=100$, $p=1/2$, $u=1+1/N$, $d=1-1/N$.\n",
    "\n",
    "On cherche à calculer $\\E(f(X_N))$ où $f(x)=\\max(x-K,0)$ avec $K=100$."
   ]
  },
  {
   "cell_type": "markdown",
   "metadata": {},
   "source": [
    "### Question 8"
   ]
  },
  {
   "cell_type": "markdown",
   "metadata": {},
   "source": [
    "Simuler cette chaîne de Markov."
   ]
  },
  {
   "cell_type": "code",
   "execution_count": 38,
   "metadata": {},
   "outputs": [],
   "source": [
    "def simul_cox_ross(N,x_0,p,u,d):\n",
    "    U=np.random.binomial(1,p,N) # tirages a pile ou face (p,1-p)\n",
    "    X=np.zeros(np.size(U))\n",
    "    X[0]=x_0;\n",
    "    for i in range(np.size(U)-1):\n",
    "        if U[i+1]==0: \n",
    "            X[i+1]=X[i]*u\n",
    "        else:\n",
    "            X[i+1]=X[i]*d\n",
    "    return X"
   ]
  },
  {
   "cell_type": "code",
   "execution_count": 39,
   "metadata": {},
   "outputs": [],
   "source": [
    "def main_6():\n",
    "    N=50\n",
    "    sigma=0.3\n",
    "    p=1.0/2.0;u=1.0-sigma/math.sqrt(N);d=1.0+sigma/math.sqrt(N)\n",
    "    x_0=100\n",
    "\n",
    "    X=simul_cox_ross(N,x_0,p,u,d)\n",
    "    plt.plot(X)"
   ]
  },
  {
   "cell_type": "code",
   "execution_count": 40,
   "metadata": {},
   "outputs": [
    {
     "data": {
      "image/png": "[encoded data removed]",
      "text/plain": [
       "<Figure size 432x288 with 1 Axes>"
      ]
     },
     "metadata": {
      "needs_background": "light"
     },
     "output_type": "display_data"
    }
   ],
   "source": [
    "main_6()\n",
    "main_6()"
   ]
  },
  {
   "cell_type": "markdown",
   "metadata": {},
   "source": [
    "##  Une version récursive de l'algorithme de calcul de prix"
   ]
  },
  {
   "cell_type": "markdown",
   "metadata": {},
   "source": [
    "### Question 9"
   ]
  },
  {
   "cell_type": "markdown",
   "metadata": {},
   "source": [
    "Ecrire une version récursive de l'algorithme de calcul de prix. On recopie l'équation obtenue dans le cours.\n",
    "\n",
    "Tester l'algrithme pour $N$ petit ($N \\leq 10$). Vérifier que pour $N\\geq 20$ on risque d'attendre longtemps\n",
    "le résultat !"
   ]
  },
  {
   "cell_type": "code",
   "execution_count": 41,
   "metadata": {},
   "outputs": [],
   "source": [
    "K=100;\n",
    "def f(x):\n",
    "# le payoff\n",
    "    return max(x-K,0);\n",
    "#-------------------------------------------------------\n",
    "def prix_recursif(x,k,N,p,u,d):\n",
    "    if (k==N):\n",
    "        # on retourne le payoff\n",
    "        return f(x)\n",
    "    else:\n",
    "        return p*prix_recursif(x*u,k+1,N,p,u,d)+(1-p)*prix_recursif(x*d,k+1,N,p,u,d)\n",
    "#-------------------------------------------------------\n",
    "def prix_slow(x,N,p,u,d):\n",
    "    return prix_recursif(x,0,N,p,u,d)"
   ]
  },
  {
   "cell_type": "code",
   "execution_count": 42,
   "metadata": {},
   "outputs": [
    {
     "data": {
      "text/plain": [
       "12.078135725435745"
      ]
     },
     "execution_count": 42,
     "metadata": {},
     "output_type": "execute_result"
    }
   ],
   "source": [
    "N=10;\n",
    "# On choisit des paramètres pour converger \n",
    "# vers le modèle de Black et Scholes.\n",
    "sigma=0.3;\n",
    "p=1.0/2.0;d=1.0-sigma/math.sqrt(N);u=1.0+sigma/math.sqrt(N)\n",
    "x_0=100\n",
    "prix_slow(x_0,N,p,u,d)  # Recommencer avec N=20 pour savoir ce que slow veut dire !"
   ]
  },
  {
   "cell_type": "markdown",
   "metadata": {},
   "source": [
    "## Une version itérative de l'algorithme de calcul de prix"
   ]
  },
  {
   "cell_type": "markdown",
   "metadata": {},
   "source": [
    "### Question 10"
   ]
  },
  {
   "cell_type": "markdown",
   "metadata": {},
   "source": [
    " Ecrire une version efficace (itérative) de l'algorithme de calcul de prix. "
   ]
  },
  {
   "cell_type": "code",
   "execution_count": 43,
   "metadata": {},
   "outputs": [],
   "source": [
    "def prix(x_0,N,p,u,d):\n",
    "    U=np.zeros([N+1,N+1])\n",
    "    for k in range(N+1):\n",
    "        U[N,k] = f(x_0 * pow(u,k) * pow(d,N-k))\n",
    "    for n in range(N-1,-1,-1): # le temps decroit de N-1 a 0\n",
    "        for k in range(0,n+1): # [0:n]\n",
    "            U[n,k] = p*U[n+1,k+1]+(1-p)*U[n+1,k]\n",
    "    return U[0,0]"
   ]
  },
  {
   "cell_type": "markdown",
   "metadata": {},
   "source": [
    " Comparer le résultat des deux versions de l'algorithme."
   ]
  },
  {
   "cell_type": "code",
   "execution_count": 44,
   "metadata": {},
   "outputs": [
    {
     "name": "stdout",
     "output_type": "stream",
     "text": [
      "12.078135725435752\n",
      "Différence entre les 2 résultats:  7.105427357601002e-15 \n",
      "\n"
     ]
    }
   ],
   "source": [
    "def main_7():\n",
    "    N=10\n",
    "    sigma=0.3\n",
    "    p=1.0/2.0\n",
    "    d=1.0-sigma/math.sqrt(N)\n",
    "    u=1.0+sigma/math.sqrt(N)\n",
    "    K=100.0;x_0=100.0\n",
    "\n",
    "    print(prix(x_0,N,p,u,d))\n",
    "\n",
    "    # Les deux algos font ils le même chose ?\n",
    "    # on verifie : prix_slow(x_0,N) \\approx prix(x_0,N)\n",
    "    print (\"Différence entre les 2 résultats: \", abs(prix_slow(x_0,N,p,u,d) - prix(x_0,N,p,u,d)),\"\\n\")\n",
    "\n",
    "main_7()"
   ]
  },
  {
   "cell_type": "markdown",
   "metadata": {},
   "source": [
    "Tracer la fonction $x\\to u(0,x)$ pour $x\\in [80,120]$."
   ]
  },
  {
   "cell_type": "code",
   "execution_count": 45,
   "metadata": {},
   "outputs": [
    {
     "data": {
      "text/plain": [
       "[<matplotlib.lines.Line2D at 0x7f03318cb828>]"
      ]
     },
     "execution_count": 45,
     "metadata": {},
     "output_type": "execute_result"
    },
    {
     "data": {
      "image/png": "[encoded data removed]",
      "text/plain": [
       "<Figure size 432x288 with 1 Axes>"
      ]
     },
     "metadata": {
      "needs_background": "light"
     },
     "output_type": "display_data"
    }
   ],
   "source": [
    "sigma=0.6\n",
    "N=200\n",
    "d=1-sigma/math.sqrt(N)\n",
    "u=1+sigma/math.sqrt(N)\n",
    "p=1.0/2.0;\n",
    "\n",
    "largeur=100\n",
    "vmin=50\n",
    "courbe=np.zeros(largeur+1)\n",
    "x_values=np.arange(vmin,vmin+largeur+1)\n",
    "\n",
    "n=-1;\n",
    "for x in x_values:\n",
    "    n=n+1\n",
    "    courbe[n]=prix(x,N,p,u,d)\n",
    "plt.plot(x_values,courbe)\n"
   ]
  },
  {
   "cell_type": "markdown",
   "metadata": {},
   "source": [
    "### Question 10"
   ]
  },
  {
   "cell_type": "markdown",
   "metadata": {},
   "source": [
    "Que constatez vous lorsque $N$ augmente ($N=10,100,200,500$) et\n",
    "  que l'on choisit $u$ et $d$ en fonction de $N$ de la façon suivante:\n",
    "$$\n",
    "   u=1+\\frac{\\sigma}{\\sqrt{N}}\\; \\mbox{ et }\\; d=1-\\frac{\\sigma}{\\sqrt{N}}.\n",
    "$$"
   ]
  },
  {
   "cell_type": "code",
   "execution_count": 46,
   "metadata": {},
   "outputs": [
    {
     "data": {
      "image/png": "[encoded data removed]",
      "text/plain": [
       "<Figure size 432x288 with 1 Axes>"
      ]
     },
     "metadata": {
      "needs_background": "light"
     },
     "output_type": "display_data"
    }
   ],
   "source": [
    "def main_8():\n",
    "# Avec cet algorithme on peut augmenter N\n",
    "# mais il faut renormaliser convenablement u et d pour\n",
    "# rester borné.\n",
    "# Essayer avec N=10,100,200,...,1000\n",
    "    sigma=0.6\n",
    "    largeur=50\n",
    "    vmin=50\n",
    "    courbe=np.zeros(largeur+1)\n",
    "    x_values=np.arange(vmin,vmin+largeur+1)\n",
    "    for N in [3,5,10,20,50,100,200]:\n",
    "        d=1-sigma/math.sqrt(N)\n",
    "        u=1+sigma/math.sqrt(N)\n",
    "        p=1.0/2.0\n",
    " \n",
    "        n=-1;\n",
    "        for x in x_values:\n",
    "            n=n+1;\n",
    "            courbe[n]=prix(x,N,p,u,d)\n",
    "        plt.plot(x_values,courbe)\n",
    "    \n",
    "    n=-1;\n",
    "    for x in x_values:\n",
    "        n=n+1\n",
    "        courbe[n]=max(x-K,0)\n",
    "    plt.plot(x_values,courbe)\n",
    "    # Ca converge, mais vers quoi ? Vous verrez ça en 2A.\n",
    "    \n",
    "main_8()\n"
   ]
  },
  {
   "cell_type": "markdown",
   "metadata": {},
   "source": [
    "# Un cas plus délicat: les options sur moyenne"
   ]
  },
  {
   "cell_type": "markdown",
   "metadata": {},
   "source": [
    "On cherche maintenant à évaluer $\\E(f(S_N))$ où $S_n=X_1+\\cdots+X_n$.\n",
    "\n",
    " Pourquoi le processus $(S_n,n\\geq 0)$ n'est il pas une chaîne de\n",
    "  Markov ? Vérifier que le couple $((X_n,S_n),n\\geq 0)$ est une chaine\n",
    "  de Markov de matrice de transition ($0$ sinon)\n",
    "  $$\n",
    "  P((x,s), (xu,s+xu))=p,\\quad P((x,s), (xd,s+xd))=1-p.\n",
    "  $$\n",
    "  issue de $(x_0,0)$ à l'instant $0$.  En déduire que\n",
    "  $\\E(f(S_N))=u(0,x_0,0)$ où $u$ est la solution unique de\n",
    "  \\begin{equation}\\label{eq:rec}\n",
    "    \\left\\{\n",
    "      \\begin{array}{l}\n",
    "        u(n,x) = p u(n+1,xu,s+xu) + (1-p) u(n+1,xd,s+xd),\\quad n< N\\\\\n",
    "        u(N,x,s) = f(s),\n",
    "      \\end{array}\n",
    "    \\right.   \n",
    "  \\end{equation}\n",
    "        \n",
    "Ecrire un algorithme récursif (lent) qui résoud l'équation précédente ($N\\leq 10$!) et permet\n",
    "de calculer $\\E(f(S_N))$.      "
   ]
  },
  {
   "cell_type": "code",
   "execution_count": 47,
   "metadata": {},
   "outputs": [],
   "source": [
    "def f_moy(x,s,N):\n",
    "    return max((s/N)-K,0)\n",
    "\n",
    "def prix_moyenne(x,s,k,N,p,u,d):\n",
    "    if (k==N):\n",
    "        return f_moy(x,s,N)\n",
    "    else:\n",
    "        return p*prix_moyenne(x*u,s+x*u,k+1,N,p,u,d)+(1-p)*prix_moyenne(x*d,s+x*d,k+1,N,p,u,d)\n",
    "\n",
    "def prix_slow_moyenne(x,N,p,u,d):\n",
    "    return prix_moyenne(x,x,0,N,p,u,d)"
   ]
  },
  {
   "cell_type": "code",
   "execution_count": 48,
   "metadata": {},
   "outputs": [
    {
     "name": "stdout",
     "output_type": "stream",
     "text": [
      "Prix option sur moyenne:  13.18627110107544 \n",
      "\n"
     ]
    }
   ],
   "source": [
    "def main_9():\n",
    "    N=10\n",
    "    sigma=0.3\n",
    "    p=1.0/2.0\n",
    "    d=1.0-sigma/math.sqrt(N)\n",
    "    u=1.0+sigma/math.sqrt(N)\n",
    "    x_0=100.0;K=100.0\n",
    "\n",
    "    # Ca marche mais ce n'est pas très efficace ...\n",
    "    print('Prix option sur moyenne: ',prix_slow_moyenne(x_0,N,p,u,d),'\\n')\n",
    "\n",
    "main_9()"
   ]
  },
  {
   "cell_type": "code",
   "execution_count": 49,
   "metadata": {
    "scrolled": true
   },
   "outputs": [
    {
     "name": "stdout",
     "output_type": "stream",
     "text": [
      "Aucun point n'est dupliqué.\n",
      "\n"
     ]
    }
   ],
   "source": [
    "def liste_moyenne_rec(x,s,k,N):\n",
    "# On constitue la liste des points visités par la chaine\n",
    "# à l'instant N, en partant de (x,s) à l'instant k.\n",
    "# Si un point est visité deux fois, il y figure 2 fois.\n",
    "    if (k==N):\n",
    "        liste=[]\n",
    "        liste.append([x,s])\n",
    "        return liste\n",
    "    else:\n",
    "        liste_up = liste_moyenne_rec(x*u,s+x*u,k+1,N)\n",
    "        liste_down = liste_moyenne_rec(x*d,s+x*d,k+1,N)\n",
    "        liste_up.extend(liste_down)\n",
    "        return liste_up\n",
    "    \n",
    "def liste_moyenne(x,N):\n",
    "    # On part de (x,s=x) a l'instant 0\n",
    "    return liste_moyenne_rec(x,x,0,N)\n",
    "\n",
    "def main_10():\n",
    "    x_0=100\n",
    "    N=10\n",
    "    liste=liste_moyenne(x_0,N)\n",
    "\n",
    "    # Tri des points selon les valeurs de la somme.\n",
    "    # Les valeurs de x peuvent etre egales, mais pas celle de s.\n",
    "    # Nous allons le verifier.\n",
    "    liste.sort();\n",
    "\n",
    "    # On regarde si tous les points sont differents\n",
    "    # en parcourrant le tableau ainsi classé\n",
    "    epsilon=0.00001\n",
    "    Taille=len(liste)\n",
    "    match=[]\n",
    "    for i in range(Taille-1):\n",
    "        if (np.linalg.norm(np.asarray(liste[i]) - np.asarray(liste[i+1])) < epsilon):\n",
    "            print ('Warning: (', liste[i][0],',',liste[i][1], ') ~ (',liste[i+1][0],',',liste[i+1][1],')\\n')\n",
    "            match.append([liste[i][0],liste[i][1],liste[i+1][0],liste[i+1][1]])\n",
    "                              \n",
    "    if len(match) == 0: \n",
    "        print (\"Aucun point n'est dupliqué.\\n\")\n",
    "        \n",
    "main_10()"
   ]
  }
 ],
 "metadata": {
  "kernelspec": {
   "display_name": "Python 3",
   "language": "python",
   "name": "python3"
  },
  "language_info": {
   "codemirror_mode": {
    "name": "ipython",
    "version": 3
   },
   "file_extension": ".py",
   "mimetype": "text/x-python",
   "name": "python",
   "nbconvert_exporter": "python",
   "pygments_lexer": "ipython3",
   "version": "3.7.4"
  }
 },
 "nbformat": 4,
 "nbformat_minor": 2
}
