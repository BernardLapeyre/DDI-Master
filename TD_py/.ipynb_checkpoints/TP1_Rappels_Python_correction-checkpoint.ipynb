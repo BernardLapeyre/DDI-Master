{
 "cells": [
  {
   "cell_type": "markdown",
   "metadata": {},
   "source": [
    "# TP 1: Introduction aux Notebooks de IPython et rappels sur le langage Python.\n",
    "\n",
    "\n",
    "# 1. Prise en main des notebooks IPython\n",
    "\n",
    "La première chose à faire est d’ouvrir ce document d’introduction à l’aide de IPython Notebook. Pour cela, il faut, dans un terminal, lancer la commande\n",
    "\n",
    "`ipython3 notebook --browser=firefox`\n",
    "\n",
    "Cela ouvrira automatiquement le navigateur firefox dans lequel on peut alors commencer à travailler. L'onglet principal représente l’arborescence des fichiers, il faut y avoir sauvegardé le fichier `TP1_Rappels_Python.ipynb` quelque part.\n",
    "\n",
    "Les notebooks sont composés de cellules contenant du code (en python) ou du texte (simple ou formaté avec les balisages Markdown). IPython permet de faire des calculs interactifs en python. Nous utilisons la version 3 de python (voilà pourquoi on lance la commande `ipython3`). Lorsque la cellule se termine par un calcul, ou une variable seule, lors de l’évaluation IPython affiche `Out[n]:` puis sa valeur. S’il s’agit d’instructions, il n’affiche rien (mais elles sont effectuées).\n",
    "\n",
    "On peut éditer une cellule en double-cliquant dessus, et l’évaluer en tapant **Ctrl+Entrée** (on utilisera aussi souvent **Maj.+Entrée** pour évaluer et passer à la cellule suivante). Les boutons dans la barre d’outil vous seront très utiles, survolez-les pour faire apparaître une infobulle si leur pictogramme n’est pas assez clair. N’oubliez pas de sauvegarder de temps en temps votre travail, même si IPython fait des sauvegardes automatiques régulières.\n",
    "\n",
    "**(a)** Éditer les trois cellules d’exemples ci-dessous, les modifier et les valider\n",
    "\n",
    "**(b)** Rajouter une cellule de code (avant le début de la partie 2) où vous affichez la valeur de $12a+5$ (en ayant au préalable validé la cellule où $a$ est initialisée).\n",
    "\n",
    "**(c)** Rééditer une des cellules de code, valider le résultat, et observer que le numéro après `In` et `Out` est incrémenté. On peut revenir sur une cellule précédente, cela prendra en compte les modifications effectuées dans des cellules ayant déjà été validées, même si ce n’est pas fait dans l’ordre.\n",
    "\n",
    "Le bouton *Restart Kernel* dans la barre d’outil permet de réinitialiser le notebook, ce compteur est remis à zéro et il faudra de nouveau réévaluer les cellules. L’idéal est donc que quand vous rendiez votre TP, on puisse valider toutes les cellules dans l’ordre. Il est donc recommander d’effectuer cette opération de temps en temps pour vérifier que tout se valide bien."
   ]
  },
  {
   "cell_type": "markdown",
   "metadata": {},
   "source": [
    "## Cellule Markdown\n",
    "Voici une cellule qui aurait dû être considérée comme du texte, mais qui est enregistrée comme du code.\n",
    "Changez le type de cellule pour « Markdown » à la place de « Code », vous verrez alors un changement dans la coloration syntaxique.\n",
    "\n",
    "Modifiez son contenu à votre convenance et évaluez-la.\n",
    "### TP du binôme composé de Ada Lovelace et Alan Turing — Groupe 12."
   ]
  },
  {
   "cell_type": "code",
   "execution_count": 2,
   "metadata": {},
   "outputs": [
    {
     "data": {
      "text/plain": [
       "156"
      ]
     },
     "execution_count": 2,
     "metadata": {},
     "output_type": "execute_result"
    }
   ],
   "source": [
    "# Ici, une cellule de code en python. Les commentaires commencent par un croisillon #.\n",
    "a = 12\n",
    "a**2 + 12 # L'opérateur puissance s'écrit **\n",
    "# La cellule peut paraître déjà évaluée, mais ce n’est pas le cas.\n",
    "# Les résultats des précédentes évaluations (avant l’ouverture du notebook) restent affichés.\n",
    "# Mais si la cellule n’est pas validée de nouveau, la variable a ne sera pas affectée."
   ]
  },
  {
   "cell_type": "markdown",
   "metadata": {},
   "source": [
    "Voici enfin une cellule Markdown déjà validée. Double-cliquez pour pouvoir l’éditer et voir la syntaxe.\n",
    "Dans le balisage [Markdown](http://fr.wikipedia.org/wiki/Markdown) (comme pour cette cellule), on peut mettre le texte en forme simplement, en *italique*, ou en **gras**.\n",
    "On peut faire\n",
    "\n",
    "+ des listes\n",
    "+ des listes numérotées :\n",
    "     1. Des équations\n",
    "     2. Des [liens](http://fr.wikipedia.org/wiki/Markdown)\n",
    "\n",
    "Les équations peuvent être directement données au format $\\LaTeX$, on peut donc par exemple écrire $x_i$ au milieu d’une ligne en utilisant `$`, ou bien écrire des équations plus complètes en utilisant `$$` :\n",
    "\n",
    "$$\\sum_{n=1}^{\\infty}\\frac1{n^2}=\\frac{\\pi^2}6. $$\n",
    "\n",
    "Modifiez cette formule pour en mettre une autre (pas forcément juste mathématiquement, mais qui utilise au moins une lettre grecque et une fraction).\n",
    "\n",
    "Quelques commandes $\\LaTeX$ de base sont expliquées sur [cette page](http://www.tuteurs.ens.fr/logiciels/latex/maths.html#s2), et pour plus de détails, vous pourrez consulter la traduction de « A not so short introduction to $\\LaTeX2e$ », disponible [ici](http://zelmanov.ptep-online.com/ctan/lshort_french.pdf), en particulier le chapitre 3."
   ]
  },
  {
   "cell_type": "markdown",
   "metadata": {},
   "source": [
    "**(d)** Prise en main avancée : Utilisez les menus *Help → User Interface Tour* et *Help → Keyboard Shortcuts* pour une utilisation au clavier. On peut naviguer entre les cellules avec les flèches, et utiliser un grand nombre de raccourcis en mode *Commandes* (utiliser **Échap** pour passer en mode *Commandes* ou **Entrée** pour le mode *Édition*). "
   ]
  },
  {
   "cell_type": "markdown",
   "metadata": {},
   "source": [
    "# 2. Langage Python: syntaxe de base et opérations élémentaires\n",
    "\n",
    "**(a)** On considère les vecteurs et matrices suivants\n",
    "$$\n",
    "\\vec{l}=\n",
    "\\begin{pmatrix}\n",
    " 1 & 2 & 3\n",
    "\\end{pmatrix},\\ \n",
    "\\vec{c}=\n",
    "\\begin{pmatrix}\n",
    " 3 \\\\ 4 \\\\ 5\n",
    "\\end{pmatrix},\\\n",
    "A=\n",
    "\\begin{pmatrix}\n",
    "1 & 2 & 0 \\\\\n",
    "0 & 1 & 2 \\\\\n",
    "0 & 2 & 1 \\\\\n",
    "\\end{pmatrix},\\ \n",
    "B=\n",
    "\\begin{pmatrix}\n",
    "-3 & 5 & 0 \\\\\n",
    "0 & 7 & 2 \\\\\n",
    "0 & -2 & 1 \\\\\n",
    "\\end{pmatrix}\n",
    ".\n",
    "$$\n",
    "*(a1)* Créer des tableaux correspondants à $\\vec{l}$, $\\vec{c}$, $A$ et $B$.\n",
    "\n",
    "*(a2)* Extraire la deuxième composante de $\\vec{l}$. Extraire la première ligne, la deuxième colonne et la sous-matrice $(a_{ij})_{2\\leq i\\leq3,2\\leq j\\leq3}$ de la matrice $A$. Extraire les termes diagonaux de $A$.\n",
    "\n",
    "*(a3)* En utilisant la commande $\\texttt{print()}$, déterminer le résultat produit par les instructions suivantes~:\n",
    "  - $\\texttt{l.shape},\\ \\texttt{A.shape},\\ \\texttt{A.shape[0]},\\ ,\\ \\texttt{A.shape[1]}$\n",
    "  - $\\texttt{l*c},\\ \\texttt{sum(l*c)},\\ \\texttt{dot(l,c)}$\n",
    "  - $\\texttt{norm(l)},\\ \\texttt{norm(l,ord=1)},\\ \\texttt{norm(l,ord=inf)}$\n",
    "  - $\\texttt{A*B},\\ \\texttt{A*l},\\ \\texttt{A**2}\\ ,\\texttt{dot(A,l)},\\ \\texttt{dot(A,B)}$\n",
    "  - $\\texttt{A.T},\\ \\texttt{inv(A)},\\ \\texttt{det(A)},\\ \\text{matrix_rank(A)},\\ \\texttt{[v,V]=eig(A)},\\ \\texttt{solve(A,l)}$\n",
    "  \n",
    "**(b)** Il existe certaines commandes qui permettent de générer rapidement des vecteurs ou matrices particulières. Étudier le résultat produit par les instructions suivantes:\n",
    "  - r=linspace(0,2*pi,100)\n",
    "  - w=sin(r)\n",
    "  - Id=eye(3)\n",
    "  - u=zeros(5) et U=zeros((3,4))\n",
    "  - u=ones(5) et U=ones((3,4))\n",
    "  - d=array([1,2,3]) et D=diag(d)\n",
    "  - n=5; r=0.3; A=eye(n);\n",
    "    i,j = np.indices(A.shape);\n",
    "    A[i==j-1]=r;\n",
    "    A[i==j+1]=r;\n",
    "    A[i==j-2]=r\\*\\*2;\n",
    "    A[i==j+2]=r\\*\\*2;\n",
    "    "
   ]
  },
  {
   "cell_type": "code",
   "execution_count": 3,
   "metadata": {},
   "outputs": [],
   "source": [
    "# REMARQUE GENERALE:\n",
    "# Pour ne pas compliquer le codage, on ajoutera au début de chaque programme la commande \"%pylab inline\"\n",
    "# qui importera toutes les librairies nécessaires à nos besoins\n",
    "\n",
    "# REMARQUE IMPORTANTE À DIRE AUX ETUDIANTS:\n",
    "# Pour les vecteurs lignes ou colonnes, on travaillera avec des objets de type array.\n",
    "# En fonction de l'opération que l'on souhaite réaliser, Python interprétera les array comme des vecteurs ligne\n",
    "# ou colonne. Il faut donc savoir comment chaque commande va interpréter l'array. Ceci est, dans la pratique,\n",
    "# très simple comme on essaye de montrer avec cet exercice."
   ]
  },
  {
   "cell_type": "code",
   "execution_count": 4,
   "metadata": {},
   "outputs": [
    {
     "name": "stdout",
     "output_type": "stream",
     "text": [
      "Populating the interactive namespace from numpy and matplotlib\n"
     ]
    }
   ],
   "source": [
    "# On commence toujours par charger les librairies.\n",
    "%pylab inline"
   ]
  },
  {
   "cell_type": "code",
   "execution_count": 5,
   "metadata": {},
   "outputs": [],
   "source": [
    "# Réponse question (a1)\n",
    "l=array([1,2,3])\n",
    "c=array([1,2,3]) # Python ne distingue pas entre les vecteurs lignes et colonne. Ce sont les fonctions qui prennent\n",
    "                 # ces array en entrée qui les interpréteront comme des vecteurs ligne ou colonne\n",
    "A=array([ [1,2,0],[0,1,2],[0,2,1] ])   # Matrice: array of arrays\n",
    "B=array([ [-3,5,0],[0,7,2],[0,-2,1] ]) # Matrice: array of arrays\n",
    "\n",
    "# Réponse question (a2)\n",
    "l[1]       # L'indexation commence à 0 en Python\n",
    "A[0,:]     # Première ligne de A\n",
    "A[:,1]     # Deuxième colonne de A\n",
    "A[1:3,1:3] # Sous-matrice demandée. Attention aux indices! La commande m:n va de m jusqu'à n-1\n",
    "diag(A)    # L'output est un array\n",
    "\n",
    "# Réponse question (a3)\n",
    "l.shape    # Forme de l\n",
    "A.shape    # Forme de A: nombre de lignes et de colonnes dans un array\n",
    "A.shape[0] # Nombre de lignes\n",
    "A.shape[1] # Nombre de colonnes\n",
    "\n",
    "l*c      # Produit terme à terme\n",
    "sum(l*c) # Produit scalaire entre l et c\n",
    "dot(l,c) # Produit scalaire\n",
    "\n",
    "norm(l)         # Norme 2\n",
    "norm(l,ord=1)   # Norme 1\n",
    "norm(l,ord=inf) # Norme infini\n",
    "\n",
    "A*B      # Produit d'Hadamard = produit terme à terme. Ce n'est pas la multiplication usuelle de matrices!\n",
    "A*l      # Produit terme à terme\n",
    "A**2     # Produit terme à terme\n",
    "dot(A,l) # Produit matrice vecteur\n",
    "dot(A,B) # Produit de matrices\n",
    "\n",
    "A.T                # Tranposée de A\n",
    "inv(A)             # Inverse de A\n",
    "det(A)             # Déterminant\n",
    "matrix_rank(A)     # Rang\n",
    "[v,V]=eig(A)       # v -> Array avec les valeurs propres. V -> Matrice de vecteurs propres associés\n",
    "solve(A,l)         # Résolution de Ax=l\n",
    "\n",
    "# Réponse question (b)\n",
    "r=linspace(0,2*pi,100) # array avec 100 valeurs équiréparties entre 0 et 2*pi\n",
    "w=sin(r)               # array avec valeur de sinus appliqué à toutes les valeurs de r\n",
    "Id=eye(3)              # Matrice identité de taille 3\n",
    "u=zeros(5)             # array avec 5 zéros\n",
    "U=zeros((3,4))         # Matrice 3x4 de zéros\n",
    "u=ones(5)              # array avec 5 uns\n",
    "U=ones((3,4))          # Matrice 3x4 de uns\n",
    "d=array([1,2,3])       \n",
    "D=diag(d)              # Matrice avec les valeurs de d sur la diagonale"
   ]
  },
  {
   "cell_type": "markdown",
   "metadata": {},
   "source": [
    "# 3. Représentation graphique d'une fonction\n",
    "**(a)** À l'aide de la fonction plot, représenter graphiquement la fonction\n",
    "$$\n",
    "f(x)=e^{-x}sin(x),\\quad x\\in[0,2\\pi]\n",
    "$$\n",
    "Pour cela, on pourra:\n",
    "\n",
    "*1)* Créer un vecteur $x$ de $n$ valeurs allant de xmin à xmax à l'aide de la commande \n",
    "$$\n",
    "\\texttt{x=linspace(xmin,xmax,num=n,endpoint=True)}\n",
    "$$\n",
    "\n",
    "*2)* Créer un vecteur $\\texttt{y=exp(-x)*sin(x)}$ pour obtenir les valeurs de $f(x)$ aux points donnés par $x$.\n",
    "\n",
    "*3)* Une fois $x$ et $y$ créés, on peut tracer la courbe graphiquement à l'aide de la commande\n",
    "$$\n",
    "\\texttt{fig=figure()} \\\\\n",
    "\\texttt{plot(x,y)}\n",
    "$$\n",
    "\n",
    "*4)* Rajouter au graphique la fonction\n",
    "$$\n",
    "g(x)=sin(x)/arctan(x+1),\\quad x\\in[0,2\\pi]\n",
    "$$\n",
    "ou bien inventez une fonction en utilisant les fonctions de référence $\\texttt{cos, sin, tan, arccos, arcsin, arctan, exp, log}$.\n",
    "\n",
    "*5)* Mettre un titre général, un  titre pour les axes des abscisses et ordonées à l'aide des commandes\n",
    "$$\n",
    "\\texttt{title('mon titre')}\\\\\n",
    "\\texttt{xlabel('titre abscisses')}\\\\\n",
    "\\texttt{ylabel('titre pour ordonées')}\n",
    "$$\n",
    "Ajouter à la commande $\\texttt{plot}$ l'attribut $\\texttt{label='nom_de_la_courbe'}$ pour chacune des courbes. Par exemple, si on trace la fonction tangente, on peut mettre\n",
    "$$\n",
    "\\texttt{plot(x,y,label='tan')}\n",
    "$$\n",
    "Ajouter une légende au graphique avec la commande $\\texttt{legend()}$."
   ]
  },
  {
   "cell_type": "code",
   "execution_count": 6,
   "metadata": {
    "scrolled": true
   },
   "outputs": [
    {
     "data": {
      "text/plain": [
       "<matplotlib.legend.Legend at 0x7f9280795518>"
      ]
     },
     "execution_count": 6,
     "metadata": {},
     "output_type": "execute_result"
    },
    {
     "data": {
      "image/png": "[encoded data removed]",
      "text/plain": [
       "<Figure size 432x288 with 1 Axes>"
      ]
     },
     "metadata": {},
     "output_type": "display_data"
    }
   ],
   "source": [
    "n=100\n",
    "xmin=0\n",
    "xmax=2*pi\n",
    "x=linspace(xmin,xmax,num=n,endpoint=True)\n",
    "f=exp(-x)*sin(4*x)\n",
    "g=sin(x)/arctan(x+1)\n",
    "\n",
    "fig = figure()\n",
    "plot(x,f,label='f(x)')\n",
    "plot(x,g,label='g(x)')\n",
    "legend()"
   ]
  },
  {
   "cell_type": "markdown",
   "metadata": {},
   "source": [
    "# 4. Suite de Fibonacci: Rappels boucles et construction de fonctions\n",
    "**(a)** Écrire une boucle calculant les valeurs des vingt premiers termes de la suite de Fibonacci définie par\n",
    "$$\n",
    "u^{(0)}=0,\\ u^{(1)}=1\\text{ et},\\ \\forall k\\in\\mathbb{N},\\ u^{(k+2)}=u^{(k+1)}+u^{(k)},\n",
    "$$\n",
    "et conservant ces valeurs dans un tableau.\n",
    "\n",
    "**(b)** Écrire une boucle calculant les termes successifs de la suite de Fibonacci dont la valeur est inférieure ou égale à $50000$ et afficher le dernier de ces termes.\n",
    "\n",
    "**(c)** Écrire enfin une fonction $\\texttt{fibonacci(n)}$ calculant de manière itérative le terme d'indice $n$ de la suite de Fibonacci, sans toutefois conserver les valeurs de tous les termes de la suite."
   ]
  },
  {
   "cell_type": "code",
   "execution_count": 7,
   "metadata": {},
   "outputs": [
    {
     "name": "stdout",
     "output_type": "stream",
     "text": [
      "[0, 1, 1, 2, 3, 5, 8, 13, 21, 34, 55, 89, 144, 233, 377, 610, 987, 1597, 2584, 4181]\n"
     ]
    }
   ],
   "source": [
    "# Réponse question a)\n",
    "N=20\n",
    "u=[0]*N # vecteur de taille n avec entrees egales a 0\n",
    "u[0]=0\n",
    "u[1]=1\n",
    "for n in range(2,N): # range(1,N) va de 1 jusqu'a N-1\n",
    "    u[n]=u[n-1]+u[n-2]\n",
    "print(u)\n",
    "\n",
    "    \n",
    "\n",
    "\n"
   ]
  },
  {
   "cell_type": "code",
   "execution_count": 8,
   "metadata": {},
   "outputs": [
    {
     "name": "stdout",
     "output_type": "stream",
     "text": [
      "Dernier terme inférieur ou égal à 4 : 3\n"
     ]
    }
   ],
   "source": [
    "# Réponse question b)\n",
    "umax=4\n",
    "u0=0\n",
    "u1=1\n",
    "u2=u1+u0\n",
    "while u2<umax:\n",
    "    u0=u1\n",
    "    u1=u2\n",
    "    if u1+u0>umax: break\n",
    "    else: u2=u1+u0\n",
    "        \n",
    "print('Dernier terme inférieur ou égal à', umax, ':', u2)"
   ]
  },
  {
   "cell_type": "code",
   "execution_count": 9,
   "metadata": {},
   "outputs": [
    {
     "name": "stdout",
     "output_type": "stream",
     "text": [
      "8\n"
     ]
    }
   ],
   "source": [
    "# Réponse question c)\n",
    "\n",
    "# Fonction\n",
    "def fibonacci(n):\n",
    "    if n==0: return 0\n",
    "    if n==1: return 1\n",
    "    if n>1:\n",
    "        u0=0\n",
    "        u1=1\n",
    "        u2=u1+u0\n",
    "        for i in range(2,n):\n",
    "            u0=u1\n",
    "            u1=u2\n",
    "            u2=u1+u0\n",
    "        return u2\n",
    "\n",
    "# Programme principal\n",
    "n=6\n",
    "y=fibonacci(n)\n",
    "print(y)\n",
    "        \n",
    "        \n",
    "    "
   ]
  },
  {
   "cell_type": "code",
   "execution_count": null,
   "metadata": {},
   "outputs": [],
   "source": []
  },
  {
   "cell_type": "code",
   "execution_count": null,
   "metadata": {},
   "outputs": [],
   "source": []
  }
 ],
 "metadata": {
  "kernelspec": {
   "display_name": "Python 3",
   "language": "python",
   "name": "python3"
  },
  "language_info": {
   "codemirror_mode": {
    "name": "ipython",
    "version": 3
   },
   "file_extension": ".py",
   "mimetype": "text/x-python",
   "name": "python",
   "nbconvert_exporter": "python",
   "pygments_lexer": "ipython3",
   "version": "3.6.5"
  }
 },
 "nbformat": 4,
 "nbformat_minor": 1
}
