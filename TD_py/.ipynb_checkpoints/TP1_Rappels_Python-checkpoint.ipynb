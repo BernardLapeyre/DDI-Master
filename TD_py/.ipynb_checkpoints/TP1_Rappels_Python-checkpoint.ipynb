{
 "cells": [
  {
   "cell_type": "markdown",
   "metadata": {},
   "source": [
    "# 1. Langage Python: syntaxe de base et opérations élémentaires\n",
    "\n",
    "**(a)** On considère les vecteurs et matrices suivants\n",
    "$$\n",
    "\\vec{l}=\n",
    "\\begin{pmatrix}\n",
    " 1 & 2 & 3\n",
    "\\end{pmatrix},\\ \n",
    "\\vec{c}=\n",
    "\\begin{pmatrix}\n",
    " 3 \\\\ 4 \\\\ 5\n",
    "\\end{pmatrix},\\\n",
    "A=\n",
    "\\begin{pmatrix}\n",
    "1 & 2 & 0 \\\\\n",
    "0 & 1 & 2 \\\\\n",
    "0 & 2 & 1 \\\\\n",
    "\\end{pmatrix},\\ \n",
    "B=\n",
    "\\begin{pmatrix}\n",
    "-3 & 5 & 0 \\\\\n",
    "0 & 7 & 2 \\\\\n",
    "0 & -2 & 1 \\\\\n",
    "\\end{pmatrix}\n",
    ".\n",
    "$$\n",
    "*(a1)* Créer des tableaux correspondants à $\\vec{l}$, $\\vec{c}$, $A$ et $B$.\n",
    "\n",
    "*(a2)* Extraire la deuxième composante de $\\vec{l}$. Extraire la première ligne, la deuxième colonne et la sous-matrice $(a_{ij})_{2\\leq i\\leq3,2\\leq j\\leq3}$ de la matrice $A$. Extraire les termes diagonaux de $A$.\n",
    "\n",
    "*(a3)* En utilisant la commande $\\texttt{print()}$, déterminer le résultat produit par les instructions suivantes~:\n",
    "  - $\\texttt{l.shape},\\ \\texttt{A.shape},\\ \\texttt{A.shape[0]},\\ ,\\ \\texttt{A.shape[1]}$\n",
    "  - $\\texttt{l*c},\\ \\texttt{sum(l*c)},\\ \\texttt{dot(l,c)}$\n",
    "  - $\\texttt{norm(l)},\\ \\texttt{norm(l,ord=1)},\\ \\texttt{norm(l,ord=inf)}$\n",
    "  - $\\texttt{A*B},\\ \\texttt{A*l},\\ \\texttt{A**2}\\ ,\\texttt{dot(A,l)},\\ \\texttt{dot(A,B)}$\n",
    "  - $\\texttt{A.T},\\ \\texttt{inv(A)},\\ \\texttt{det(A)},\\ \\text{matrix_rank(A)},\\ \\texttt{[v,V]=eig(A)},\\ \\texttt{solve(A,l)}$\n",
    "  \n",
    "**(b)** Il existe certaines commandes qui permettent de générer rapidement des vecteurs ou matrices particulières. Étudier le résultat produit par les instructions suivantes:\n",
    "  - r=linspace(0,2*pi,100)\n",
    "  - w=sin(r)\n",
    "  - Id=eye(3)\n",
    "  - u=zeros(5) et U=zeros((3,4))\n",
    "  - u=ones(5) et U=ones((3,4))\n",
    "  - d=array([1,2,3]) et D=diag(d)\n",
    "  - n=5; r=0.3; A=eye(n);\n",
    "    i,j = np.indices(A.shape);\n",
    "    A[i==j-1]=r;\n",
    "    A[i==j+1]=r;\n",
    "    A[i==j-2]=r\\*\\*2;\n",
    "    A[i==j+2]=r\\*\\*2;\n",
    "    "
   ]
  },
  {
   "cell_type": "code",
   "execution_count": 1,
   "metadata": {},
   "outputs": [],
   "source": [
    "# REMARQUE GENERALE:\n",
    "# Pour ne pas compliquer le codage, on ajoutera au début de chaque programme la commande \"%pylab inline\"\n",
    "# qui importera toutes les librairies nécessaires à nos besoins\n",
    "\n",
    "# REMARQUE IMPORTANTE À DIRE AUX ETUDIANTS:\n",
    "# Pour les vecteurs lignes ou colonnes, on travaillera avec des objets de type array.\n",
    "# En fonction de l'opération que l'on souhaite réaliser, Python interprétera les array comme des vecteurs ligne\n",
    "# ou colonne. Il faut donc savoir comment chaque commande va interpréter l'array. Ceci est, dans la pratique,\n",
    "# très simple comme on essaye de montrer avec cet exercice."
   ]
  },
  {
   "cell_type": "code",
   "execution_count": 7,
   "metadata": {},
   "outputs": [
    {
     "name": "stdout",
     "output_type": "stream",
     "text": [
      "Populating the interactive namespace from numpy and matplotlib\n"
     ]
    }
   ],
   "source": [
    "# On commence toujours par charger les librairies.\n",
    "%pylab inline\n",
    "A=zeros((2,2))"
   ]
  },
  {
   "cell_type": "markdown",
   "metadata": {},
   "source": [
    "# 2. Représentation graphique d'une fonction\n",
    "**(a)** À l'aide de la fonction plot, représenter graphiquement la fonction\n",
    "$$\n",
    "f(x)=e^{-x}sin(x),\\quad x\\in[0,2\\pi]\n",
    "$$\n",
    "Pour cela, on pourra:\n",
    "\n",
    "*1)* Créer un vecteur $x$ de $n$ valeurs allant de xmin à xmax à l'aide de la commande \n",
    "$$\n",
    "\\texttt{x=linspace(xmin,xmax,num=n,endpoint=True)}\n",
    "$$\n",
    "\n",
    "*2)* Créer un vecteur $\\texttt{y=exp(-x)*sin(x)}$ pour obtenir les valeurs de $f(x)$ aux points donnés par $x$.\n",
    "\n",
    "*3)* Une fois $x$ et $y$ créés, on peut tracer la courbe graphiquement à l'aide de la commande\n",
    "$$\n",
    "\\texttt{fig=figure()} \\\\\n",
    "\\texttt{plot(x,y)}\n",
    "$$\n",
    "\n",
    "*4)* Rajouter au graphique la fonction\n",
    "$$\n",
    "g(x)=sin(x)/arctan(x+1),\\quad x\\in[0,2\\pi]\n",
    "$$\n",
    "ou bien inventez une fonction en utilisant les fonctions de référence $\\texttt{cos, sin, tan, arccos, arcsin, arctan, exp, log}$.\n",
    "\n",
    "*5)* Mettre un titre général, un  titre pour les axes des abscisses et ordonées à l'aide des commandes\n",
    "$$\n",
    "\\texttt{title('mon titre')}\\\\\n",
    "\\texttt{xlabel('titre abscisses')}\\\\\n",
    "\\texttt{ylabel('titre pour ordonées')}\n",
    "$$\n",
    "Ajouter à la commande $\\texttt{plot}$ l'attribut $\\texttt{label='nom_de_la_courbe'}$ pour chacune des courbes. Par exemple, si on trace la fonction tangente, on peut mettre\n",
    "$$\n",
    "\\texttt{plot(x,y,label='tan')}\n",
    "$$\n",
    "Ajouter une légende au graphique avec la commande $\\texttt{legend()}$."
   ]
  },
  {
   "cell_type": "code",
   "execution_count": null,
   "metadata": {
    "collapsed": true
   },
   "outputs": [],
   "source": []
  },
  {
   "cell_type": "markdown",
   "metadata": {},
   "source": [
    "# 3. Suite de Fibonacci: Rappels boucles et construction de fonctions\n",
    "**(a)** Écrire une boucle calculant les valeurs des vingt premiers termes de la suite de Fibonacci définie par\n",
    "$$\n",
    "u^{(0)}=0,\\ u^{(1)}=1\\text{ et},\\ \\forall k\\in\\mathbb{N},\\ u^{(k+2)}=u^{(k+1)}+u^{(k)},\n",
    "$$\n",
    "et conservant ces valeurs dans un tableau.\n",
    "\n",
    "**(b)** Écrire une boucle calculant les termes successifs de la suite de Fibonacci dont la valeur est inférieure ou égale à $50000$ et afficher le dernier de ces termes.\n",
    "\n",
    "**(c)** Écrire enfin une fonction $\\texttt{fibonacci(n)}$ calculant de manière itérative le terme d'indice $n$ de la suite de Fibonacci, sans toutefois conserver les valeurs de tous les termes de la suite."
   ]
  },
  {
   "cell_type": "code",
   "execution_count": null,
   "metadata": {
    "collapsed": true
   },
   "outputs": [],
   "source": []
  }
 ],
 "metadata": {
  "kernelspec": {
   "display_name": "Python 2",
   "language": "python",
   "name": "python2"
  },
  "language_info": {
   "codemirror_mode": {
    "name": "ipython",
    "version": 2
   },
   "file_extension": ".py",
   "mimetype": "text/x-python",
   "name": "python",
   "nbconvert_exporter": "python",
   "pygments_lexer": "ipython2",
   "version": "2.7.15rc1"
  }
 },
 "nbformat": 4,
 "nbformat_minor": 1
}
