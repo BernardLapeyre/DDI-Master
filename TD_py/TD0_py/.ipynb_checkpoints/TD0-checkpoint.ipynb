{
 "cells": [
  {
   "cell_type": "markdown",
   "metadata": {},
   "source": [
    "$\\newcommand\\indi[1]{{\\mathbf 1}_{\\displaystyle #1}}$\n",
    "$\\newcommand\\inde[1]{{\\mathbf 1}_{\\displaystyle\\left\\{ #1 \\right\\}}}$\n",
    "$\\newcommand{\\ind}{\\inde}$\n",
    "$\\newcommand\\E{{\\mathbf E}}$\n",
    "$\\newcommand\\P{{\\mathbf P}}$\n",
    "$\\newcommand\\Cov{{\\mathrm Cov}}$\n",
    "$\\newcommand\\Var{{\\mathrm Var}}$"
   ]
  },
  {
   "cell_type": "markdown",
   "metadata": {},
   "source": [
    "# La question à résoudre"
   ]
  },
  {
   "cell_type": "markdown",
   "metadata": {},
   "source": [
    " On place deux oeufs \"au hasard\" dans une matrice $p\\times q$. On\n",
    " considère deux joueurs ($A$ et $B$).  Le joueur $A$ parcours la\n",
    " matrice en colonne, le joueur $B$ en ligne. Le gagnant est celui qui\n",
    " atteint le premier l'un des deux oeufs. La question est de savoir si\n",
    " ce jeu est équitable (i.e. les deux joueurs ont ils la même\n",
    " probabilité de gagner ?) et de déterminer, si ce n'est pas le cas,\n",
    " lequel a un avantage.\n",
    "  \n",
    "On trouvera la réponse à cette question lorsque $p=3$ et $q=4$ sur le\n",
    "site de la NSA.  Nous verrons que l'on peut répondre très simplement\n",
    "à ces questions à l'aide d'un programme de quelques lignes pour une valeur\n",
    "arbitraire de $p$ et $q$. \n",
    "\n",
    "Les réponses dépendent des\n",
    "valeurs de $p$ et $q$ de façon surprenante~: elles sont différentes\n",
    "pour $(p=3,q=4)$, $(p=4,q=4)$ et $(p=4,q=5)$!"
   ]
  },
  {
   "cell_type": "markdown",
   "metadata": {},
   "source": [
    "## Étude de la question posée par une méthode de Monte-Carlo"
   ]
  },
  {
   "cell_type": "markdown",
   "metadata": {},
   "source": [
    "On commence par traiter la question par simulation. On suppose (ce qui\n",
    "est implicite dans la formulation du problème) que les $2$ oeufs\n",
    "sont placés, indépendamment, uniformément sur les $p\\times q$ cases de\n",
    "la matrice. Il peut donc arriver que les $2$ oeufs soient au même\n",
    "endroit (à vrai dire le problème ne précise pas ce détail), mais on\n",
    "verra que cela n'a pas d'importance pour la réponse à la question posée."
   ]
  },
  {
   "cell_type": "markdown",
   "metadata": {},
   "source": [
    "### Simulation d'une loi discrète"
   ]
  },
  {
   "cell_type": "markdown",
   "metadata": {},
   "source": [
    "On cherche à réaliser un tirage selon la loi d'une variable aléatoire $N$ qui prend ses valeurs \n",
    "dans $\\{1,\\ldots,n\\}$ dont la loi donnée par le vecteur $(P[k-1],1\\leq k \\leq n)$.\n",
    "\n",
    "<span style=\"color:blue\">\n",
    "    Lorsque la loi est uniforme sur $\\{1,\\ldots,n\\}$, on peut\n",
    "vérifier (exercice) que $\\E(N)=\\frac{n+1}{2}$ et $\\Var(N)=\\frac{(n+1)(n-1)}{12}$.</span> "
   ]
  },
  {
   "cell_type": "code",
   "execution_count": 1,
   "metadata": {},
   "outputs": [
    {
     "ename": "TypeError",
     "evalue": "int() argument must be a string, a bytes-like object or a number, not 'NoneType'",
     "output_type": "error",
     "traceback": [
      "\u001b[0;31m---------------------------------------------------------------------------\u001b[0m",
      "\u001b[0;31mTypeError\u001b[0m                                 Traceback (most recent call last)",
      "\u001b[0;32m<ipython-input-1-75cc26737bd8>\u001b[0m in \u001b[0;36m<module>\u001b[0;34m()\u001b[0m\n\u001b[1;32m     19\u001b[0m \u001b[0mX\u001b[0m\u001b[0;34m=\u001b[0m\u001b[0mnp\u001b[0m\u001b[0;34m.\u001b[0m\u001b[0mzeros\u001b[0m\u001b[0;34m(\u001b[0m\u001b[0;36m1000\u001b[0m\u001b[0;34m,\u001b[0m\u001b[0mdtype\u001b[0m\u001b[0;34m=\u001b[0m\u001b[0mint\u001b[0m\u001b[0;34m)\u001b[0m \u001b[0;31m# dtype=int pour indiquer que le tableau est constitué d'entier\u001b[0m\u001b[0;34m\u001b[0m\u001b[0;34m\u001b[0m\u001b[0m\n\u001b[1;32m     20\u001b[0m \u001b[0;32mfor\u001b[0m \u001b[0mi\u001b[0m \u001b[0;32min\u001b[0m \u001b[0mrange\u001b[0m\u001b[0;34m(\u001b[0m\u001b[0;36m1000\u001b[0m\u001b[0;34m)\u001b[0m\u001b[0;34m:\u001b[0m\u001b[0;34m\u001b[0m\u001b[0;34m\u001b[0m\u001b[0m\n\u001b[0;32m---> 21\u001b[0;31m     \u001b[0mX\u001b[0m\u001b[0;34m[\u001b[0m\u001b[0mi\u001b[0m\u001b[0;34m]\u001b[0m\u001b[0;34m=\u001b[0m\u001b[0mrand_disc\u001b[0m\u001b[0;34m(\u001b[0m\u001b[0mP\u001b[0m\u001b[0;34m)\u001b[0m\u001b[0;34m\u001b[0m\u001b[0;34m\u001b[0m\u001b[0m\n\u001b[0m\u001b[1;32m     22\u001b[0m \u001b[0mprint\u001b[0m\u001b[0;34m(\u001b[0m\u001b[0;34m\"moyenne empirique:\"\u001b[0m\u001b[0;34m,\u001b[0m\u001b[0mnp\u001b[0m\u001b[0;34m.\u001b[0m\u001b[0mmean\u001b[0m\u001b[0;34m(\u001b[0m\u001b[0mX\u001b[0m\u001b[0;34m)\u001b[0m\u001b[0;34m,\u001b[0m\u001b[0;34m\" - moyenne attendue \"\u001b[0m\u001b[0;34m,\u001b[0m\u001b[0;34m(\u001b[0m\u001b[0mn\u001b[0m\u001b[0;34m+\u001b[0m\u001b[0;36m1\u001b[0m\u001b[0;34m)\u001b[0m\u001b[0;34m/\u001b[0m\u001b[0;36m2\u001b[0m\u001b[0;34m)\u001b[0m \u001b[0;31m# np.mean calcule moyenne des tirages\u001b[0m\u001b[0;34m\u001b[0m\u001b[0;34m\u001b[0m\u001b[0m\n\u001b[1;32m     23\u001b[0m \u001b[0mprint\u001b[0m\u001b[0;34m(\u001b[0m\u001b[0;34m\"variance:\"\u001b[0m\u001b[0;34m,\u001b[0m\u001b[0mnp\u001b[0m\u001b[0;34m.\u001b[0m\u001b[0mvar\u001b[0m\u001b[0;34m(\u001b[0m\u001b[0mX\u001b[0m\u001b[0;34m)\u001b[0m\u001b[0;34m,\u001b[0m\u001b[0;34m\" - variance attendue \"\u001b[0m\u001b[0;34m,\u001b[0m\u001b[0;34m(\u001b[0m\u001b[0mn\u001b[0m\u001b[0;34m+\u001b[0m\u001b[0;36m1\u001b[0m\u001b[0;34m)\u001b[0m\u001b[0;34m*\u001b[0m\u001b[0;34m(\u001b[0m\u001b[0mn\u001b[0m\u001b[0;34m-\u001b[0m\u001b[0;36m1\u001b[0m\u001b[0;34m)\u001b[0m\u001b[0;34m/\u001b[0m\u001b[0;36m12\u001b[0m\u001b[0;34m)\u001b[0m \u001b[0;31m# np.var la variance des tirages\u001b[0m\u001b[0;34m\u001b[0m\u001b[0;34m\u001b[0m\u001b[0m\n",
      "\u001b[0;31mTypeError\u001b[0m: int() argument must be a string, a bytes-like object or a number, not 'NoneType'"
     ]
    }
   ],
   "source": [
    "import random;\n",
    "import numpy as np;\n",
    "import math\n",
    "\n",
    "def rand_disc(P):\n",
    "# P est une loi discrète qui charge les entiers 1,...,p\n",
    "# le vecteur P[i-1],pour i=1,...,p donne la probabilité d'obtenir i .\n",
    "# Il est décalé de 1 pour tenir compte de la convention \"Python\"\n",
    "# de vecteur qui débute en 0.\n",
    "\n",
    "# Version itérative.\n",
    "    U=np.random.rand(1) # On tire selon une loi uniforme entre 0 et 1\n",
    "    # \"On inverse la fonction de répartition\" : voir cours du premier semestre.\n",
    "\n",
    "    ######  A vous de jouer  .....\n",
    "\n",
    "n=12\n",
    "P=np.ones(n)/n\n",
    "X=np.zeros(1000,dtype=int) # dtype=int pour indiquer que le tableau est constitué d'entier\n",
    "for i in range(1000):\n",
    "    X[i]=rand_disc(P)\n",
    "print(\"moyenne empirique:\",np.mean(X),\" - moyenne attendue \",(n+1)/2) # np.mean calcule moyenne des tirages\n",
    "print(\"variance:\",np.var(X),\" - variance attendue \",(n+1)*(n-1)/12) # np.var la variance des tirages"
   ]
  },
  {
   "cell_type": "code",
   "execution_count": 2,
   "metadata": {},
   "outputs": [
    {
     "ename": "TypeError",
     "evalue": "int() argument must be a string, a bytes-like object or a number, not 'NoneType'",
     "output_type": "error",
     "traceback": [
      "\u001b[0;31m---------------------------------------------------------------------------\u001b[0m",
      "\u001b[0;31mTypeError\u001b[0m                                 Traceback (most recent call last)",
      "\u001b[0;32m<ipython-input-2-c67a3e75cd24>\u001b[0m in \u001b[0;36m<module>\u001b[0;34m()\u001b[0m\n\u001b[1;32m     10\u001b[0m         \u001b[0mprint\u001b[0m\u001b[0;34m(\u001b[0m\u001b[0mX\u001b[0m\u001b[0;34m[\u001b[0m\u001b[0mi\u001b[0m\u001b[0;34m]\u001b[0m\u001b[0;34m,\u001b[0m \u001b[0mend\u001b[0m\u001b[0;34m=\u001b[0m\u001b[0;34m' '\u001b[0m\u001b[0;34m)\u001b[0m\u001b[0;34m\u001b[0m\u001b[0;34m\u001b[0m\u001b[0m\n\u001b[1;32m     11\u001b[0m \u001b[0;34m\u001b[0m\u001b[0m\n\u001b[0;32m---> 12\u001b[0;31m \u001b[0mtest_0\u001b[0m\u001b[0;34m(\u001b[0m\u001b[0;34m)\u001b[0m\u001b[0;34m\u001b[0m\u001b[0;34m\u001b[0m\u001b[0m\n\u001b[0m",
      "\u001b[0;32m<ipython-input-2-c67a3e75cd24>\u001b[0m in \u001b[0;36mtest_0\u001b[0;34m()\u001b[0m\n\u001b[1;32m      7\u001b[0m     \u001b[0mX\u001b[0m\u001b[0;34m=\u001b[0m\u001b[0mnp\u001b[0m\u001b[0;34m.\u001b[0m\u001b[0mzeros\u001b[0m\u001b[0;34m(\u001b[0m\u001b[0mN\u001b[0m\u001b[0;34m,\u001b[0m\u001b[0mdtype\u001b[0m\u001b[0;34m=\u001b[0m\u001b[0mint\u001b[0m\u001b[0;34m)\u001b[0m\u001b[0;34m\u001b[0m\u001b[0;34m\u001b[0m\u001b[0m\n\u001b[1;32m      8\u001b[0m     \u001b[0;32mfor\u001b[0m \u001b[0mi\u001b[0m \u001b[0;32min\u001b[0m \u001b[0mrange\u001b[0m\u001b[0;34m(\u001b[0m\u001b[0mN\u001b[0m\u001b[0;34m)\u001b[0m\u001b[0;34m:\u001b[0m \u001b[0;31m# N tirages uniformes sur |$\\{1,2,3\\}$|\u001b[0m\u001b[0;34m\u001b[0m\u001b[0;34m\u001b[0m\u001b[0m\n\u001b[0;32m----> 9\u001b[0;31m         \u001b[0mX\u001b[0m\u001b[0;34m[\u001b[0m\u001b[0mi\u001b[0m\u001b[0;34m]\u001b[0m \u001b[0;34m=\u001b[0m \u001b[0mrand_disc\u001b[0m\u001b[0;34m(\u001b[0m\u001b[0mP\u001b[0m\u001b[0;34m)\u001b[0m\u001b[0;34m\u001b[0m\u001b[0;34m\u001b[0m\u001b[0m\n\u001b[0m\u001b[1;32m     10\u001b[0m         \u001b[0mprint\u001b[0m\u001b[0;34m(\u001b[0m\u001b[0mX\u001b[0m\u001b[0;34m[\u001b[0m\u001b[0mi\u001b[0m\u001b[0;34m]\u001b[0m\u001b[0;34m,\u001b[0m \u001b[0mend\u001b[0m\u001b[0;34m=\u001b[0m\u001b[0;34m' '\u001b[0m\u001b[0;34m)\u001b[0m\u001b[0;34m\u001b[0m\u001b[0;34m\u001b[0m\u001b[0m\n\u001b[1;32m     11\u001b[0m \u001b[0;34m\u001b[0m\u001b[0m\n",
      "\u001b[0;31mTypeError\u001b[0m: int() argument must be a string, a bytes-like object or a number, not 'NoneType'"
     ]
    }
   ],
   "source": [
    "def test_0():\n",
    "# Un exemple de tirages uniformes sur |$\\{1,2,3\\}$|\n",
    "    p=3;\n",
    "    P=np.ones(p)/p;# loi uniforme sur |$\\{1,2,3\\}$|\n",
    "\n",
    "    N=10;\n",
    "    X=np.zeros(N,dtype=int)\n",
    "    for i in range(N): # N tirages uniformes sur |$\\{1,2,3\\}$|\n",
    "        X[i] = rand_disc(P)\n",
    "        print(X[i], end=' ')\n",
    "        \n",
    "test_0()"
   ]
  },
  {
   "cell_type": "markdown",
   "metadata": {},
   "source": [
    "### Simulation des temps d'atteinte"
   ]
  },
  {
   "cell_type": "markdown",
   "metadata": {},
   "source": [
    "On tire le premier ouf en $(U_1,V_1)$, $U_1$ (l'indice de ligne)\n",
    "et $V_1$ (l'indice de colonne) étant indépendantes, de loi uniforme\n",
    "respectivement sur $\\{1,\\ldots,p\\}$ et $\\{1,\\ldots,q\\}$. Si le premier\n",
    "oeuf se trouve en $(U_1,V_1)$, le temps d'atteinte de cet oeuf\n",
    "par $A$ (parcours en colonne) est donné par\n",
    "$$\n",
    "   t_1^A=(V_1-1) p+U_1,\n",
    "$$\n",
    "et, pour $B$ (parcours en ligne), par\n",
    "$$\n",
    "t_1^B=(U_1-1) q+V_1,\n",
    "$$\n",
    "avec des formules identiques pour le deuxième {\\oe}uf:\n",
    "$$\n",
    "t_2^A=(V_2-1) p+U_2,\\quad t_2^B=(U_2-1) q+V_2,\n",
    "$$ \n",
    "$U_2$ et $V_2$ étant indépendantes, toujours de lois uniformes,\n",
    "indépendantes du couple $(U_1,V_1)$.\n",
    "\n",
    "<span style=\"color:blue\">\n",
    "    Noter que l'on peut calculer la loi (commune) de $t_1^A$, $t_1^B$,\n",
    "$t_2^A$, $t_2^B$ (loi uniforme sur $\\{1,\\ldots,p\\times q\\}$) et\n",
    "montrer que $t_1^A$ s'obtient comme une fonction déterministe de\n",
    "$t_1^B$.\n",
    "</span> \n",
    "\n",
    "Avec ces éléments, il est facile d'écrire une fonction qui réalise le tirage\n",
    "des deux oeufs dans la matrice et d'en déduire les temps que mettent $A$\n",
    "et $B$ pour trouver le premier oeuf."
   ]
  },
  {
   "cell_type": "code",
   "execution_count": 3,
   "metadata": {},
   "outputs": [],
   "source": [
    "def random_times(p,q):\n",
    "# On simule selon des lois uniformes sur 1:p et 1:q\n",
    "# On en déduit les tirages de T_A et T_B\n",
    "\n",
    "    P=np.ones(p)/p;# Loi uniforme sur 1:p\n",
    "    Q=np.ones(q)/q;# Loi uniforme sur 1:q\n",
    "    i_1=rand_disc(P);j_1=rand_disc(Q);\n",
    "    i_2=rand_disc(P);j_2=rand_disc(Q);\n",
    "\n",
    "    # Calcul de T_A et T_B en fonction de (i_1,j_1) (i_2,j_2)\n",
    "    \n",
    "    ######  A vous de jouer  .....\n",
    "    \n",
    "    \n",
    "    return [T_A,T_B]"
   ]
  },
  {
   "cell_type": "code",
   "execution_count": 4,
   "metadata": {},
   "outputs": [
    {
     "ename": "NameError",
     "evalue": "name 'T_A' is not defined",
     "output_type": "error",
     "traceback": [
      "\u001b[0;31m---------------------------------------------------------------------------\u001b[0m",
      "\u001b[0;31mNameError\u001b[0m                                 Traceback (most recent call last)",
      "\u001b[0;32m<ipython-input-4-0e28ad639cf9>\u001b[0m in \u001b[0;36m<module>\u001b[0;34m()\u001b[0m\n\u001b[0;32m----> 1\u001b[0;31m \u001b[0mrandom_times\u001b[0m\u001b[0;34m(\u001b[0m\u001b[0;36m2\u001b[0m\u001b[0;34m,\u001b[0m\u001b[0;36m3\u001b[0m\u001b[0;34m)\u001b[0m\u001b[0;34m\u001b[0m\u001b[0;34m\u001b[0m\u001b[0m\n\u001b[0m",
      "\u001b[0;32m<ipython-input-3-579156a1230a>\u001b[0m in \u001b[0;36mrandom_times\u001b[0;34m(p, q)\u001b[0m\n\u001b[1;32m     13\u001b[0m \u001b[0;34m\u001b[0m\u001b[0m\n\u001b[1;32m     14\u001b[0m \u001b[0;34m\u001b[0m\u001b[0m\n\u001b[0;32m---> 15\u001b[0;31m     \u001b[0;32mreturn\u001b[0m \u001b[0;34m[\u001b[0m\u001b[0mT_A\u001b[0m\u001b[0;34m,\u001b[0m\u001b[0mT_B\u001b[0m\u001b[0;34m]\u001b[0m\u001b[0;34m\u001b[0m\u001b[0;34m\u001b[0m\u001b[0m\n\u001b[0m",
      "\u001b[0;31mNameError\u001b[0m: name 'T_A' is not defined"
     ]
    }
   ],
   "source": [
    "random_times(2,3)"
   ]
  },
  {
   "cell_type": "markdown",
   "metadata": {},
   "source": [
    "Il ne reste plus qu'à faire suffisamment de tirages \n",
    "pour répondre (en partie) à la question posée."
   ]
  },
  {
   "cell_type": "code",
   "execution_count": 5,
   "metadata": {},
   "outputs": [
    {
     "ename": "NameError",
     "evalue": "name 'T_A' is not defined",
     "output_type": "error",
     "traceback": [
      "\u001b[0;31m---------------------------------------------------------------------------\u001b[0m",
      "\u001b[0;31mNameError\u001b[0m                                 Traceback (most recent call last)",
      "\u001b[0;32m<ipython-input-5-d5b0868a25cf>\u001b[0m in \u001b[0;36m<module>\u001b[0;34m()\u001b[0m\n\u001b[1;32m     25\u001b[0m     \u001b[0mqui_gagne_MC\u001b[0m\u001b[0;34m(\u001b[0m\u001b[0;36m4\u001b[0m\u001b[0;34m,\u001b[0m\u001b[0;36m4\u001b[0m\u001b[0;34m,\u001b[0m\u001b[0mN\u001b[0m\u001b[0;34m)\u001b[0m\u001b[0;34m\u001b[0m\u001b[0;34m\u001b[0m\u001b[0m\n\u001b[1;32m     26\u001b[0m \u001b[0;34m\u001b[0m\u001b[0m\n\u001b[0;32m---> 27\u001b[0;31m \u001b[0mtest_1\u001b[0m\u001b[0;34m(\u001b[0m\u001b[0;34m)\u001b[0m\u001b[0;34m\u001b[0m\u001b[0;34m\u001b[0m\u001b[0m\n\u001b[0m",
      "\u001b[0;32m<ipython-input-5-d5b0868a25cf>\u001b[0m in \u001b[0;36mtest_1\u001b[0;34m()\u001b[0m\n\u001b[1;32m     20\u001b[0m \u001b[0;32mdef\u001b[0m \u001b[0mtest_1\u001b[0m\u001b[0;34m(\u001b[0m\u001b[0;34m)\u001b[0m\u001b[0;34m:\u001b[0m\u001b[0;34m\u001b[0m\u001b[0;34m\u001b[0m\u001b[0m\n\u001b[1;32m     21\u001b[0m     \u001b[0mN\u001b[0m\u001b[0;34m=\u001b[0m\u001b[0;36m10000\u001b[0m\u001b[0;34m;\u001b[0m\u001b[0;34m\u001b[0m\u001b[0;34m\u001b[0m\u001b[0m\n\u001b[0;32m---> 22\u001b[0;31m     \u001b[0mqui_gagne_MC\u001b[0m\u001b[0;34m(\u001b[0m\u001b[0;36m2\u001b[0m\u001b[0;34m,\u001b[0m\u001b[0;36m3\u001b[0m\u001b[0;34m,\u001b[0m\u001b[0mN\u001b[0m\u001b[0;34m)\u001b[0m\u001b[0;34m\u001b[0m\u001b[0;34m\u001b[0m\u001b[0m\n\u001b[0m\u001b[1;32m     23\u001b[0m     \u001b[0mqui_gagne_MC\u001b[0m\u001b[0;34m(\u001b[0m\u001b[0;36m3\u001b[0m\u001b[0;34m,\u001b[0m\u001b[0;36m4\u001b[0m\u001b[0;34m,\u001b[0m\u001b[0mN\u001b[0m\u001b[0;34m)\u001b[0m\u001b[0;34m\u001b[0m\u001b[0;34m\u001b[0m\u001b[0m\n\u001b[1;32m     24\u001b[0m     \u001b[0mqui_gagne_MC\u001b[0m\u001b[0;34m(\u001b[0m\u001b[0;36m4\u001b[0m\u001b[0;34m,\u001b[0m\u001b[0;36m5\u001b[0m\u001b[0;34m,\u001b[0m\u001b[0mN\u001b[0m\u001b[0;34m)\u001b[0m\u001b[0;34m\u001b[0m\u001b[0;34m\u001b[0m\u001b[0m\n",
      "\u001b[0;32m<ipython-input-5-d5b0868a25cf>\u001b[0m in \u001b[0;36mqui_gagne_MC\u001b[0;34m(p, q, N)\u001b[0m\n\u001b[1;32m      2\u001b[0m     \u001b[0mstatA\u001b[0m\u001b[0;34m=\u001b[0m\u001b[0;36m0\u001b[0m\u001b[0;34m;\u001b[0m\u001b[0mstatB\u001b[0m\u001b[0;34m=\u001b[0m\u001b[0;36m0\u001b[0m\u001b[0;34m;\u001b[0m\u001b[0;34m\u001b[0m\u001b[0;34m\u001b[0m\u001b[0m\n\u001b[1;32m      3\u001b[0m     \u001b[0;32mfor\u001b[0m \u001b[0mi\u001b[0m \u001b[0;32min\u001b[0m \u001b[0mrange\u001b[0m\u001b[0;34m(\u001b[0m\u001b[0mN\u001b[0m\u001b[0;34m)\u001b[0m\u001b[0;34m:\u001b[0m\u001b[0;34m\u001b[0m\u001b[0;34m\u001b[0m\u001b[0m\n\u001b[0;32m----> 4\u001b[0;31m         \u001b[0;34m[\u001b[0m\u001b[0mT_A\u001b[0m\u001b[0;34m,\u001b[0m\u001b[0mT_B\u001b[0m\u001b[0;34m]\u001b[0m \u001b[0;34m=\u001b[0m \u001b[0mrandom_times\u001b[0m\u001b[0;34m(\u001b[0m\u001b[0mp\u001b[0m\u001b[0;34m,\u001b[0m\u001b[0mq\u001b[0m\u001b[0;34m)\u001b[0m\u001b[0;34m;\u001b[0m\u001b[0;34m\u001b[0m\u001b[0;34m\u001b[0m\u001b[0m\n\u001b[0m\u001b[1;32m      5\u001b[0m         \u001b[0;32mif\u001b[0m \u001b[0;34m(\u001b[0m\u001b[0mT_B\u001b[0m \u001b[0;34m<\u001b[0m \u001b[0mT_A\u001b[0m\u001b[0;34m)\u001b[0m\u001b[0;34m:\u001b[0m \u001b[0;31m# B gagne\u001b[0m\u001b[0;34m\u001b[0m\u001b[0;34m\u001b[0m\u001b[0m\n\u001b[1;32m      6\u001b[0m             \u001b[0mstatB\u001b[0m\u001b[0;34m=\u001b[0m\u001b[0mstatB\u001b[0m\u001b[0;34m+\u001b[0m\u001b[0;36m1\u001b[0m\u001b[0;34m;\u001b[0m\u001b[0;34m\u001b[0m\u001b[0;34m\u001b[0m\u001b[0m\n",
      "\u001b[0;32m<ipython-input-3-579156a1230a>\u001b[0m in \u001b[0;36mrandom_times\u001b[0;34m(p, q)\u001b[0m\n\u001b[1;32m     13\u001b[0m \u001b[0;34m\u001b[0m\u001b[0m\n\u001b[1;32m     14\u001b[0m \u001b[0;34m\u001b[0m\u001b[0m\n\u001b[0;32m---> 15\u001b[0;31m     \u001b[0;32mreturn\u001b[0m \u001b[0;34m[\u001b[0m\u001b[0mT_A\u001b[0m\u001b[0;34m,\u001b[0m\u001b[0mT_B\u001b[0m\u001b[0;34m]\u001b[0m\u001b[0;34m\u001b[0m\u001b[0;34m\u001b[0m\u001b[0m\n\u001b[0m",
      "\u001b[0;31mNameError\u001b[0m: name 'T_A' is not defined"
     ]
    }
   ],
   "source": [
    "def qui_gagne_MC(p,q,N):\n",
    "    statA=0;statB=0;\n",
    "    for i in range(N):\n",
    "        [T_A,T_B] = random_times(p,q);\n",
    "        if (T_B < T_A): # B gagne\n",
    "            statB=statB+1;\n",
    "        elif (T_A < T_B):  # A gagne\n",
    "            statA=statA+1;\n",
    "    erreur=1/math.sqrt(N);# erreur maximum probable\n",
    "    pA=statA/N;pB=statB/N;\n",
    "    print(\"pA=%.3f+-%.3f, pB=%.3f+-%.3f\\n\",'Pa=',statA/N,'+-',erreur,', Pb=', statB/N,'+-',erreur)\n",
    "    if (pA+erreur < pB-erreur):\n",
    "        print(\"p=\",p,\",q=\",q,\": Il est très probable que B gagne en moyenne.\")\n",
    "    elif (pA-erreur > pB+erreur):\n",
    "        print(\"p=\",p,\",q=\",q,\" : \",\"Il est très probable que A gagne en moyenne.\")\n",
    "    else:\n",
    "        print(\"p=\",p,\",q=\",q,\" N=\", N,\" : On ne peut pas conclure: \",p,q,N)\n",
    "        print(\"il faut augmenter le nombre de tirages N.\")\n",
    "\n",
    "def test_1():\n",
    "    N=10000;\n",
    "    qui_gagne_MC(2,3,N)\n",
    "    qui_gagne_MC(3,4,N)\n",
    "    qui_gagne_MC(4,5,N)\n",
    "    qui_gagne_MC(4,4,N)\n",
    "\n",
    "test_1()"
   ]
  },
  {
   "cell_type": "markdown",
   "metadata": {},
   "source": [
    "<span style=\"color:blue\">\n",
    "Noter que le théorème de la limite centrale permet (exercice!) de\n",
    "montrer que l'erreur \"probable maximale\" est de l'ordre de\n",
    "$1/\\sqrt{n}$ (C'est le même résultat qui permet d'évaluer\n",
    "approximativement l'erreur d'un sondage d'opinion).</span>\n",
    "\n",
    "Dans le cas $p=2$, $q=3$ on arrive assez facilement ($N=10000$ suffit\n",
    "largement) à se convaincre que $B$ gagne en moyenne.  C'est plus\n",
    "difficile pour $(p=3,q=4)$ ($N=100000$ convient).  Ça devient délicat\n",
    "pour $(p=4,q=5)$ (il faut prendre $N\\approx 1000000$ pour conclure que\n",
    "c'est $A$ qui gagne).  Dans les cas où $p=q$ (où l'on peut prouver\n",
    "qu'il y a égalité des probabilités), une méthode de simulation ne sera\n",
    "__jamais__ concluante.\n",
    " \n",
    "Il nous faut une méthode exacte de calcul de ces probabilités. C'est\n",
    "ce que nous allons faire maintenant."
   ]
  },
  {
   "cell_type": "markdown",
   "metadata": {},
   "source": [
    "# 2. Un calcul exact par énumération exhaustive"
   ]
  },
  {
   "cell_type": "markdown",
   "metadata": {},
   "source": [
    "L'espace de probabilité $\\Omega$ étant fini, il suffit d'énumérer\n",
    "$\\Omega$ pour calculer la probabilité~: on génère toutes les valeurs\n",
    "possibles pour les positions des oeufs $(i_1,j_1)$ et $(i_2,j_2)$\n",
    "(tous ces couples (de couples!) sont supposés équiprobables), on calcule $T_A$\n",
    "et $T_B$ et l'on fait des stats sur celui qui gagne.\n",
    "\n",
    "<span style=\"color:blue\">\n",
    "On en profite pour calculer la loi du couple $(T_A,T_B)$ et pour vérifier que les\n",
    "lois de $T_A$ et $T_B$ sont identiques (exercice, pour une correction voir la \n",
    "version `scilab` du sujet).\n",
    "\n",
    "On vérifie aussi que la loi de  $(T_A,T_B)$ n'est pas identique à celle de  $(T_B,T_A)$ (sauf si $p=q$)\n",
    "et que $T_A$ n'est jamais indépendante de $T_B$.\n",
    "</span>"
   ]
  },
  {
   "cell_type": "code",
   "execution_count": 6,
   "metadata": {},
   "outputs": [
    {
     "ename": "NameError",
     "evalue": "name 'T_A' is not defined",
     "output_type": "error",
     "traceback": [
      "\u001b[0;31m---------------------------------------------------------------------------\u001b[0m",
      "\u001b[0;31mNameError\u001b[0m                                 Traceback (most recent call last)",
      "\u001b[0;32m<ipython-input-6-53aa7712cda8>\u001b[0m in \u001b[0;36m<module>\u001b[0;34m()\u001b[0m\n\u001b[1;32m     48\u001b[0m \u001b[0;34m\u001b[0m\u001b[0m\n\u001b[1;32m     49\u001b[0m \u001b[0mp\u001b[0m\u001b[0;34m=\u001b[0m\u001b[0;36m40\u001b[0m\u001b[0;34m;\u001b[0m\u001b[0mq\u001b[0m\u001b[0;34m=\u001b[0m\u001b[0;36m45\u001b[0m\u001b[0;34m\u001b[0m\u001b[0;34m\u001b[0m\u001b[0m\n\u001b[0;32m---> 50\u001b[0;31m \u001b[0mqui_gagne_elem\u001b[0m\u001b[0;34m(\u001b[0m\u001b[0mp\u001b[0m\u001b[0;34m,\u001b[0m\u001b[0mq\u001b[0m\u001b[0;34m)\u001b[0m\u001b[0;34m\u001b[0m\u001b[0;34m\u001b[0m\u001b[0m\n\u001b[0m\u001b[1;32m     51\u001b[0m \u001b[0;31m#samples=simul_couple(p,q)\u001b[0m\u001b[0;34m\u001b[0m\u001b[0;34m\u001b[0m\u001b[0;34m\u001b[0m\u001b[0m\n\u001b[1;32m     52\u001b[0m \u001b[0;34m\u001b[0m\u001b[0m\n",
      "\u001b[0;32m<ipython-input-6-53aa7712cda8>\u001b[0m in \u001b[0;36mqui_gagne_elem\u001b[0;34m(p, q)\u001b[0m\n\u001b[1;32m     14\u001b[0m                     \u001b[0;31m######  A vous de jouer  .....\u001b[0m\u001b[0;34m\u001b[0m\u001b[0;34m\u001b[0m\u001b[0;34m\u001b[0m\u001b[0m\n\u001b[1;32m     15\u001b[0m \u001b[0;34m\u001b[0m\u001b[0m\n\u001b[0;32m---> 16\u001b[0;31m                     \u001b[0;32mif\u001b[0m \u001b[0mT_A\u001b[0m \u001b[0;34m>\u001b[0m \u001b[0mT_B\u001b[0m \u001b[0;34m:\u001b[0m\u001b[0;34m\u001b[0m\u001b[0;34m\u001b[0m\u001b[0m\n\u001b[0m\u001b[1;32m     17\u001b[0m                         \u001b[0mBscore\u001b[0m\u001b[0;34m=\u001b[0m\u001b[0mBscore\u001b[0m\u001b[0;34m+\u001b[0m\u001b[0;36m1\u001b[0m\u001b[0;34m\u001b[0m\u001b[0;34m\u001b[0m\u001b[0m\n\u001b[1;32m     18\u001b[0m                     \u001b[0;32melif\u001b[0m \u001b[0mT_A\u001b[0m \u001b[0;34m<\u001b[0m \u001b[0mT_B\u001b[0m\u001b[0;34m:\u001b[0m\u001b[0;34m\u001b[0m\u001b[0;34m\u001b[0m\u001b[0m\n",
      "\u001b[0;31mNameError\u001b[0m: name 'T_A' is not defined"
     ]
    }
   ],
   "source": [
    "def qui_gagne_elem(p,q):\n",
    "# On énumère toutes les positions possibles\n",
    "# et on en déduit lequel des joueurs gagne en moyenne\n",
    "\n",
    "    Ascore=0;Bscore=0;nbre_cas_egalite=0\n",
    " \n",
    "    # On génére toutes les positions pour les 2 oeufs\n",
    "    # Attention en Python: range(1,p+1) = {1,2, ...,p}, c'est bien ce que l'on veut\n",
    "    for i_1 in range(1,p+1) :\n",
    "        for j_1 in range(1,q+1) :\n",
    "            for i_2 in range(1,p+1) :\n",
    "                for j_2 in range(1,q+1) :\n",
    "                    \n",
    "                    ######  A vous de jouer  .....\n",
    "                    \n",
    "                    if T_A > T_B :\n",
    "                        Bscore=Bscore+1\n",
    "                    elif T_A < T_B:\n",
    "                        Ascore=Ascore+1\n",
    "                    else: # T_A == T_B\n",
    "                        nbre_cas_egalite=nbre_cas_egalite+1\n",
    "\n",
    "    print('p=',p,', q=',q, ': ',end='') # end='' pour eviter le passage à la ligne\n",
    "    if(Bscore>Ascore): print(\"c'est B qui gagne\")\n",
    "    elif (Ascore>Bscore): print(\"c'est A qui gagne\")\n",
    "    else: print(\"cas d'égalité\")\n",
    "\n",
    "def histo(p,q):\n",
    "# Calcule la loi du couple (T_A,T_B) par énumération exhaustive des cas\n",
    "\n",
    "    nbre=p*q;# valeur maximale de T_A ou T_B\n",
    "    \n",
    "    # Les tableaux Python sont indicés à partir de 0 -> on rajoute 1\n",
    "    H_AB=np.zeros([nbre+1,nbre+1]);\n",
    "    \n",
    "    # On génére toutes les positions pour les 2 oeufs\n",
    "    for i_1 in range(1,p+1) :\n",
    "        for j_1 in range(1,q+1) :\n",
    "            for i_2 in range(1,p+1) :\n",
    "                for j_2 in range(1,q+1) :\n",
    "                    \n",
    "                    ######  A vous de jouer  .....\n",
    "                    \n",
    "                    # met à jour le nbre de tirages valant (k,l)\n",
    "                    H_AB[T_A,T_B] = H_AB[T_A,T_B] + 1\n",
    "    H_AB = H_AB/(nbre*nbre) \n",
    "    return H_AB\n",
    "\n",
    "p=40;q=45\n",
    "qui_gagne_elem(p,q)\n",
    "#samples=simul_couple(p,q)\n",
    "\n",
    "# On calcule la loi du couple (T_A,T_B)\n",
    "H_AB=histo(p,q)\n",
    "\n",
    "# On vérifie que H_AB est bien la loi d'un couple\n",
    "if np.abs(np.sum(H_AB)-1) <= 1.e-7 :\n",
    "    print('H_AB est bien de somme 1')\n",
    "\n",
    "# Verification que les lois marginales sont identiques.\n",
    "######  A vous de jouer  .....\n",
    "#H_A=...\n",
    "#H_B=...\n",
    "\n",
    "# H_A est forcément égal à H_B : on vérifie\n",
    "\n",
    "######  A vous de jouer  .....\n",
    "\n",
    "#if ... : # H_A ?=? H_B à epsilon près ...\n",
    "#    print(\"Warning: les lois de T_A et T_B doivent être égales.\\n\")\n",
    "#else:\n",
    "#    print('Les lois de T_A et T_B sont bien égales.');\n",
    "\n",
    "\n",
    "# Par contre (T_A,T_B) n'a pas la meme loi que (T_B,T_A) lorsque p != q\n",
    "# Elles doivent l'etre!\n",
    "######  A vous de jouer  .....\n",
    "if ... :  # il faut comparer la loi à sa transposée\n",
    "    print(\"La loi du couple (T_A,T_B) n'est pas symétrique (c'est normal si p!=q) !\\n\")\n",
    "else:\n",
    "    print('La loi du couple (T_A,T_B) est symétrique: p et q sont probablement égaux.');\n",
    "\n",
    "if p*q <=10:\n",
    "    print(H_AB[1:p*q+1,1:p*q+1])"
   ]
  },
  {
   "cell_type": "code",
   "execution_count": 7,
   "metadata": {},
   "outputs": [
    {
     "ename": "NameError",
     "evalue": "name 'T_A' is not defined",
     "output_type": "error",
     "traceback": [
      "\u001b[0;31m---------------------------------------------------------------------------\u001b[0m",
      "\u001b[0;31mNameError\u001b[0m                                 Traceback (most recent call last)",
      "\u001b[0;32m<ipython-input-7-f3eafe096a72>\u001b[0m in \u001b[0;36m<module>\u001b[0;34m()\u001b[0m\n\u001b[1;32m      8\u001b[0m     \u001b[0;31m#for p in range(2,7): qui_gagne_elem(p,p+3)\u001b[0m\u001b[0;34m\u001b[0m\u001b[0;34m\u001b[0m\u001b[0;34m\u001b[0m\u001b[0m\n\u001b[1;32m      9\u001b[0m \u001b[0;34m\u001b[0m\u001b[0m\n\u001b[0;32m---> 10\u001b[0;31m \u001b[0mtest_2\u001b[0m\u001b[0;34m(\u001b[0m\u001b[0;34m)\u001b[0m\u001b[0;34m\u001b[0m\u001b[0;34m\u001b[0m\u001b[0m\n\u001b[0m",
      "\u001b[0;32m<ipython-input-7-f3eafe096a72>\u001b[0m in \u001b[0;36mtest_2\u001b[0;34m()\u001b[0m\n\u001b[1;32m      1\u001b[0m \u001b[0;32mdef\u001b[0m \u001b[0mtest_2\u001b[0m\u001b[0;34m(\u001b[0m\u001b[0;34m)\u001b[0m\u001b[0;34m:\u001b[0m\u001b[0;34m\u001b[0m\u001b[0;34m\u001b[0m\u001b[0m\n\u001b[0;32m----> 2\u001b[0;31m     \u001b[0mqui_gagne_elem\u001b[0m\u001b[0;34m(\u001b[0m\u001b[0;36m3\u001b[0m\u001b[0;34m,\u001b[0m\u001b[0;36m4\u001b[0m\u001b[0;34m)\u001b[0m\u001b[0;34m;\u001b[0m\u001b[0;34m\u001b[0m\u001b[0;34m\u001b[0m\u001b[0m\n\u001b[0m\u001b[1;32m      3\u001b[0m     \u001b[0mqui_gagne_elem\u001b[0m\u001b[0;34m(\u001b[0m\u001b[0;36m4\u001b[0m\u001b[0;34m,\u001b[0m\u001b[0;36m4\u001b[0m\u001b[0;34m)\u001b[0m\u001b[0;34m;\u001b[0m\u001b[0;34m\u001b[0m\u001b[0;34m\u001b[0m\u001b[0m\n\u001b[1;32m      4\u001b[0m     \u001b[0mqui_gagne_elem\u001b[0m\u001b[0;34m(\u001b[0m\u001b[0;36m4\u001b[0m\u001b[0;34m,\u001b[0m\u001b[0;36m5\u001b[0m\u001b[0;34m)\u001b[0m\u001b[0;34m;\u001b[0m\u001b[0;34m\u001b[0m\u001b[0;34m\u001b[0m\u001b[0m\n\u001b[1;32m      5\u001b[0m \u001b[0;34m\u001b[0m\u001b[0m\n",
      "\u001b[0;32m<ipython-input-6-53aa7712cda8>\u001b[0m in \u001b[0;36mqui_gagne_elem\u001b[0;34m(p, q)\u001b[0m\n\u001b[1;32m     14\u001b[0m                     \u001b[0;31m######  A vous de jouer  .....\u001b[0m\u001b[0;34m\u001b[0m\u001b[0;34m\u001b[0m\u001b[0;34m\u001b[0m\u001b[0m\n\u001b[1;32m     15\u001b[0m \u001b[0;34m\u001b[0m\u001b[0m\n\u001b[0;32m---> 16\u001b[0;31m                     \u001b[0;32mif\u001b[0m \u001b[0mT_A\u001b[0m \u001b[0;34m>\u001b[0m \u001b[0mT_B\u001b[0m \u001b[0;34m:\u001b[0m\u001b[0;34m\u001b[0m\u001b[0;34m\u001b[0m\u001b[0m\n\u001b[0m\u001b[1;32m     17\u001b[0m                         \u001b[0mBscore\u001b[0m\u001b[0;34m=\u001b[0m\u001b[0mBscore\u001b[0m\u001b[0;34m+\u001b[0m\u001b[0;36m1\u001b[0m\u001b[0;34m\u001b[0m\u001b[0;34m\u001b[0m\u001b[0m\n\u001b[1;32m     18\u001b[0m                     \u001b[0;32melif\u001b[0m \u001b[0mT_A\u001b[0m \u001b[0;34m<\u001b[0m \u001b[0mT_B\u001b[0m\u001b[0;34m:\u001b[0m\u001b[0;34m\u001b[0m\u001b[0;34m\u001b[0m\u001b[0m\n",
      "\u001b[0;31mNameError\u001b[0m: name 'T_A' is not defined"
     ]
    }
   ],
   "source": [
    "def test_2():\n",
    "    qui_gagne_elem(3,4);\n",
    "    qui_gagne_elem(4,4);\n",
    "    qui_gagne_elem(4,5);\n",
    "  \n",
    "    #for p in range(2,5): qui_gagne_elem(p,p+1)\n",
    "    #for p in range(2,9): qui_gagne_elem(p,p+2)\n",
    "    #for p in range(2,7): qui_gagne_elem(p,p+3)\n",
    "\n",
    "test_2()"
   ]
  },
  {
   "cell_type": "markdown",
   "metadata": {},
   "source": [
    "On retrouve le résultat, un peu surprennant, annoncé au début."
   ]
  }
 ],
 "metadata": {
  "kernelspec": {
   "display_name": "Python 3",
   "language": "python",
   "name": "python3"
  },
  "language_info": {
   "codemirror_mode": {
    "name": "ipython",
    "version": 3
   },
   "file_extension": ".py",
   "mimetype": "text/x-python",
   "name": "python",
   "nbconvert_exporter": "python",
   "pygments_lexer": "ipython3",
   "version": "3.7.2"
  }
 },
 "nbformat": 4,
 "nbformat_minor": 2
}
