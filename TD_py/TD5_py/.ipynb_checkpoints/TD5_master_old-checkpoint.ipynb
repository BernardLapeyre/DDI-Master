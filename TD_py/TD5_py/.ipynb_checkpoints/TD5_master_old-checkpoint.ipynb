{
 "cells": [
  {
   "cell_type": "markdown",
   "metadata": {},
   "source": [
    "La première partie reprend le problème du vendeur de journeaux à un pas de temps.\n",
    "\n",
    "Le problème du vendeur de journaux (à une période de temps)\n",
    "\n",
    "Chaque matin, le vendeur doit décider d’un nombre de journaux à commander \n",
    "$u \\in \\mathbb{U}= \\{0, 1, \\ldots\\}$ au prix unitaire $c > 0$.\n",
    "La demande du jour est incertaine $ w \\in \\mathbb{W} =  \\{0, 1, \\ldots\\}$\n",
    "\n",
    "Si à la ﬁn de la journée il lui reste des invendus: coût unitaire $c_S \\in \\mathbb{R}$ :\n",
    "$$\n",
    "    c_S{(u − w )}_{+} = c_S \\max (u − w,0) \\quad \\text{avec} c + c_S >0 \n",
    "$$\n",
    "    \n",
    "Si à la ﬁn de la journée il n’a pas pu faire face à la demande on associe un coût unitaire $c_M$. \n",
    "Le coût lié à la non satisfaction de la demande est\n",
    "$$\n",
    "    c_M {(w − u )}_{+} = c_M \\max (w − u,0) \n",
    "$$\n"
   ]
  },
  {
   "cell_type": "markdown",
   "metadata": {},
   "source": [
    "On utilisera plusieurs lois possibles pour la demande aléatoire\n",
    "La valeur de law permet de selectionner une loi\n"
   ]
  },
  {
   "cell_type": "code",
   "execution_count": 2,
   "metadata": {},
   "outputs": [
    {
     "data": {
      "image/png": "[encoded data removed]",
      "text/plain": [
       "<Figure size 432x288 with 3 Axes>"
      ]
     },
     "metadata": {
      "needs_background": "light"
     },
     "output_type": "display_data"
    }
   ],
   "source": [
    "import numpy as np;\n",
    "from scipy.special import comb;\n",
    "from scipy.special import gamma;\n",
    "import matplotlib.pyplot as plt\n",
    "import io;\n",
    "\n",
    "law=2;\n",
    "\n",
    "if law == 1: \n",
    "    ## loi binomiale\n",
    "    n=10;\n",
    "    p=0.5;\n",
    "    buf = io.StringIO();\n",
    "    buf.write(\"loi binomiale(%d,%5.2f)\" % (n,p));\n",
    "    title = buf.getvalue();\n",
    "    wi = np.linspace(0,n,num=n+1); ## les valeurs possibles \n",
    "    #pi=binomial(p,n); // les probabilités associées \n",
    "    nn = n*np.ones(n+1);\n",
    "    ## pdf(\"bin\",x,n,p) = n!/x!(n-x)! p^x (1-p)^n-x \n",
    "    pi=comb(nn,wi, exact=False) * pow(p,wi)*pow(1-p,n -wi)\n",
    "\n",
    "    mu=n*p; ## moyenne de la binomiale \n",
    "    mu1= sum(pi*wi) ; ## vérification \n",
    "    if abs(mu-mu1) > 1.e-8:\n",
    "        print(\"something wrong in binomial law expectation\")\n",
    "        wait = input(\"PRESS ENTER TO CONTINUE.\")\n",
    "    \n",
    "    # un echantillong de taille N\n",
    "    N=1000;\n",
    "    #W=grand(1,N,\"bin\",n,p);\n",
    "    W = np.random.binomial(n, p, N);\n",
    "\n",
    "if law == 2:\n",
    "    ## une loi discrète \n",
    "    n=3;\n",
    "    wi=np.array([30,50,80]);\n",
    "    pi=np.array([1/2,1/4,1/4]);\n",
    "    buf = io.StringIO();\n",
    "    buf.write(\"loi discrète sur %d valeurs\" % wi.size);\n",
    "    title = buf.getvalue();\n",
    "    mu=sum(pi*wi); ## la moyenne\n",
    "    # un echantillong de taille N\n",
    "    N=1000;\n",
    "    W=np.random.choice(wi, N, p=pi)\n",
    "    \n",
    "if law == 3:\n",
    "    ## loi de Poisson de paramètre mu \n",
    "    n=100;\n",
    "    p=0.5;\n",
    "    mu=n*p;\n",
    "    wi=np.linspace(0,n,num=n+1); ## les valeurs possibles \n",
    "    pi=( pow(mu,wi) *np.exp(-mu)) / gamma(wi+1);\n",
    "    buf = io.StringIO();\n",
    "    buf.write(\"Poisson %f\" % mu);\n",
    "    title = buf.getvalue();\n",
    "    N=100000;\n",
    "    # W=grand(1,N,'poi',mu);\n",
    "    moy = sum(pi*wi);\n",
    "    W= np.random.poisson(mu, N);\n",
    "    moye=sum(W)/N\n",
    "\n",
    "fig = plt.gcf()\n",
    "plt.subplot(1, 3,1);\n",
    "data1= wi;\n",
    "plt.step(wi,np.cumsum(pi),where='post',marker='o',markerfacecolor='r');\n",
    "plt.title(\"cdf :\" + title)\n",
    "plt.subplot(1, 3,2);\n",
    "count, bins, ignored = plt.hist(W, n, density=True)\n",
    "plt.title(\"loi empirique\"); \n",
    "plt.subplot(1, 3,3);\n",
    "plt.bar(wi,pi)\n",
    "plt.title(\"loi\"); \n",
    "plt.show()\n"
   ]
  },
  {
   "cell_type": "markdown",
   "metadata": {},
   "source": [
    "Question : Écrire une fonction qui calcule $j(u,w)$ puis une fonction qui calcule $J(u)$. Faire un graphique avec les valeurs proposées des constantes et calculer le nombre de journaux qu’il faut commander "
   ]
  },
  {
   "cell_type": "code",
   "execution_count": 5,
   "metadata": {},
   "outputs": [
    {
     "name": "stdout",
     "output_type": "stream",
     "text": [
      "Nombre optimal de journaux a commander 30.000000\n",
      "\n",
      "Moyenne de la demande 47.500000\n",
      "\n"
     ]
    },
    {
     "data": {
      "image/png": "[encoded data removed]",
      "text/plain": [
       "<Figure size 432x288 with 1 Axes>"
      ]
     },
     "metadata": {
      "needs_background": "light"
     },
     "output_type": "display_data"
    }
   ],
   "source": [
    "c=10;cm=20;cs=5;cf=200;\n",
    "\n",
    "# la fonction coût j(u,w)\n",
    "def j(u,w):\n",
    "    return c*u + cs*np.maximum(u - w,0) + cm*np.maximum(w - u,0);\n",
    "\n",
    "\n",
    "def J(u):\n",
    "    return c*u + cs*sum(pi*np.maximum((u- wi),0))+ cm*sum(pi*np.maximum(( wi-u),0));\n",
    "\n",
    "\n",
    "u=np.linspace(-10,100,num=111)\n",
    "val=u.copy();\n",
    "for i in range(0,u.size):\n",
    "    val[i]=J(u[i])\n",
    "    \n",
    "# recherche du min \n",
    "imin=np.argmin(val)\n",
    "uopt = u[imin]\n",
    "\n",
    "# draw the function and the minimum \n",
    "plt.plot(u,val);\n",
    "plt.title(\"fonction cout\");\n",
    "plt.plot(uopt,val[imin],marker='o',markerfacecolor='r')\n",
    "\n",
    "print(\"Nombre optimal de journaux a commander %f\\n\" % uopt);\n",
    "print(\"Moyenne de la demande %f\\n\" % mu);\n",
    "\n"
   ]
  },
  {
   "cell_type": "markdown",
   "metadata": {},
   "source": [
    "Question : Vériﬁer sur un graphique que le nombre de journaux optimal à commander s’obtient par la formule :\n",
    "$$\n",
    " uopt = \\inf \\{z \\in \\mathbb{R} \\vert F(z) \\ge \\frac{(c_M − c)}{ (c_M + c_S )}\\}\n",
    "$$"
   ]
  },
  {
   "cell_type": "code",
   "execution_count": 6,
   "metadata": {},
   "outputs": [
    {
     "data": {
      "text/plain": [
       "[<matplotlib.lines.Line2D at 0x7fce80fcf2b0>]"
      ]
     },
     "execution_count": 6,
     "metadata": {},
     "output_type": "execute_result"
    },
    {
     "data": {
      "image/png": "[encoded data removed]",
      "text/plain": [
       "<Figure size 432x288 with 1 Axes>"
      ]
     },
     "metadata": {
      "needs_background": "light"
     },
     "output_type": "display_data"
    }
   ],
   "source": [
    "# On dessine F \n",
    "\n",
    "fstar = (cm-c)/(cm+cs);\n",
    "Fv= np.cumsum(pi);\n",
    "plt.clf()\n",
    "xx=np.hstack((np.array([0]),wi));\n",
    "yy=np.hstack((np.array([0]),Fv));\n",
    "plt.step(xx,yy,where='post') # marker='o',markerfacecolor='r');\n",
    "plt.plot(xx,fstar*np.ones(xx.size))\n"
   ]
  },
  {
   "cell_type": "code",
   "execution_count": 7,
   "metadata": {},
   "outputs": [
    {
     "data": {
      "image/png": "[encoded data removed]",
      "text/plain": [
       "<Figure size 432x288 with 1 Axes>"
      ]
     },
     "metadata": {
      "needs_background": "light"
     },
     "output_type": "display_data"
    }
   ],
   "source": [
    "# chercher l'indice qui donne uopt \n",
    "\n",
    "kopt=0\n",
    "for i in range(0,Fv.size):\n",
    "    if Fv[i] >= fstar:\n",
    "        kopt=i\n",
    "        break;\n",
    "   \n",
    "plt.step(xx,yy,where='post') # marker='o',markerfacecolor='r');\n",
    "plt.plot(xx,fstar*np.ones(xx.size))\n",
    "plt.plot(wi[kopt],Fv[kopt],marker='o',markeredgewidth=5,markeredgecolor='r',markerfacecolor='r');\n"
   ]
  },
  {
   "cell_type": "markdown",
   "metadata": {},
   "source": [
    "1.3 On utilise maintenant une loi discrète à 3 valeurs\n",
    "\n",
    "Dans le cas précédent, on trouve que le nombre de journaux optimal à commander est très voisin de la moyenne de la demande. On cherche ici à construire un exemple ou les deux nombres seront franchement diﬀérents.\n",
    "\n",
    "\n",
    "Question 4 Reprendre ce qui précède, en vous plaçant maintenant dans le cas test=2 et chercher à caler des valeurs des probabilités qui permettent d’obtenir le résultat souhaité.\n"
   ]
  },
  {
   "cell_type": "markdown",
   "metadata": {},
   "source": [
    "1.4 La loi du coût\n",
    "\n",
    "Question 5 Dans les cas test=1 et test=2, faites un graphique de la loi du coût pour diverses valeurs de la commande u. On procédera de deux façons diﬀérentes\n",
    "\n",
    "    En calculant la loi du coût.\n",
    "    En approchant la loi du coût au moyen de tirages de la demande (loi empirique des coûts).\n",
    "\n"
   ]
  },
  {
   "cell_type": "code",
   "execution_count": 30,
   "metadata": {},
   "outputs": [
    {
     "ename": "TypeError",
     "evalue": "'int' object is not callable",
     "output_type": "error",
     "traceback": [
      "\u001b[0;31m---------------------------------------------------------------------------\u001b[0m",
      "\u001b[0;31mTypeError\u001b[0m                                 Traceback (most recent call last)",
      "\u001b[0;32m<ipython-input-30-74d49fde99a5>\u001b[0m in \u001b[0;36m<module>\u001b[0;34m()\u001b[0m\n\u001b[1;32m      3\u001b[0m     \u001b[0mcount\u001b[0m\u001b[0;34m,\u001b[0m \u001b[0mbins\u001b[0m\u001b[0;34m,\u001b[0m \u001b[0mignored\u001b[0m \u001b[0;34m=\u001b[0m   \u001b[0mplt\u001b[0m\u001b[0;34m.\u001b[0m\u001b[0mhist\u001b[0m\u001b[0;34m(\u001b[0m\u001b[0mj\u001b[0m\u001b[0;34m(\u001b[0m\u001b[0mu\u001b[0m\u001b[0;34m,\u001b[0m\u001b[0mW\u001b[0m\u001b[0;34m)\u001b[0m\u001b[0;34m,\u001b[0m\u001b[0mdensity\u001b[0m\u001b[0;34m=\u001b[0m\u001b[0;32mTrue\u001b[0m\u001b[0;34m)\u001b[0m\u001b[0;34m\u001b[0m\u001b[0;34m\u001b[0m\u001b[0m\n\u001b[1;32m      4\u001b[0m \u001b[0;34m\u001b[0m\u001b[0m\n\u001b[0;32m----> 5\u001b[0;31m \u001b[0mdraw_cost\u001b[0m\u001b[0;34m(\u001b[0m\u001b[0;36m30\u001b[0m\u001b[0;34m)\u001b[0m\u001b[0;34m;\u001b[0m\u001b[0;34m\u001b[0m\u001b[0;34m\u001b[0m\u001b[0m\n\u001b[0m",
      "\u001b[0;32m<ipython-input-30-74d49fde99a5>\u001b[0m in \u001b[0;36mdraw_cost\u001b[0;34m(u)\u001b[0m\n\u001b[1;32m      1\u001b[0m \u001b[0mplt\u001b[0m\u001b[0;34m.\u001b[0m\u001b[0mclf\u001b[0m\u001b[0;34m(\u001b[0m\u001b[0;34m)\u001b[0m\u001b[0;34m\u001b[0m\u001b[0;34m\u001b[0m\u001b[0m\n\u001b[1;32m      2\u001b[0m \u001b[0;32mdef\u001b[0m \u001b[0mdraw_cost\u001b[0m\u001b[0;34m(\u001b[0m\u001b[0mu\u001b[0m\u001b[0;34m)\u001b[0m\u001b[0;34m:\u001b[0m\u001b[0;34m\u001b[0m\u001b[0;34m\u001b[0m\u001b[0m\n\u001b[0;32m----> 3\u001b[0;31m     \u001b[0mcount\u001b[0m\u001b[0;34m,\u001b[0m \u001b[0mbins\u001b[0m\u001b[0;34m,\u001b[0m \u001b[0mignored\u001b[0m \u001b[0;34m=\u001b[0m   \u001b[0mplt\u001b[0m\u001b[0;34m.\u001b[0m\u001b[0mhist\u001b[0m\u001b[0;34m(\u001b[0m\u001b[0mj\u001b[0m\u001b[0;34m(\u001b[0m\u001b[0mu\u001b[0m\u001b[0;34m,\u001b[0m\u001b[0mW\u001b[0m\u001b[0;34m)\u001b[0m\u001b[0;34m,\u001b[0m\u001b[0mdensity\u001b[0m\u001b[0;34m=\u001b[0m\u001b[0;32mTrue\u001b[0m\u001b[0;34m)\u001b[0m\u001b[0;34m\u001b[0m\u001b[0;34m\u001b[0m\u001b[0m\n\u001b[0m\u001b[1;32m      4\u001b[0m \u001b[0;34m\u001b[0m\u001b[0m\n\u001b[1;32m      5\u001b[0m \u001b[0mdraw_cost\u001b[0m\u001b[0;34m(\u001b[0m\u001b[0;36m30\u001b[0m\u001b[0;34m)\u001b[0m\u001b[0;34m;\u001b[0m\u001b[0;34m\u001b[0m\u001b[0;34m\u001b[0m\u001b[0m\n",
      "\u001b[0;31mTypeError\u001b[0m: 'int' object is not callable"
     ]
    },
    {
     "data": {
      "text/plain": [
       "<Figure size 432x288 with 0 Axes>"
      ]
     },
     "metadata": {},
     "output_type": "display_data"
    }
   ],
   "source": [
    "plt.clf()\n",
    "def draw_cost(u):\n",
    "    count, bins, ignored =   plt.hist(j(u,W),density=True)\n",
    "\n",
    "draw_cost(30);\n",
    "\n"
   ]
  },
  {
   "cell_type": "markdown",
   "metadata": {},
   "source": [
    "1.6 Une stratégie $[s,S]$\n",
    "\n",
    "On regarde maintenant un cas ou le vendeur à déjà des journaux et ou il paye un coup ﬁxe si il commande des journaux. \n",
    "On cherche à retrouver ici le fait que la stratégie optimale est de la forme $[s,S]$.\n",
    "\n",
    "Question 7 On se placera dans le cas test=1. Calculer le nombre optimal de journaux à commander \n",
    "suivant la valeur du stock initial. \n",
    "Vériﬁer que la stratégie est bien de la forme $[s,S]$ : \n",
    "on remonte le stock au niveau $S$ si il est inférieur à $s$ et on ne fait rien sinon. \n",
    "Calculer $s$ par la formule\n",
    "$$\n",
    "s = \\sup \\{z \\in (- \\infty, S) \\vert J(z) \\ge c_F + J(S ) \\} \n",
    "$$"
   ]
  },
  {
   "cell_type": "code",
   "execution_count": 9,
   "metadata": {},
   "outputs": [
    {
     "name": "stdout",
     "output_type": "stream",
     "text": [
      "Valeur de s=7 et de S=30\n",
      "Valeur de s=9.600000 et de S=30.000000\n",
      "\n"
     ]
    },
    {
     "data": {
      "image/png": "[encoded data removed]",
      "text/plain": [
       "<Figure size 432x288 with 1 Axes>"
      ]
     },
     "metadata": {
      "needs_background": "light"
     },
     "output_type": "display_data"
    }
   ],
   "source": [
    "# On regarde maintenant un cas ou le vendeur à déjà des journaux \n",
    "# et ou il paye un coup fixe si il commande des journaux \n",
    "# on voit une stratégie [s,S] \n",
    "\n",
    "def Jtilde(u,x):\n",
    "  return cf*(u>0) + J(u+x) -c*x\n",
    "\n",
    "\n",
    "xv=np.linspace(0,2*max(wi), num=201);\n",
    "xuopt=xv.copy();\n",
    "U=np.linspace(0,2*max(wi), num=201);\n",
    "Ju=U.copy();\n",
    "\n",
    "for i in range(0, xv.size):\n",
    "    for j in range(0, U.size):\n",
    "        Ju[j]= Jtilde(U[j],xv[i]);\n",
    "    k = np.argmin(Ju);\n",
    "    xuopt[i]= U[k];\n",
    "\n",
    "iopt=-1;\n",
    "for i in range(0, xuopt.size):\n",
    "    if xuopt[i] == 0:\n",
    "        iopt=i;\n",
    "        break;\n",
    "\n",
    "# Le s de la stratégie [s,S]      \n",
    "        \n",
    "s = xv[iopt-1]\n",
    "\n",
    "plt.clf()\n",
    "plt.plot(xv,xuopt)\n",
    "plt.plot(xv[:int(s)],xv[:int(s)]+xuopt[:int(s)])\n",
    "print(\"Valeur de s=%d et de S=%d\" % (xv[int(s)], xv[int(s)-1]+xuopt[int(s)-1]))\n",
    "# retrouver s sachant que S=uopt a deja été calculé \n",
    "\n",
    "xv= np.linspace(0,2*max(wi), num=201);\n",
    "Jv=xv.copy();\n",
    "for i in range(0,xv.size):\n",
    "    Jv[i]=J(xv[i]);\n",
    "costs = Jv - (cf + J(uopt));\n",
    "iopt=-1\n",
    "for i in range(0,xv.size):\n",
    "    if costs[i] <=0:\n",
    "        iopt=i;\n",
    "        break;\n",
    "\n",
    "if iopt < 0:\n",
    "    s=0\n",
    "else:   \n",
    "    s=xv[iopt-1]\n",
    "    \n",
    "print(\"Valeur de s=%f et de S=%f\\n\" % (s, uopt))"
   ]
  },
  {
   "cell_type": "markdown",
   "metadata": {},
   "source": [
    "# Le problème à plusieurs pas de temps $T$"
   ]
  },
  {
   "cell_type": "markdown",
   "metadata": {},
   "source": [
    "__L'équation de Bellman, cas général__\n",
    "\n",
    "On cherche à calculer la fonction valeur $V(t,x)$ en utilisant l'équation de programmation dynamique (ou équation de Bellman) donnée par le cours (slide 15 p.80). $V(t,x)$ représente la valeur du critère pour le meilleur contrôle\n",
    "possible en partant de $x$ à l'instant $n$.\n",
    "\n",
    "Pour cela, il faut connaître:\n",
    "\n",
    "1) la dynamique de la chaîne contrôlée ${\\color{red} f}(x,u,w)$ fonction de la postion actuelle, du contrôle $u$ et de l'aléa $w$. $X$ suit alors une dynamique fonction de la suite des choix de contrôles $U_t$\n",
    "$$\n",
    "X_{t+1} = {\\color{red} f}(X_t,U_t,W_{t+1})\n",
    "$$\n",
    "\n",
    "2) le coût au pas de temps $n$, ${\\color{red} L}(n,x,u)$ fonction du temps  $n$, du contrôle $u$ et de la position actuelle $x$.\n",
    "\n",
    "3) le coût final ${\\color{red} K}(x)$.\n",
    "\n",
    "Avec ces ingrédient l'équation de Bellman s'écrit (slide 15 p. 80). \n",
    "\n",
    "$$\n",
    "\\left\\{\n",
    "        \\begin{array}{l}\n",
    "          v(n,x) = \\min_{u\\in A} \\left\\{ {\\bf E}(v(n+1,{\\color{red} f}(x,u,W_{t+1})) + {\\color{red} L}(n,x,u) \\right\\},\n",
    "          \\quad n< N\\\\\n",
    "          v(N,x) = {\\color{red} K}(x),\n",
    "        \\end{array}\n",
    "      \\right.  \n",
    "$$\n",
    "\n",
    "Noter que par rapport aux transparents, pour simplifier, on a choisi de ne pas faire dépendre $L$ de $W_{t+1}$ mais \n",
    "uniquement de $x$ et $u$."
   ]
  },
  {
   "cell_type": "markdown",
   "metadata": {},
   "source": [
    "__Le cas du vendeur de journaux__\n",
    "\n",
    "Dans le cas du vendeur de journaux, les fonctions ${\\color{red} f}$, ${\\color{red} L}$ et ${\\color{red} K}$ \n",
    "sont définies dans le cours de la façon suivante.\n",
    "\n",
    "1) La fonction ${\\color{red} f}$ est donnée (voir slide 12 p.68) par ${\\color{red} f}(x,u,w)=x+u-w$.\n",
    "\n",
    "2) La fonction ${\\color{red} K}$ est donnée sur le slide 4 p.74.\n",
    "\n",
    "3) La fonction $L$ vaut ${\\color{red} L}(1,u,x)=c_0(u,x)$ et pour $t> 1$, ${\\color{red} L}(t,u,x)=c_t(u,x)$, les fonctions $c_0$ et $c_t$ étant définies sur le slide 4 p.74.\n",
    "\n",
    "Le temps va de $t=1$ à $t=T$. \n",
    "\n",
    "Pour commencer on pose $T=2$ et l'on souhaite vérifier que l'on retrouve le problème du vendeur à un pas de temps."
   ]
  },
  {
   "cell_type": "code",
   "execution_count": 19,
   "metadata": {},
   "outputs": [],
   "source": [
    "alpha = 1\n",
    "\n",
    "def ct(u,x):\n",
    "    # coût instantané pour t autre que la date de départ \n",
    "    return cf*(u>0) + c*u + alpha*cs*np.maximum(x,0) + alpha*cm*np.maximum(-x,0) \n",
    "\n",
    "def c0(u):\n",
    "    # coût instantané pour t=1 \n",
    "    return cf*(u>0) + c*u\n",
    "\n",
    "def K(x):\n",
    "    # coût final \n",
    "    return cs*np.maximum(x,0) + cm*np.maximum(-x,0) "
   ]
  },
  {
   "cell_type": "markdown",
   "metadata": {},
   "source": [
    "On transforme la dynamique pour rester dans un domaine borné $[-100,100]$\n"
   ]
  },
  {
   "cell_type": "code",
   "execution_count": 20,
   "metadata": {},
   "outputs": [],
   "source": [
    "xmin = -100; xmax = 100;\n",
    "\n",
    "def f(x,u,w):\n",
    "    return min(max(x+u-w,xmin),xmax)\n",
    "    \n"
   ]
  },
  {
   "cell_type": "markdown",
   "metadata": {},
   "source": [
    "__Question 1.__ On commence avec $T=2$ pour retrouver les résultats du vendeur de journaux à un pas de temps.\n",
    "Calul de $V_T$. "
   ]
  },
  {
   "cell_type": "code",
   "execution_count": 21,
   "metadata": {},
   "outputs": [],
   "source": [
    "T=2 # l'Horizon \n",
    "etats= np.linspace(xmin,xmax, num=-xmin+xmax+1) ## les etats possibles (nbre de journeaux en stock) dans un domaine borné \n",
    "allu=  np.linspace(0,xmax,num=xmax+1)   ## les commandes de journaux possibles\n"
   ]
  },
  {
   "cell_type": "code",
   "execution_count": 22,
   "metadata": {},
   "outputs": [],
   "source": [
    "VT = pow(alpha,T)*K(etats); # fonction de Bellman en T\n",
    "UT = 0*etats; # pas de contrôle en T"
   ]
  },
  {
   "cell_type": "markdown",
   "metadata": {},
   "source": [
    "On stocke les fonctions de Bellman dans $V$ and le contrôle optimal dans $U$."
   ]
  },
  {
   "cell_type": "code",
   "execution_count": 23,
   "metadata": {},
   "outputs": [],
   "source": [
    "V=[VT]; U=[UT];"
   ]
  },
  {
   "cell_type": "code",
   "execution_count": 28,
   "metadata": {},
   "outputs": [],
   "source": [
    "for j in range(0,T-1):\n",
    "    # print(\"calcul de V_t pout t=%d\" % ( T-1-j))\n",
    "    t=T-1-j\n",
    "    Vtp1=V[0]\n",
    "    Vt = 0*etats;\n",
    "    Ut = float('nan')*np.ones(-xmin+xmax+1); \n",
    "    for i in range(0,etats.size):\n",
    "        #DEBUTQUESTION\n",
    "        # on boucle sur les états possibles \n",
    "        # x= AFAIRE \n",
    "        #ENDQUESTION\n",
    "        #DEBUTREPONSE\n",
    "        x=etats[i]\n",
    "        #ENDREPONSE\n",
    "        mcost= float('inf') # on initialise \"mcost\" à +infty\n",
    "        # à la fin du corps de la boucle qui suit \"mcost\" contiendra le coût optimal \n",
    "        # pour tout les états et à l'instant t \n",
    "        for k in range(0,allu.size):\n",
    "            #DEBUTQUESTION\n",
    "            # boucle sur les contrôles possible \n",
    "            # le contrôle courant est u \n",
    "            # u =  AFAIRE \n",
    "            # on va calculer dans \"cost\" le cout obtenu pour ce contrôle \"u\" \n",
    "            #ENDQUESTION\n",
    "            #DEBUTREPONSE\n",
    "            u=allu[k]\n",
    "            #ENDREPONSE\n",
    "            cost=0\n",
    "            for l in range(0,wi.size):\n",
    "                #DEBUTQUESTION\n",
    "                # boucle sur les aléas \"w\"\n",
    "                # w = AFAIRE depend de l et wi \n",
    "                # calculer l'état atteint si on part de x que le contrôle est u et l'aléa w \n",
    "                # xtp1= AFAIRE \n",
    "                # dans ix il faut trouver l'indice dans la liste des etat de l'état xtp1\n",
    "                # ix = A FAIRE on pourra utiliser les méthodes tolist() et index() : \n",
    "                #   i=vecteur.tolist().index(x) permet de retrouver dans \"vecteur\"\n",
    "                #   l'indice \"i\" tel que vecteur[i]=x\n",
    "                # calculer le cout de Bellman pour (x,u,w)\n",
    "                # On fera attention au fait que la fonction de coût instantannée dépend est \n",
    "                # c0 ou ct suivant que t==1 ou t != 1 \n",
    "                # On n'oubliera pas que l'on doit utiliser pi \n",
    "                #if t==1:\n",
    "                #     lcost = 0 # AFAIRE \n",
    "                #else:\n",
    "                #     lcost = 0 # AFAIRE \n",
    "                # on rajoute lcost à cost \n",
    "                #ENDQUESTION\n",
    "                #DEBUTREPONSE\n",
    "                w = wi[l]\n",
    "                xtp1 = f(x,u,w);\n",
    "                ix = etats.tolist().index(xtp1)\n",
    "                if t==1:\n",
    "                    lcost = pi[l]*(c0(u) + Vtp1[ix])\n",
    "                else:\n",
    "                    lcost = pi[l]*(ct(u,x) + Vtp1[ix])\n",
    "                #ENDREPONSE\n",
    "                cost = cost + lcost \n",
    "            # on a maintenant le cout \"cost\" correspondant au controle \"u\", \n",
    "            # on doit le comparer au minimum des couts \"mcost\" \n",
    "            # puisque \"mcost\" doit contenir la plus petite valeur de tous les contrôles            \n",
    "            #DEBUTQUESTION\n",
    "            # mettre à jour \"mcost\" en fonction de \"cost\"\n",
    "            # mettre à jour l'indice \"kumin\" correspondant au controle minimisant\n",
    "            #ENDQUESTION\n",
    "            #DEBUTREPONSE\n",
    "            if cost < mcost:\n",
    "                mcost = cost\n",
    "                kumin = k\n",
    "            #ENDREPONSE\n",
    "        # on conserve la valeur de \"la fonction de valeur\" Vt[i] correspondant à etats[i] en l'instant t\n",
    "        # et le controle optimal Ut[i] correspondant à etats[i] à l'instant t\n",
    "        # Il y a un décalage de 1, Vt[0] correspond à T=1\n",
    "        Vt[i]= mcost\n",
    "        Ut[i]= allu[kumin]\n",
    "    V=np.concatenate(([Vt],V))       \n",
    "    U=np.concatenate(([Ut],U))"
   ]
  },
  {
   "cell_type": "markdown",
   "metadata": {},
   "source": [
    "Dessiner les fonctions valeurs à $t=1$ et $t=T$"
   ]
  },
  {
   "cell_type": "code",
   "execution_count": 25,
   "metadata": {},
   "outputs": [
    {
     "data": {
      "text/plain": [
       "[<matplotlib.lines.Line2D at 0x7fce80ebc4a8>]"
      ]
     },
     "execution_count": 25,
     "metadata": {},
     "output_type": "execute_result"
    },
    {
     "data": {
      "image/png": "[encoded data removed]",
      "text/plain": [
       "<Figure size 432x288 with 1 Axes>"
      ]
     },
     "metadata": {
      "needs_background": "light"
     },
     "output_type": "display_data"
    }
   ],
   "source": [
    "t=1;plt.plot(etats,V[t-1])"
   ]
  },
  {
   "cell_type": "code",
   "execution_count": 26,
   "metadata": {},
   "outputs": [
    {
     "data": {
      "text/plain": [
       "[<matplotlib.lines.Line2D at 0x7fce80d94e48>]"
      ]
     },
     "execution_count": 26,
     "metadata": {},
     "output_type": "execute_result"
    },
    {
     "data": {
      "image/png": "[encoded data removed]",
      "text/plain": [
       "<Figure size 432x288 with 1 Axes>"
      ]
     },
     "metadata": {
      "needs_background": "light"
     },
     "output_type": "display_data"
    }
   ],
   "source": [
    "t=T;plt.plot(etats,V[t-1]) # en t=T on retrouve la fonction deterministe correspondant au cout final"
   ]
  },
  {
   "cell_type": "markdown",
   "metadata": {},
   "source": [
    "Dessiner les commandes optimales à $t=1$ et retrouver le fait que la commande optimale est une stratégie $[s,S]$ ?"
   ]
  },
  {
   "cell_type": "code",
   "execution_count": 27,
   "metadata": {},
   "outputs": [
    {
     "data": {
      "text/plain": [
       "[<matplotlib.lines.Line2D at 0x7fce80d7bda0>]"
      ]
     },
     "execution_count": 27,
     "metadata": {},
     "output_type": "execute_result"
    },
    {
     "data": {
      "image/png": "[encoded data removed]",
      "text/plain": [
       "<Figure size 432x288 with 1 Axes>"
      ]
     },
     "metadata": {
      "needs_background": "light"
     },
     "output_type": "display_data"
    }
   ],
   "source": [
    "t=1;plt.plot(etats,U[t-1])"
   ]
  },
  {
   "cell_type": "markdown",
   "metadata": {},
   "source": [
    "Recommencer le calcul en faisant $T=3$, $T=4$, $T=5$, ... et regarder l'impact sur l'évolution du contrôle optimal."
   ]
  },
  {
   "cell_type": "code",
   "execution_count": 110,
   "metadata": {},
   "outputs": [
    {
     "name": "stdout",
     "output_type": "stream",
     "text": [
      "T =  4\n"
     ]
    },
    {
     "data": {
      "text/plain": [
       "<matplotlib.legend.Legend at 0x7f108904c630>"
      ]
     },
     "execution_count": 110,
     "metadata": {},
     "output_type": "execute_result"
    },
    {
     "data": {
      "image/png": "[encoded data removed]",
      "text/plain": [
       "<Figure size 432x288 with 1 Axes>"
      ]
     },
     "metadata": {
      "needs_background": "light"
     },
     "output_type": "display_data"
    }
   ],
   "source": [
    "print('T = ',T)\n",
    "for j in range(0,T-1):\n",
    "    text='t = '+str(j+1)\n",
    "    plt.plot(etats,U[j],label=text)\n",
    "plt.legend(loc='upper right')\n"
   ]
  },
  {
   "cell_type": "code",
   "execution_count": null,
   "metadata": {},
   "outputs": [],
   "source": []
  }
 ],
 "metadata": {
  "kernelspec": {
   "display_name": "Python 3",
   "language": "python",
   "name": "python3"
  },
  "language_info": {
   "codemirror_mode": {
    "name": "ipython",
    "version": 3
   },
   "file_extension": ".py",
   "mimetype": "text/x-python",
   "name": "python",
   "nbconvert_exporter": "python",
   "pygments_lexer": "ipython3",
   "version": "3.7.2"
  }
 },
 "nbformat": 4,
 "nbformat_minor": 2
}
