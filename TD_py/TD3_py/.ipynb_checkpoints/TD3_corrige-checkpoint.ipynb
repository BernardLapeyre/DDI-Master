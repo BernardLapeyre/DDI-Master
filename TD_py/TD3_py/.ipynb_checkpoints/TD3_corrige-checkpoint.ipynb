{
 "cells": [
  {
   "cell_type": "markdown",
   "metadata": {},
   "source": [
    "$\\newcommand\\indi[1]{{\\mathbf 1}_{\\displaystyle #1}}$\n",
    "$$\\newcommand\\inde[1]{{\\mathbf 1}_{\\displaystyle\\left\\{ #1 \\right\\}}}$$\n",
    "$$\\newcommand{\\ind}{\\inde}$$\n",
    "$\\newcommand\\E{{\\mathbf E}}$\n",
    "$\\renewcommand\\P{{\\mathbf P}}$\n",
    "$\\newcommand\\Cov{{\\mathrm Cov}}$"
   ]
  },
  {
   "cell_type": "markdown",
   "metadata": {},
   "source": [
    "# Le calcul du prix d'une option \"américaine''"
   ]
  },
  {
   "cell_type": "markdown",
   "metadata": {},
   "source": [
    "## 1. Le cas européen (calcul d'espérance)"
   ]
  },
  {
   "cell_type": "markdown",
   "metadata": {},
   "source": [
    "On considère le  modèle de Cox-Ross:\n",
    "$$\n",
    "X_0=x_0, X_{n+1}= X_{n} \\left(d\\inde{U_{n+1}=P}+u\\inde{U_{n+1}=F}\\right).\n",
    "$$\n",
    "On choisit les valeurs numériques de la façon suivante\n",
    "$$\n",
    "   x_0=100, r_0=0,1, \\sigma=0,3.\n",
    "$$\n",
    "et l'on définit $p$, $r$, $u$ et $d$ en fonction de $N$ de la façon suivante~:\n",
    "$$\n",
    "p=1/2,\\;r=r_0/N,\\;u=1+\\frac{\\sigma}{\\sqrt{N}}\\; \\mbox{ et }\\; d=1-\\frac{\\sigma}{\\sqrt{N}}.\n",
    "$$\n",
    "On cherche à évaluer $\\E(f(N,X_N))$ où \n",
    "$$\n",
    " f(N,x)=\\frac{1}{(1+r)^N}\\max(K-x,0),\n",
    "$$\n",
    "avec $K=x_0=100$ et $r=0,05$."
   ]
  },
  {
   "cell_type": "markdown",
   "metadata": {},
   "source": [
    "__Question 1.1.__ Calculer ces prix d'options européennes (call et put) se ramène\n",
    "  à des calculs d'espérance d'une fonction d'une chaîne de Markov. On\n",
    "  implémente ici la méthode de calcul d'espérance par ''programmation\n",
    "  dynamique''."
   ]
  },
  {
   "cell_type": "code",
   "execution_count": 1,
   "metadata": {},
   "outputs": [],
   "source": [
    "import numpy as np\n",
    "import math\n",
    "import random\n",
    "import matplotlib.pyplot as plt\n",
    "import pandas as pd\n",
    "\n",
    "\n",
    "def prix_eu(x_0,r,u,d,p,N,gain):\n",
    "# Calcul du prix européen à l'instant 0\n",
    "\n",
    "    U=np.zeros([N+1,N+1])\n",
    "    # U[n,k] = u(n,x^n_k) avec x^n_k = x_0 * u**k * d**(n-k)\n",
    "    \n",
    "    # la condition finale en N\n",
    "    for k in range(0,N+1): # range(0,N+1) = 0,1,2 ... , N\n",
    "        U[N,k] = gain(x_0 * u**k * d**(N-k))/(1+r)**N;\n",
    "    #le temps décroît de N-1 à 0\n",
    "    for n in range(N-1,-1,-1): # range(N-1,-1,-1) = {N-1,N-2,...,0} !\n",
    "        for k in range(n+1):\n",
    "            U[n,k] =  p*U[n+1,k+1]+(1-p)*U[n+1,k]\n",
    "    return U[0,0]\n",
    "\n",
    "def prix_eu_n(n,x_0,r,u,d,p,N,gain):\n",
    "# Calcul du prix a l'instant n\n",
    "\n",
    "    # Pour calculer ce prix on ne change rien si ce n'est N en N-n\n",
    "    return prix_eu(x_0,r,u,d,p,N-n,gain)"
   ]
  },
  {
   "cell_type": "markdown",
   "metadata": {},
   "source": [
    " On peut vérifier que lorsque $p=1/2$ (ou $r=0$) et $K=x_0$ le prix\n",
    "  des puts et des calls coïncident.  On le vérifie.\n",
    "  \n",
    "  Pour le choix classique\n",
    "  $p=(1+r-d)/(u-d)$ (et $r\\not=0$), les prix sont différents, ce que\n",
    "  l'on vérifie aussi."
   ]
  },
  {
   "cell_type": "code",
   "execution_count": 2,
   "metadata": {},
   "outputs": [],
   "source": [
    "def main_1():\n",
    "    r_0=0.05;sigma=0.3;\n",
    "    N=50;\n",
    "    d=1-sigma/math.sqrt(N);u=1+sigma/math.sqrt(N);\n",
    "    r=r_0/N;\n",
    "\n",
    "    x_0=100;K=100;\n",
    "\n",
    "    # Lorsque p=1/2 et K=x_0 le prix du call = le prix du put (exercice!)\n",
    "    p=1/2;K=x_0;\n",
    "    \n",
    "    def gain_put(x): return max(K-x,0) # Payoff du put  \n",
    "    def gain_call(x): return max(x-K,0) # Payoff du call \n",
    "\n",
    "    p_put  = prix_eu_n(0,x_0,r,u,d,p,N,gain_put);\n",
    "    p_call = prix_eu_n(0,x_0,r,u,d,p,N,gain_call);\n",
    "    if (abs(p_put - p_call) >= 0.000001) :\n",
    "        print(\"WARNING: ces deux prix devrait coincider: \",p_put,\" <> \",p_call)\n",
    "    else:\n",
    "        print(\"Les deux prix coincident: \",p_put,\" <> \",p_call,end='')\n",
    "        print(\". Parfait!\");\n",
    "\n",
    "    p= (1+r-d)/(u-d)\n",
    "    print(\"Prix du call : \",prix_eu_n(0,x_0,r,u,d,p,N,gain_call))\n",
    "    print(\"Prix du put : \",prix_eu_n(0,x_0,r,u,d,p,N,gain_put))"
   ]
  },
  {
   "cell_type": "code",
   "execution_count": 3,
   "metadata": {},
   "outputs": [
    {
     "name": "stdout",
     "output_type": "stream",
     "text": [
      "Les deux prix coincident:  11.402142946815882  <>  11.40214294681589. Parfait!\n",
      "Prix du call :  14.285050131985198\n",
      "Prix du put :  9.410369101110671\n"
     ]
    }
   ],
   "source": [
    "main_1()"
   ]
  },
  {
   "cell_type": "markdown",
   "metadata": {},
   "source": [
    "## 2. Le cas américain (arrêt optimal)"
   ]
  },
  {
   "cell_type": "markdown",
   "metadata": {},
   "source": [
    "On s'intéresse au cas d'un option américaine qui promet (en valeur actualisée en $0$), si on l'exerce à l'instant $n$\n",
    "pour une valeur de $X_n$ valant $x$, une valeur $f(n,x)$\n",
    "$$\n",
    "   f(n,x) = \\frac{1}{(1+r)^n}\\max(K-x,0).\n",
    "$$\n",
    "On cherche à calculer son prix donné par \n",
    "$$\n",
    "u(0,x_0)=\\sup_{\\tau \\mbox{ t.a.} \\leq N} \\E(f(\\tau,X_\\tau)).\n",
    "$$\n",
    "On sait (voir le cours) que $u$ se calcule grace à l'équation de programmation dynamique suivante\n",
    " \\begin{equation}\\label{eq:rec} \n",
    "    \\left\\{\n",
    "      \\begin{array}{l}\n",
    "        u(n,x) = \\displaystyle \\max\\left[p u(n+1,xu)+(1-p) u(n+1,xd),\\frac{1}{(1+r)^n}(K-x)_+\\right], n<N, x\\in E\\\\\n",
    "        u(N,x) = \\frac{1}{(1+r)^N}(K-x)_+,  x\\in E.\n",
    "      \\end{array}\n",
    "    \\right.   \n",
    "  \\end{equation}"
   ]
  },
  {
   "cell_type": "markdown",
   "metadata": {},
   "source": [
    "__Question 2.1__ On pose $v(n,x)=(1+r)^n u(n,x)$. Vérifier que $v$ est solution de \n",
    " \n",
    " $$\n",
    "    \\left\\{\n",
    "      \\begin{array}{l}\n",
    "        v(n,x) = \\displaystyle \\max\\left[\\frac{p v(n+1,xu)+(1-p) v(n+1,xd)}{1+r},(K-x)_+\\right], n<N, x\\in E\\\\\n",
    "        v(N,x) = (K-x)_+,  x\\in E.\n",
    "      \\end{array}\n",
    "    \\right.   \n",
    "$$"
   ]
  },
  {
   "cell_type": "markdown",
   "metadata": {},
   "source": [
    "__Question 2.2.__ Ecrire un algorithme récursif (et inefficace ...) permettant de calculer $v$ en recopiant l'équation précédente."
   ]
  },
  {
   "cell_type": "code",
   "execution_count": 16,
   "metadata": {},
   "outputs": [],
   "source": [
    "def prix_recursif_am(x,n,r,u,d,p,N,gain):\n",
    "    if n==N:\n",
    "        # en N c'est facile ...\n",
    "        return gain(x)\n",
    "    else:\n",
    "        res = p * prix_recursif_am(x*u,n+1,r,u,d,p,N,gain) + (1-p) * prix_recursif_am(x*d,n+1,r,u,d,p,N,gain)\n",
    "        res = max( res / (1+r), gain(x) )\n",
    "        return res\n",
    "\n",
    "def prix_slow_am(x,r,u,d,p,N,gain):\n",
    "    return prix_recursif_am(x,0,r,u,d,p,N,gain)"
   ]
  },
  {
   "cell_type": "markdown",
   "metadata": {},
   "source": [
    "__Question 2.3.__ Ecrire un algorithme efficace de calcul de $v(n,x)$ (le prix de\n",
    "  l'option américaine en $n$)."
   ]
  },
  {
   "cell_type": "code",
   "execution_count": 17,
   "metadata": {},
   "outputs": [],
   "source": [
    "def prix_am(x_0,r,u,d,p,N,gain):\n",
    "# Calcul du prix americain a l'instant 0\n",
    "    U=np.zeros([N+1,N+1])\n",
    "    # U[n,k] représente dans la suite\n",
    "    # la valeur de v à l'instant n\n",
    "    # au point x=x_0 * u**k * d**(n-k) k=0,...,n\n",
    "    \n",
    "    # on initialise U[N,k] à gain(x) avec x=x_0 * u**k * d**(N-k) \n",
    "    for k in range(N+1):\n",
    "        x=x_0 * u**k * d**(N-k) # le point de calcul\n",
    "        U[N,k]=gain(x);# Valeur de U en N\n",
    "\n",
    "    for n in range(N-1,-1,-1): # le temps decroit de N-1 a 0\n",
    "        for k in range(n+1): # k varie de 0 a n\n",
    "            x = x_0 * u**k * d**(n-k) # le point de calcul\n",
    "            U[n,k]=p*U[n+1,k+1] + (1-p)* U[n+1,k]\n",
    "            U[n,k]= U[n,k] / (1+r);# actualisation\n",
    "            U[n,k]=max(U[n,k],gain(x));# calcul du max\n",
    "    return U[0,0];\n",
    "\n",
    "def prix_am_n(n,x_0,r,u,d,p,N,gain): \n",
    "    # Calcul du prix a l'instant n\n",
    "\n",
    "    # Pour calculer ce prix on ne change rien si ce n'est N en N-n\n",
    "    return prix_am(x_0,r,u,d,p,N-n,gain)"
   ]
  },
  {
   "cell_type": "markdown",
   "metadata": {},
   "source": [
    " __Question 2.4.__ Pour $N=10$, comparer les $2$ méthodes pour vérifier que tout\n",
    "  fonctionne. Effectuer des calculs de prix avec des $N$ plus grands\n",
    "  (uniquement pour la deuxième méthode, bien sûr)."
   ]
  },
  {
   "cell_type": "code",
   "execution_count": 18,
   "metadata": {},
   "outputs": [
    {
     "name": "stdout",
     "output_type": "stream",
     "text": [
      "Ces deux prix devrait coincider (ou presque) :  8.461120344261216  <>  8.461120344261218. C'est parfait!\n"
     ]
    }
   ],
   "source": [
    "def main_2():\n",
    "    sigma=0.3; r_0=0.1;\n",
    "    K=100;x_0=100;\n",
    "\n",
    "    N=10;\n",
    "    r=r_0/N;\n",
    "    d=1-sigma/math.sqrt(N);\n",
    "    u=1+sigma/math.sqrt(N);\n",
    "    p= (1+r-d)/(u-d);#p=1/2;\n",
    "    \n",
    "    def gain_put(x): return max(K-x,0) # Payoff du put  \n",
    "    def gain_call(x): return max(x-K,0) # Payoff du call \n",
    "\n",
    "    prix_am(x_0,r,u,d,p,N,gain_put)\n",
    "    prix_slow_am(x_0,r,u,d,p,N,gain_put)\n",
    "\n",
    "    # Les deux algos font ils le même chose ?\n",
    "    # on verifie : prix_slow(x_0,N) \\approx prix(x_0,N)\n",
    "    p1=prix_slow_am(x_0,r,u,d,p,N,gain_put);\n",
    "    p2=prix_am(x_0,r,u,d,p,N,gain_put);\n",
    "    print(\"Ces deux prix devrait coincider (ou presque) : \",p1,\" <> \",p2,end='');\n",
    "    if (abs(p1 - p2) >= 0.00001):\n",
    "         print(\"WARNING: ces deux prix devrait coincider : \",p1,\" <> \",p2);\n",
    "    else:\n",
    "         print(\". C'est parfait!\")\n",
    "\n",
    "    N=1000;d=1-sigma/math.sqrt(N);u=1+sigma/math.sqrt(N);\n",
    "    prix_am(x_0,r,u,d,p,N,gain_put)\n",
    "\n",
    "main_2()"
   ]
  },
  {
   "cell_type": "markdown",
   "metadata": {},
   "source": [
    " __Question 2.5.__ Tracer les courbes de prix américaines et européennes  $x\\to v(0,x)$ pour $x\\in [80,120]$ et les\n",
    "  supperposer au \"payoff\".\n",
    "  \n",
    "  On constate que le prix est toujours plus grand que le prix européen et que le gain immédiat."
   ]
  },
  {
   "cell_type": "code",
   "execution_count": 19,
   "metadata": {},
   "outputs": [
    {
     "data": {
      "image/png": "[encoded data removed]",
      "text/plain": [
       "<Figure size 432x288 with 1 Axes>"
      ]
     },
     "metadata": {
      "needs_background": "light"
     },
     "output_type": "display_data"
    }
   ],
   "source": [
    "import matplotlib.pyplot as plt;\n",
    "\n",
    "def main_3():\n",
    "    # tracé de courbes\n",
    "    N=50\n",
    "    sigma=0.3\n",
    "    p=1/2;d=1-sigma/math.sqrt(N);u=1+sigma/math.sqrt(N);\n",
    "    K=100;x_0=100;\n",
    "    r_0=0.1;\n",
    "    r=r_0/N;\n",
    "\n",
    "    def gain_put(x): return max(K-x,0) # Payoff du put  \n",
    "    def gain_call(x): return max(x-K,0) # Payoff du call \n",
    "  \n",
    "    vmin=50;\n",
    "    vmax=150;   \n",
    "    courbe_am=np.zeros(vmax-vmin+1)\n",
    "    courbe_eu=np.zeros(vmax-vmin+1)\n",
    "    obstacle=np.zeros(vmax-vmin+1)\n",
    "\n",
    "    n=0;\n",
    "    x=range(vmin,vmax+1,1)\n",
    "    for current_x in x:\n",
    "        courbe_am[n]=prix_am(current_x,r,u,d,p,N,gain_put);\n",
    "        courbe_eu[n]=prix_eu(current_x,r,u,d,p,N,gain_put);\n",
    "        obstacle[n]=gain_put(current_x)\n",
    "        n=n+1; \n",
    "        \n",
    "    # On compare les courbes \"Américaines\" et \"Européennes\"\n",
    "    plt.plot(x,courbe_eu,label='Prix \"européen\"')\n",
    "    plt.plot(x,obstacle,label='Obstacle')\n",
    "    plt.plot(x,courbe_am,color='red',label='Prix \"américain\"')\n",
    "    plt.legend(loc='upper right')\n",
    "\n",
    "main_3()"
   ]
  },
  {
   "cell_type": "markdown",
   "metadata": {},
   "source": [
    "__Question 2.6.__ Regardez comment le prix évolue au fils du temps~: tracez les\n",
    "  courbes $x\\to v(n,x)$, pour $n=0,2,5,20,50$. Ce prix est égal à $(K-x)_+$ en zéro, il croit avec $n$."
   ]
  },
  {
   "cell_type": "code",
   "execution_count": 20,
   "metadata": {},
   "outputs": [
    {
     "data": {
      "image/png": "[encoded data removed]",
      "text/plain": [
       "<Figure size 432x288 with 1 Axes>"
      ]
     },
     "metadata": {
      "needs_background": "light"
     },
     "output_type": "display_data"
    }
   ],
   "source": [
    "import matplotlib.pyplot as plt\n",
    "\n",
    "def main_4():\n",
    "    sigma=0.3;\n",
    "    K=100;x_0=100;\n",
    "\n",
    "    N=50;\n",
    "    p=1/2;d=1-sigma/math.sqrt(N);u=1+sigma/math.sqrt(N);\n",
    "    r_0=0.1;r=r_0/N;\n",
    "\n",
    "    def gain_put(x): return max(K-x,0) # Payoff du put  \n",
    "    def gain_call(x): return max(x-K,0) # Payoff du call \n",
    "\n",
    "    vmin=50;vmax=150;\n",
    "    # évolution de la courbe en fonction de n\n",
    "    liste=[0,2,5,20,50]\n",
    "    courbe_am=np.zeros([np.size(liste),vmax-vmin+1])\n",
    "    index_n=0\n",
    "    x=range(vmin,vmax+1,1)\n",
    "    for N in liste:\n",
    "        i=0;\n",
    "        # construction de la courbe de prix si l'echéance est N\n",
    "        for current_x in x:\n",
    "            courbe_am[index_n,i]=prix_am(current_x,r,u,d,p,N,gain_put)\n",
    "            i=i+1\n",
    "        index_n=index_n+1\n",
    "    \n",
    "    for n in range(index_n):\n",
    "        text='n = '+str(liste[n])\n",
    "        plt.plot(x,courbe_am[n,:],label=text)\n",
    "    plt.legend(loc='upper right')\n",
    "        \n",
    "main_4()"
   ]
  },
  {
   "cell_type": "markdown",
   "metadata": {},
   "source": [
    "__Question 2.7__ Que constatez vous lorsque $N$ augmente ($N=10,100,200,500$) et\n",
    "  que l'on choisit $r$, $u$ et $d$ en fonction de $N$ comme définis\n",
    "  plus haut ($r=r_0/N$, $d=1-\\sigma/\\sqrt{N}$, $u=1+\\sigma/\\sqrt{N}$).\n",
    "  \n",
    "__Commentaire:__ lorsque $N$ tend vers $+\\infty$ dans ces\n",
    "  conditions, les prix convergent vers le prix d'un modèle continu (le\n",
    "  célèbre modèle de Black et Scholes).  Dans le cas européen, le\n",
    "  résultat se prouve grâce au théorème de la limite centrale (cours \n",
    "  du premier semestre). Dans le cas américain qui nous intéresse, c'est \n",
    "  plus compliqué, mais ca reste vrai !"
   ]
  },
  {
   "cell_type": "code",
   "execution_count": 21,
   "metadata": {},
   "outputs": [
    {
     "data": {
      "image/png": "[encoded data removed]",
      "text/plain": [
       "<Figure size 432x288 with 1 Axes>"
      ]
     },
     "metadata": {
      "needs_background": "light"
     },
     "output_type": "display_data"
    }
   ],
   "source": [
    "def main_5():\n",
    "    # Avec cet algorithme on peut augmenter N\n",
    "    # mais il faut renormaliser convenablement u et d pour obtenir une convergence.\n",
    "    # Essayer avec N=10,100,200,...,1000\n",
    "\n",
    "    sigma=0.3\n",
    "    K=100\n",
    "    x_0=100\n",
    "    r_0=0.1\n",
    "    p=1/2\n",
    "    N=50\n",
    "\n",
    "    def gain_put(x): return max(K-x,0) # Payoff du put  \n",
    "\n",
    "    vmin=50;vmax=150;\n",
    "    courbe=np.zeros(vmax-vmin+1)\n",
    "    x=range(vmin,vmax+1,1)\n",
    "    for N in [2,5,20,100]:\n",
    "        # Une renormalisation convenable\n",
    "        # pour converger vers un modèle de Black et Scholes\n",
    "        r=r_0/N;\n",
    "        d=1-sigma/math.sqrt(N);\n",
    "        u=1+sigma/math.sqrt(N);\n",
    "        n=0;\n",
    "        for current_x in x:\n",
    "            text='N = '+str(N)\n",
    "            courbe[n]=prix_am(current_x,r,u,d,p,N,gain_put)\n",
    "            n=n+1; \n",
    "        plt.plot(x,courbe,label=text);\n",
    "    plt.legend(loc='upper right')\n",
    "\n",
    "main_5()"
   ]
  },
  {
   "cell_type": "markdown",
   "metadata": {},
   "source": [
    "# Simulation selon la loi du temps optimal"
   ]
  },
  {
   "cell_type": "markdown",
   "metadata": {},
   "source": [
    "On va chercher à se faire une idée du temps d'exercice optimal en simulant sa loi. On verra que cette loi a des formes variées en fonction de la valeur initiale."
   ]
  },
  {
   "cell_type": "markdown",
   "metadata": {},
   "source": [
    "__Question 2.8__ Ecrire une fonction qui simule le vecteur\n",
    "  $(Bin(0),Bin(1),\\ldots,Bin(N))$ du nombre de piles cumulé successif dans des $N$\n",
    "  tirages à pile ou face $(p,1-p)$. Par convention $Bin(0)=0$.\n",
    "\n",
    "  Le vecteur $Bin$ permet d'exprimer $X(n)$, la valeur en $n$ du modèle de Cox-Ross, sous la forme:\n",
    "  $$\n",
    "   X(n)=x_0 u^{Bin(n)} d^{n-Bin(n)}.\n",
    "  $$"
   ]
  },
  {
   "cell_type": "code",
   "execution_count": 68,
   "metadata": {},
   "outputs": [
    {
     "name": "stdout",
     "output_type": "stream",
     "text": [
      "[0 1 1 2 3 4]\n"
     ]
    }
   ],
   "source": [
    "def simul_bin(N,p):\n",
    "# sommes partielles du nombre de tirages \"up\" (=u) \n",
    "# dans N tirages à pile ou face (p,1-p)\n",
    "\n",
    "    unif=np.random.rand(N+1) # N+1 tirages uniformes dans [0,1], on n'utilise pas le tirage \"0\"\n",
    "    Bin=np.zeros(N+1,dtype=int) \n",
    "    # Bin(0)=0, on commence donc a n=1 \n",
    "    for n in range(1,N+1):# range(1,N+1) = 1, ..., N\n",
    "        # tirages a pile ou face (p,1-p)\n",
    "        if (unif[n] <= p):\n",
    "            Bin[n]=Bin[n-1]+1\n",
    "        else:\n",
    "            Bin[n]=Bin[n-1]\n",
    "    return Bin;\n",
    "\n",
    "# simul_bin(5,1/2) est un vecteur de dimension 6 : Bin(0),...,Bin(5). Bin(0) vaut toujours 0.\n",
    "print(simul_bin(5,1/2))"
   ]
  },
  {
   "cell_type": "markdown",
   "metadata": {},
   "source": [
    "__Question 2.9__ Calculer la prix américain en conservant dans un vecteur $V(n,k)$ les valeurs en l'instant $n$ et au point $X[k]=x_0 u^{k} d^{n-k}$. $k$ varie de $0$ à $n$. Il suffit de modifier legérement l'algorithme de la __question 2.3__ en stockant les valeurs."
   ]
  },
  {
   "cell_type": "code",
   "execution_count": 69,
   "metadata": {},
   "outputs": [],
   "source": [
    "def prix_am_vect(x_0,r,u,d,p,N,gain):\n",
    "# On calcule les valeurs de \"v(n,x)\" (voir question précédente)\n",
    "# mais, ici, on les conserve dans un vecteur \"V\"\n",
    "# ce qui évitera d'avoir à les re-calculer un grand \n",
    "# nombre de fois lors des simulations.\n",
    "    V=np.zeros([N+1,N+1])\n",
    "    for k in range(N+1):\n",
    "        x=x_0 * u**k * d**(N-k) # le point de calcul\n",
    "        V[N,k]=gain(x) # Valeur de U en N\n",
    "\n",
    "    for n in range(N-1,-1,-1): # le temps decroit de N-1 a 0\n",
    "        for k in range(n+1): # k varie de 0 a n\n",
    "            x = x_0 * u**k * d**(n-k) # le point de calcul\n",
    "            V[n,k]=p*V[n+1,k+1] + (1-p)* V[n+1,k]\n",
    "            V[n,k]= V[n,k] / (1+r) # actualisation\n",
    "            V[n,k]=max(V[n,k],gain(x)) # calcul du max\n",
    "    return V"
   ]
  },
  {
   "cell_type": "markdown",
   "metadata": {},
   "source": [
    "__Question 2.10__ A partir d'une trajectoire du modèle de Cox-Ross donnée par le vecteur\n",
    "  $Bin$ et des valeurs de $V$ précédemment calculées, évaluer le\n",
    "  temps d'arrêt optimal associé à cette trajectoire. \n",
    "  \n",
    "  Pour des raisons techniques, on est obligé de rajouter \"& (gain_immediat > 0)\" à la condition \n",
    "  d'exercice classique (le gain immediat = la valeur courrante de $v$). Cette condition est naturelle, \n",
    "  puisque si le gain immédiat est nul, on n'a aucun intérêt à exercer en cet instant, bien sûr."
   ]
  },
  {
   "cell_type": "code",
   "execution_count": 70,
   "metadata": {},
   "outputs": [],
   "source": [
    "def temps_optimal_option(x_0,u,d,Bin,V,gain):\n",
    "    # Bin est la somme cumulée de tirages de Bernouilli indépendants\n",
    "    # Calcule le temps d'arrêt optimal associé à la trajectoire \n",
    "    # (X(0),X(1),...,X(N)) où  X(n) = x_0 * u**Bin(n) * d**(n-Bin(n))\n",
    "\n",
    "    for n in range(np.size(Bin)):\n",
    "        x_n=x_0 * u**Bin[n] * d**(n-Bin[n]) # Valeur de X(n) pour ce tirage\n",
    "        Valeur = V[n,Bin[n]] # Calcul de V(n,X(n)) que l'on a pre-calculé\n",
    "        gain_immediat = gain(x_n) # le gain si on exerce en n\n",
    "        if (gain_immediat == Valeur) & (gain_immediat > 0):\n",
    "            return n\n",
    "    return N"
   ]
  },
  {
   "cell_type": "markdown",
   "metadata": {},
   "source": [
    "  Voici un programme qui permet de tracer des histogrammes. "
   ]
  },
  {
   "cell_type": "code",
   "execution_count": 71,
   "metadata": {},
   "outputs": [],
   "source": [
    "def histo_discret(samples, maxsize,titre):\n",
    "# histogramme de tirages selon une loi discrète à valeurs entières\n",
    "# supposé prendre des valeurs entre 0 et maxsize.\n",
    "    size, scale = 20000, 100\n",
    "    my_histo = pd.Series(samples)\n",
    "    my_histo.plot.hist(grid=True, bins=maxsize+1, rwidth=2, color='#607c8e',range=[0,maxsize])\n",
    "    plt.title(' ')\n",
    "    plt.xlabel(titre)\n",
    "    plt.ylabel(' ')\n",
    "    plt.grid(axis='y', alpha=1)"
   ]
  },
  {
   "cell_type": "markdown",
   "metadata": {},
   "source": [
    "Simuler un grand nombre de trajectoires du modèle de Cox-Ross et\n",
    "  les valeurs des temps d'arrêt associés à ces trajectoires.  Tracer\n",
    "  un histogramme de la loi du temps d'arrêt optimal.  Faire varier les\n",
    "  valeurs de $x_0$ ($x_0=60,70,80,100,120)$) et voir l'influence de\n",
    "  ce choix sur le loi du temps d'arrêt optimal."
   ]
  },
  {
   "cell_type": "code",
   "execution_count": 77,
   "metadata": {},
   "outputs": [],
   "source": [
    "def un_test(x_0,N):\n",
    "    # paramètres du modèle et de l'option\n",
    "    sigma=0.3\n",
    "    p=1/2;d=1-sigma/math.sqrt(N);u=1+sigma/math.sqrt(N)\n",
    "    K=100\n",
    "    r_0=0.1\n",
    "    r=r_0/N\n",
    "    # payoff (ou gain) de l'option put\n",
    "    def gain_put(x): return max(K-x,0) \n",
    "\n",
    "    # calcul de la fonction v\n",
    "    V=prix_am_vect(x_0,r,u,d,p,N,gain_put)\n",
    "\n",
    "    # \"Nbre\" tirages selon la loi du temps d'arrêt optimal\n",
    "    Nbre=1000;\n",
    "    tau=np.zeros(Nbre,dtype=int)\n",
    "    for j in range(Nbre):\n",
    "        Bin=simul_bin(N,p); # tirage des \"bernouillis cumulées\"\n",
    "        tau[j]=temps_optimal_option(x_0,u,d,Bin,V,gain_put) # valeur du temps optimal pour ce tirage\n",
    "    histo_discret(tau,N,'Temps optimal')"
   ]
  },
  {
   "cell_type": "markdown",
   "metadata": {},
   "source": [
    "Expérimenter pour diverses valeurs de $x_0$. On vous suggère $x_0=K=100$, puis $x_0=60, 70, 80, 100, 120$. Vous constaterez que la loi de $\\tau$ varie considérablement."
   ]
  },
  {
   "cell_type": "code",
   "execution_count": 78,
   "metadata": {},
   "outputs": [
    {
     "data": {
      "image/png": "[encoded data removed]",
      "text/plain": [
       "<Figure size 432x288 with 1 Axes>"
      ]
     },
     "metadata": {
      "needs_background": "light"
     },
     "output_type": "display_data"
    }
   ],
   "source": [
    "# un test simple \"at the money\" |$(K=x_0)$|\n",
    "N=50\n",
    "x_0=100;tau=un_test(x_0,N)"
   ]
  },
  {
   "cell_type": "code",
   "execution_count": 79,
   "metadata": {},
   "outputs": [
    {
     "data": {
      "image/png": "[encoded data removed]",
      "text/plain": [
       "<Figure size 432x288 with 1 Axes>"
      ]
     },
     "metadata": {
      "needs_background": "light"
     },
     "output_type": "display_data"
    }
   ],
   "source": [
    "    N=50\n",
    "    x_0=60;tau=un_test(x_0,N) # lorsque x_0 << K, on exerce toujours en 0"
   ]
  },
  {
   "cell_type": "code",
   "execution_count": 80,
   "metadata": {},
   "outputs": [
    {
     "data": {
      "image/png": "[encoded data removed]",
      "text/plain": [
       "<Figure size 432x288 with 1 Axes>"
      ]
     },
     "metadata": {
      "needs_background": "light"
     },
     "output_type": "display_data"
    }
   ],
   "source": [
    "    N=50\n",
    "    x_0=70;tau=un_test(x_0,N) # on augmente x_0, on n'exerce plus (jamais) en 0"
   ]
  },
  {
   "cell_type": "code",
   "execution_count": 81,
   "metadata": {},
   "outputs": [
    {
     "data": {
      "image/png": "[encoded data removed]",
      "text/plain": [
       "<Figure size 432x288 with 1 Axes>"
      ]
     },
     "metadata": {
      "needs_background": "light"
     },
     "output_type": "display_data"
    }
   ],
   "source": [
    "N=50\n",
    "x_0=80;tau=un_test(x_0,N) # On exerce de plus en plus tard ..."
   ]
  },
  {
   "cell_type": "code",
   "execution_count": 82,
   "metadata": {},
   "outputs": [
    {
     "data": {
      "image/png": "[encoded data removed]",
      "text/plain": [
       "<Figure size 432x288 with 1 Axes>"
      ]
     },
     "metadata": {
      "needs_background": "light"
     },
     "output_type": "display_data"
    }
   ],
   "source": [
    "N=50\n",
    "x_0=100;tau=un_test(x_0,N)"
   ]
  },
  {
   "cell_type": "code",
   "execution_count": 83,
   "metadata": {},
   "outputs": [
    {
     "data": {
      "image/png": "[encoded data removed]",
      "text/plain": [
       "<Figure size 432x288 with 1 Axes>"
      ]
     },
     "metadata": {
      "needs_background": "light"
     },
     "output_type": "display_data"
    }
   ],
   "source": [
    "N=50\n",
    "x_0=120;tau=un_test(x_0,N) # Le plus souvent en N"
   ]
  },
  {
   "cell_type": "markdown",
   "metadata": {},
   "source": [
    " __Question 2.11__ Le cas du call (l'option dont le gain instantané vaut $(x-K)_+$) est très particulier. On peut montrer que dans ce cas, l'option ne s'exerce qu'à échéance. On le vérifie, ici, par simulation."
   ]
  },
  {
   "cell_type": "code",
   "execution_count": 84,
   "metadata": {},
   "outputs": [],
   "source": [
    "# Teste le cas du call (x-K)_+\n",
    "# qui ne s'exerce jamais avant l'écheance N.\n",
    "# Le fait que le prix eu du call soit toujours plus grand \n",
    "# que l'obstacle permet de le prouver rigoureusement (pourquoi?).\n",
    "  \n",
    "def main_8():\n",
    "    sigma=0.3; r_0=0.1\n",
    "    K=100;x_0=100\n",
    "    N=50\n",
    "    r=r_0/N\n",
    "    u=(1+r)*math.exp(sigma/math.sqrt(N));d=(1+r)*math.exp(-sigma/math.sqrt(N))\n",
    "    p=1/2;  #p= (1+r-d)/(u-d); # en principe pour Cox-Ross\n",
    "    \n",
    "    def gain_call(x): return max(x-K,0) # Payoff du call \n",
    " \n",
    "    V_call=prix_am_vect(x_0,r,u,d,p,N,gain_call)\n",
    "    Nbre=1000\n",
    "    tau=np.zeros(Nbre)\n",
    "    for j in range(Nbre):\n",
    "        Bin=simul_bin(N,p)\n",
    "        tau[j]=temps_optimal_option(x_0,u,d,Bin,V_call,gain_call)\n",
    "    histo_discret(tau,N,'Temps optimal')"
   ]
  },
  {
   "cell_type": "code",
   "execution_count": 85,
   "metadata": {},
   "outputs": [
    {
     "data": {
      "image/png": "[encoded data removed]",
      "text/plain": [
       "<Figure size 432x288 with 1 Axes>"
      ]
     },
     "metadata": {
      "needs_background": "light"
     },
     "output_type": "display_data"
    }
   ],
   "source": [
    "main_8() # un call sans dividende s'exerce toujours à l'instant N"
   ]
  },
  {
   "cell_type": "markdown",
   "metadata": {},
   "source": [
    "__Question 2.12__ Probabilité d'exercice anticipé."
   ]
  },
  {
   "cell_type": "markdown",
   "metadata": {},
   "source": [
    " Évaluer la probabilité d'exercice anticipé (i.e. $\\P(\\tau < N)$,\n",
    "  si $\\tau$ est le temps d'arrêt optimal. Vérifier par simulation que\n",
    "  cette probabilité est strictement positive (pour le put). Elle décroit en fonction de $x_0$."
   ]
  },
  {
   "cell_type": "code",
   "execution_count": 86,
   "metadata": {},
   "outputs": [],
   "source": [
    "def compute_proba(x_0,N):\n",
    "    # Proba que tau<N\n",
    "    sigma=0.3;\n",
    "    p=1/2;d=1-sigma/math.sqrt(N);u=1+sigma/math.sqrt(N)\n",
    "    K=100\n",
    "    r_0=0.1\n",
    "    r=r_0/N\n",
    " \n",
    "    def gain_put(x): return max(K-x,0) # Payoff du put  \n",
    "\n",
    "    V=prix_am_vect(x_0,r,u,d,p,N,gain_put);\n",
    "\n",
    "    Nbre=1000;\n",
    "    tau=np.zeros(Nbre,dtype=int)\n",
    "    for j in range(Nbre):\n",
    "        Bin=simul_bin(N,p)\n",
    "        tau[j]=temps_optimal_option(x_0,u,d,Bin,V,gain_put)\n",
    "    \n",
    "    res=0\n",
    "    for j in range(Nbre):\n",
    "        if (tau[j] < N):\n",
    "            res=res+1\n",
    "    return res / Nbre\n",
    "\n",
    "def main_9():\n",
    "    N = 50\n",
    "    for x_0 in [60,70,80,100,120]:\n",
    "         print(\"x_0 =\",x_0,\": proba d'exercice = \",compute_proba(x_0,N))"
   ]
  },
  {
   "cell_type": "code",
   "execution_count": 87,
   "metadata": {},
   "outputs": [
    {
     "name": "stdout",
     "output_type": "stream",
     "text": [
      "x_0 = 60 : proba d'exercice =  1.0\n",
      "x_0 = 70 : proba d'exercice =  0.937\n",
      "x_0 = 80 : proba d'exercice =  0.805\n",
      "x_0 = 100 : proba d'exercice =  0.533\n",
      "x_0 = 120 : proba d'exercice =  0.271\n"
     ]
    }
   ],
   "source": [
    "main_9()"
   ]
  },
  {
   "cell_type": "markdown",
   "metadata": {},
   "source": [
    "__Question 2.12__ Tracer la frontière d'exercice en fonction du temps. \n",
    "\n",
    "C'est la courbe $n\\to s(n)$ telle que $V(n,x) > (K-x)_+$ si et seulement si $x>s(n)$. Autrement \n",
    "dit le point où $V(n,x)$ se détache de $(K-x)_+$.\n",
    "\n",
    "On doit exercer l'option lorsque $X_n < s(n)$, attendre sinon.\n",
    "\n",
    "Pour mieux comprendre, consulter le dessin correspondant à la __question 2.5__."
   ]
  },
  {
   "cell_type": "code",
   "execution_count": 88,
   "metadata": {},
   "outputs": [],
   "source": [
    "def frontiere(N,x_0,u,d,V,gain):\n",
    "    # Calcule la frontière d'exercice t -> s(t) t\\in[0,N]\n",
    "    # à partir du tableau V[n,j]\n",
    "    s=np.zeros(N+1);\n",
    "    for n in range(N):\n",
    "        for k in range(n+1):\n",
    "            # Dans le cas du put, on cherche le premier point ou le prix est strictement \n",
    "            # supérieur au gain immédiat. \n",
    "            x=x_0*u**k *d**(n-k);\n",
    "            if (V[n,k] > gain(x)):\n",
    "                s[n]=x_0*(u**k)*d**(n-k);\n",
    "                break;\n",
    "    # Le cas n=N est particulier (puisque V[N,j] est exactement égal à gain(x_j)),\n",
    "    # on prolonge avec la valeur précédente pour avoir un beau dessin.\n",
    "    s[N]=s[N-1] \n",
    "    return s\n",
    "\n",
    "def main_10(): \n",
    "    N=1000;\n",
    "    r_0=0.05;r=r_0/N;\n",
    "    sigma=0.3;\n",
    "    K=100;\n",
    "    x_0=60;# pour avoir un joli dessin sans artéfacts, \n",
    "           # il est préférable de partir d'une valeur x_0 proche de la valeur de la fontière en 0.\n",
    "           # Vous pouvez expérimenter avec d'autres valeurs plus petites et plus grande \n",
    "           # chercher à interpréter ce qui se passe. Ce n'est pas si facile ...\n",
    "    p=1/2;d=1-sigma/math.sqrt(N);u=1+sigma/math.sqrt(N);\n",
    "    def gain_put(x): return max(K-x,0) # Payoff du put  \n",
    "\n",
    "    V=prix_am_vect(x_0,r,u,d,p,N,gain_put);\n",
    "    front=frontiere(N,x_0,u,d,V,gain_put);\n",
    "    plt.plot(front,label='frontière');\n",
    "    plt.legend(loc='upper right')\n"
   ]
  },
  {
   "cell_type": "code",
   "execution_count": 89,
   "metadata": {},
   "outputs": [
    {
     "data": {
      "image/png": "[encoded data removed]",
      "text/plain": [
       "<Figure size 432x288 with 1 Axes>"
      ]
     },
     "metadata": {
      "needs_background": "light"
     },
     "output_type": "display_data"
    }
   ],
   "source": [
    "main_10()"
   ]
  },
  {
   "cell_type": "markdown",
   "metadata": {},
   "source": [
    "# 3. Un problème de recrutement"
   ]
  },
  {
   "cell_type": "markdown",
   "metadata": {},
   "source": [
    "On reçoit, consécutivement, $N$ candidats à un poste. Les\n",
    "circonstances m'imposent de décider tout de suite du recrutement (soit\n",
    "on recrute la personne que l'on vient de recevoir, soit on la refuse\n",
    "définitivement). On cherche à maximiser la proabilité de recruter le\n",
    "meilleur candidat. Quelle est la meilleure stratégie ?\n",
    "\n",
    "On a vu en cours que l'on peut se ramener à $(S_1,\\ldots,S_N)$ est une\n",
    "suite de variables aléatoires indépendantes de Bernouilli $1/n$, qui\n",
    "est une chaîne de Markov sur l'espace $E=\\{0,1\\}$, non homogène, de\n",
    "matrice de transition, dépendant du temps, $P_n$\n",
    "$$\n",
    "\\begin{array}{lcl}\n",
    "  P_n(0,0)&=&P_n(1,0)=1-\\frac{1}{n+1}=\\frac{n}{n+1},\\\\\n",
    "  P_n(0,1)&=&P_n(1,1)=\\frac{1}{n+1}.\n",
    "\\end{array}\n",
    "$$\n",
    "On chercher à maximiser $\\P(\\tau\\;\\mbox{ est le\n",
    "  meilleur})=\\E\\left(\\frac{\\tau}{N} S_\\tau\\right)$ (voir les transparents pour une preuve) parmi tous les\n",
    "temps d'arrêt."
   ]
  },
  {
   "cell_type": "markdown",
   "metadata": {},
   "source": [
    "__Question 3.1__ Ecrire un programme _Python_ qui calcule la solution\n",
    "  $(u(n,0\\mbox{ ou } 1),0\\leq n \\leq N)$ de l'équation de\n",
    "  programmation dynamique donnée par (voir cours)\n",
    "  $$\n",
    "  \\left\\{\n",
    "    \\begin{array}{l}\n",
    "      u(n,x) = \\max\\Big\\{ \\frac{n}{n+1} u(n+1,0) + \\frac{1}{n+1} u(n+1,1),\\frac{n}{N} x\\Big\\}, n<N,\\\\\n",
    "      u(N,x) = x,\n",
    "    \\end{array}\n",
    "  \\right.   \n",
    "  $$\n",
    "  On calcule $(u(n,\\{0,1\\}),0\\leq n \\leq N)$ à l'aide de l'équation de\n",
    "  programmation dynamique. On désigne l'\"obstacle\" par $(f(n,\\{0,1\\}),0\\leq n \\leq N)$.\n",
    "  Notez que $f(n,0)=0$ et $f(n,1)=n/N$.\n"
   ]
  },
  {
   "cell_type": "code",
   "execution_count": 90,
   "metadata": {},
   "outputs": [],
   "source": [
    "  def compute_u(N):\n",
    "    u=np.zeros([N+1,2]);\n",
    "    u[N,0]=0;u[N,1]=1; # initialisation des valeurs terminales en N\n",
    "    for n in range(N-1,-1,-1): # = N-1,N-2, ..., 0\n",
    "        temp = (n/(n+1))*u[n+1,0] + (1/(n+1))*u[n+1,1];\n",
    "        # temp >= 0, donc u(n,0)=max(temp,0)=temp\n",
    "        u[n,0]=temp\n",
    "        u[n,1]=max(temp,n/N)\n",
    "        \n",
    "    return u"
   ]
  },
  {
   "cell_type": "markdown",
   "metadata": {},
   "source": [
    " __Question 3.2__ Tracer les courbes $u(n,0)$, $u(n,1)$ ainsi que \"l'obstacle\"\n",
    "  $f(n,1)=\\frac{n}{N}$. "
   ]
  },
  {
   "cell_type": "code",
   "execution_count": 91,
   "metadata": {},
   "outputs": [],
   "source": [
    "def main_11():\n",
    "    N=1000;\n",
    "    obstacle=np.zeros(N+1)\n",
    "    for k in range(N+1):\n",
    "        obstacle[k]=k/N;\n",
    "\n",
    "    u=compute_u(N);\n",
    "    plt.plot(range(N+1),u[:,0],label='valeur pour x=0');# u(n,0)\n",
    "    plt.plot(range(N+1),obstacle,label='obstacle');\n",
    "    plt.plot(range(N+1),u[:,1],label='valeur pour x=1');# u(n,1)\n",
    "    plt.legend(bbox_to_anchor=(1.05, 1), loc='upper left', borderaxespad=0.)\n"
   ]
  },
  {
   "cell_type": "code",
   "execution_count": 179,
   "metadata": {},
   "outputs": [
    {
     "data": {
      "image/png": "[encoded data removed]",
      "text/plain": [
       "<Figure size 432x288 with 1 Axes>"
      ]
     },
     "metadata": {
      "needs_background": "light"
     },
     "output_type": "display_data"
    }
   ],
   "source": [
    "main_11()"
   ]
  },
  {
   "cell_type": "markdown",
   "metadata": {},
   "source": [
    "__Question 3.3__ Interprétez $u(n=0,s=1)$ comme la probabilité de choisir\n",
    "le meilleur candidat avec la stratégie optimale. Tracer la courbe\n",
    "$N$ donne\n",
    "$$\n",
    "  \\P(\\mbox{Le candidat choisi par une stratégie optimale est le\n",
    "    meilleur}),\n",
    "$$\n",
    "pour $N=10,25,50,100,250,500,1000$. Vérifier numériquement qu'elle converge vers $1/e\\approx 37\\%$.\n",
    "  "
   ]
  },
  {
   "cell_type": "code",
   "execution_count": 180,
   "metadata": {},
   "outputs": [],
   "source": [
    "def main_12():\n",
    "    # u(0,1) = P(succés pour la stratégie optimale)\n",
    "    # On vérifie que cette proba tends vers 1/e ~ 37\\%\n",
    "    valeurs=[10,15,20,25,30,40,50,60,70,80,100,150,200,250,500,1000];\n",
    "    courbe=np.zeros(np.size(valeurs));\n",
    "\n",
    "    i=0;\n",
    "    for N in valeurs:\n",
    "        u=compute_u(N);\n",
    "        courbe[i]=u[0,1];\n",
    "        i=i+1;\n",
    "\n",
    "    plt.plot(valeurs,courbe)"
   ]
  },
  {
   "cell_type": "code",
   "execution_count": 181,
   "metadata": {},
   "outputs": [
    {
     "data": {
      "image/png": "[encoded data removed]",
      "text/plain": [
       "<Figure size 432x288 with 1 Axes>"
      ]
     },
     "metadata": {
      "needs_background": "light"
     },
     "output_type": "display_data"
    }
   ],
   "source": [
    "main_12()"
   ]
  },
  {
   "cell_type": "markdown",
   "metadata": {},
   "source": [
    "# Calcul et simulation du temps d'arrêt optimal"
   ]
  },
  {
   "cell_type": "markdown",
   "metadata": {},
   "source": [
    "Vérifier que l'on a $u(n,0) > 0$ pour tout $n<N$ et donc que\n",
    "$0=f(n,0)\\not=u(n,0)$. Par ailleurs, on a bien sûr, $u(N,0)=0=f(N,0)$.\n",
    "\n",
    "Nous savons (voir le cours) qu'un temps d'arret optimal est donné par\n",
    "  $$\n",
    "  \\tau = \\inf\\{n\\geq 0, u(n,S_n)=f(n,S_n)\\}.\n",
    "  $$\n",
    "Se convaincre, à partir de cette formule, que le temps optimal $\\tau$ sera toujours \n",
    "postérieur à $\\tau_{min}$, le premier temps où $u(n,1)=f(n,1)=n/N$, (puisque, pour $n<N$, \n",
    "$u(n,0) > 0 = f(n,0)$, et le temps optimal ne peut donc être atteint avec $S_n=0$ lorsque $n<N$). \n",
    "\n",
    "Le temps d'arrêt optimal $\\tau$ sera donc la premier instant après $\\tau_{min}$ ($\\tau_{min}$ compris) \n",
    "pour lequel $S_n=1$ et $u(n,1)=n/N$ si $n<N$.\n",
    "\n",
    "Dans le cas où $S_n=0$ pour tous les $n$ entre $\\tau_{min}$ et $N$, on est obligé de choisir\n",
    "$\\tau=N$."
   ]
  },
  {
   "cell_type": "markdown",
   "metadata": {},
   "source": [
    "__Question 3.4__ \n",
    "Ecrire un algorithme de calcul du temps (déterministe) $\\tau_{min}$."
   ]
  },
  {
   "cell_type": "code",
   "execution_count": 182,
   "metadata": {},
   "outputs": [],
   "source": [
    "  def temps_min(N):\n",
    "    # Calcule le\n",
    "    # premier temps où |$u(n,1)=f(n,1)=n/N$|\n",
    "    # à |$\\epsilon$| près.\n",
    "    epsilon= 0.00001;\n",
    "    u=compute_u(N);\n",
    "    for n in range(N+1):\n",
    "        if (abs(u[n,1] - (n/N)) < epsilon): break;\n",
    "    return n;"
   ]
  },
  {
   "cell_type": "markdown",
   "metadata": {},
   "source": [
    "__Question 3.5__ Vérifier par simulation que le temps (déterministe) $\\tau_{min}$ \"vaut environ\"\n",
    "  $N/e$ pour $N$ grand.  On peut le démontrer \"sans trop de difficulté\"\n",
    "  à l'aide de la série harmonique. On se contente de le vérifier numériquement ici."
   ]
  },
  {
   "cell_type": "code",
   "execution_count": 183,
   "metadata": {},
   "outputs": [
    {
     "data": {
      "image/png": "[encoded data removed]",
      "text/plain": [
       "<Figure size 432x288 with 1 Axes>"
      ]
     },
     "metadata": {
      "needs_background": "light"
     },
     "output_type": "display_data"
    }
   ],
   "source": [
    "def main_13():\n",
    "    # Vérification que temps_min vaut environ |$N/e$|.\n",
    "    Taille=1000;\n",
    "    x=np.zeros(Taille+1)\n",
    "    for N in range(1,Taille+1):\n",
    "        x[N]=temps_min(N)/N;\n",
    "    e=math.exp(1)\n",
    "    x=x-1/e;\n",
    "    plt.plot(range(Taille+1),x);\n",
    "    \n",
    "main_13()"
   ]
  },
  {
   "cell_type": "markdown",
   "metadata": {},
   "source": [
    "Ecrire une fonction qui calcule la suite des rangs d'insertion ($R$ dans le cours)\n",
    "  d'une permutation et une fonction qui calcule la permutation\n",
    "  définie par ses rangs d'insertion successifs."
   ]
  },
  {
   "cell_type": "code",
   "execution_count": 184,
   "metadata": {},
   "outputs": [
    {
     "name": "stdout",
     "output_type": "stream",
     "text": [
      "rangs d'insertion:  [1 2 2 1 1 6 3 7 9 1]\n",
      "[ 5  7  6  3  2  9  4  8 10  1] ?=? [ 5  7  6  3  2  9  4  8 10  1]\n"
     ]
    }
   ],
   "source": [
    "def Omega2R(omega):\n",
    "# Calcule les rangs d'insertion d'une permutation omega donnée\n",
    "    R=np.zeros(np.size(omega),dtype=int) # crée u tableau d'entier\n",
    "    for n in range(np.size(omega)):\n",
    "        # classe le vecteur omega[1,...,n] en croissant\n",
    "        y=np.sort(omega[0:n+1]);\n",
    "        # R(n) = le classement de omega(n) parmi les n premiers\n",
    "        R[n]=np.where(y==omega[n])[0][0]+1\n",
    "    return R\n",
    "\n",
    "def R2Omega(R):\n",
    "    # Calcule omega connaissant les rangs d'insertion\n",
    "    iomega=np.zeros(0,dtype=int);# crée u tableau d'entier\n",
    "    for n in range(np.size(R)):\n",
    "        # J'insére n à l'indice R[n]\n",
    "        iomega=np.concatenate([iomega[0:int(R[n]-1)],[n+1],iomega[int(R[n]-1):n+1]])\n",
    "    # On inverse la permutation\n",
    "    omega=np.zeros(np.size(R),dtype=int)# crée u tableau d'entier\n",
    "    for n in range(np.size(omega)):\n",
    "        omega[int(iomega[n]-1)]=int(n+1)\n",
    "    return omega\n",
    "\n",
    "def main_14():\n",
    "    # test sur une permutation\n",
    "    N=10\n",
    "    omega=np.random.permutation(N)+1# tirage d'une permutation aléatoire.\n",
    "    R=Omega2R(omega)\n",
    "    print(\"rangs d'insertion: \",R)\n",
    "    \n",
    "    # Retrouve t'on omega ?\n",
    "    omega2=R2Omega(R)\n",
    "    print(omega,end='')\n",
    "    print(' ?=? ',end='')\n",
    "    print(omega2)\n",
    "\n",
    "main_14()"
   ]
  },
  {
   "cell_type": "markdown",
   "metadata": {},
   "source": [
    " __Question 3.6__ Vérifier par simulation que la probabilité d'obtenir le meilleur\n",
    "  candidat, lorsque l'on utilise la stratégie optimale, est de l'ordre\n",
    "  de $1/e\\approx 37\\%$. Ce qui n'est pas génial, mais c'est le mieux\n",
    "  que l'on puisse faire (sans connaitre l'avenir!)."
   ]
  },
  {
   "cell_type": "code",
   "execution_count": 185,
   "metadata": {},
   "outputs": [],
   "source": [
    "def temps_optimal(omega,N):\n",
    "# Calcule le temps d'arret optimum\n",
    "# pour la permutation |$\\omega$| \n",
    "\n",
    "    # Calcule la suite R à partir de omega (omega->R)\n",
    "    R=Omega2R(omega);\n",
    "    # calcul de tau_min\n",
    "    u=compute_u(N);\n",
    "    tau_min=temps_min(N);\n",
    "    # Le temps optimal se situe après tau_min et c'est le premier instant\n",
    "    # où R(n)=S(n)=1 apres ce temps, sauf si n=N, auquel cas on est oblige\n",
    "    # de prendre le dernier candidat.\n",
    "    for n in range(tau_min,N+1): # = tau_min, tau_min+1, ... , N\n",
    "        if R[n-1]==1: # n-1 parce que les indices de R varie de 0 a n-1\n",
    "            if u[n,1] == n/N: # à vrai dire cette condition n'est pas indispensable\n",
    "                              # car après tau_min, cette égalité est forcément vérifiée\n",
    "                break\n",
    "    # Si on sort de cette boucle avec n=N et N est bien optimal.\n",
    "    return n\n",
    "\n"
   ]
  },
  {
   "cell_type": "markdown",
   "metadata": {},
   "source": [
    "On teste dans un cas particulier."
   ]
  },
  {
   "cell_type": "code",
   "execution_count": 186,
   "metadata": {},
   "outputs": [
    {
     "name": "stdout",
     "output_type": "stream",
     "text": [
      "probabilité d'obtenir le meilleur:  0.363 ~ 1/e =  0.36787944117144233\n",
      "erreur : 0.004879441171442345 erreur Monte-Carlo maximum probable : 0.02988882127355379\n"
     ]
    }
   ],
   "source": [
    "def main_15():\n",
    "    # Verification que la probabilité d'obtenir\n",
    "    # le meilleur est de l'ordre de 1/e\n",
    "    N=100;\n",
    "    Taille=1000;\n",
    "  \n",
    "    ss=0;\n",
    "    for i in range(Taille):\n",
    "        omega=np.random.permutation(N)+1 # on rajoute 1 pour avoir la notation classique d'une permutation\n",
    "        tirages=temps_optimal(omega,N)    \n",
    "        # tirages(i) est il le meilleur ?\n",
    "        if (omega[int(tirages-1)]==1):  ss=ss+1;\n",
    "    proba=ss/Taille;\n",
    "    \n",
    "    e=math.exp(1)\n",
    "    p=1/e;\n",
    "    print(\"probabilité d'obtenir le meilleur: \",proba,\"~ 1/e = \",p);\n",
    "    print('erreur :',abs(proba-p),'erreur Monte-Carlo maximum probable :', 1.96*math.sqrt(p*(1-p)/Taille))\n",
    "                \n",
    "main_15()"
   ]
  },
  {
   "cell_type": "markdown",
   "metadata": {},
   "source": [
    "__Thème de réflexion 1.__ Pourquoi le problème posé avec la\n",
    "    chaîne de Markov $(R_n,0\\leq k\\leq N)$ en lieu et place de\n",
    "    $(S_n,0\\leq k\\leq N)$ donnerait il le même résultat ?\n",
    " "
   ]
  },
  {
   "cell_type": "markdown",
   "metadata": {},
   "source": [
    "__Thème de réflexion 2.__ Pourquoi le fait de donner une note\n",
    "   suivant une loi uniforme entre l'intervalle réel $[0,20]$ change le\n",
    "   résultat et augmente la probabilité d'obtenir le meilleur candidat\n",
    "   (bien que la loi induite sur les permutations reste la loi\n",
    "   uniforme) ?"
   ]
  }
 ],
 "metadata": {
  "kernelspec": {
   "display_name": "Python 3",
   "language": "python",
   "name": "python3"
  },
  "language_info": {
   "codemirror_mode": {
    "name": "ipython",
    "version": 3
   },
   "file_extension": ".py",
   "mimetype": "text/x-python",
   "name": "python",
   "nbconvert_exporter": "python",
   "pygments_lexer": "ipython3",
   "version": "3.7.2"
  }
 },
 "nbformat": 4,
 "nbformat_minor": 2
}
