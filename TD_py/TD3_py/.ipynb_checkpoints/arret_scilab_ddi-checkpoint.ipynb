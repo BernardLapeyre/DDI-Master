{
 "cells": [
  {
   "cell_type": "markdown",
   "metadata": {},
   "source": [
    "$\\newcommand\\indi[1]{{\\mathbf 1}_{\\displaystyle #1}}$\n",
    "$\\newcommand\\inde[1]{{\\mathbf 1}_{\\displaystyle\\left\\{ #1 \\right\\}}}$\n",
    "$\\newcommand{\\ind}{\\inde}$\n",
    "$\\newcommand\\E{{\\mathbf E}}$\n",
    "$\\newcommand\\P{{\\mathbf P}}$\n",
    "$\\newcommand\\Cov{{\\mathrm Cov}}$"
   ]
  },
  {
   "cell_type": "markdown",
   "metadata": {},
   "source": [
    "# Le calcul du prix d'une option \"américaine''"
   ]
  },
  {
   "cell_type": "markdown",
   "metadata": {},
   "source": [
    "## 1. Le cas européen (calcul d'espérance)"
   ]
  },
  {
   "cell_type": "markdown",
   "metadata": {},
   "source": [
    "On considère le  modèle de Cox-Ross:\n",
    "$$\n",
    "X_0=x_0, X_{n+1}= X_{n} \\left(d\\inde{U_{n+1}=P}+u\\inde{U_{n+1}=F}\\right).\n",
    "$$\n",
    "On choisit les valeurs numériques de la façon suivante\n",
    "$$\n",
    "   x_0=100, r_0=0,1, \\sigma=0,3.\n",
    "$$\n",
    "et l'on définit $p$, $r$, $u$ et $d$ en fonction de $N$ de la façon suivante~:\n",
    "$$\n",
    "p=1/2,\\;r=r_0/N,\\;u=1+\\frac{\\sigma}{\\sqrt{N}}\\; \\mbox{ et }\\; d=1-\\frac{\\sigma}{\\sqrt{N}}.\n",
    "$$\n",
    "On cherche à évaluer $\\E(f(N,X_N))$ où \n",
    "$$\n",
    " f(N,x)=\\frac{1}{(1+r)^N}\\max(K-x,0),\n",
    "$$\n",
    "avec $K=x_0=100$ et $r=0,05$."
   ]
  },
  {
   "cell_type": "markdown",
   "metadata": {},
   "source": [
    "__Question 1.1.__ Calculer ces prix d'options européennes (call et put) se ramène\n",
    "  à des calculs d'espérance d'une fonction d'une chaîne de Markov. On\n",
    "  implémente ici la méthode de calcul d'espérance par ``programmation\n",
    "  dynamique''."
   ]
  },
  {
   "cell_type": "code",
   "execution_count": 117,
   "metadata": {},
   "outputs": [],
   "source": [
    "import numpy as np\n",
    "import math\n",
    "import random\n",
    "import matplotlib.pyplot as plt\n",
    "import pandas as pd\n",
    "\n",
    "\n",
    "def prix_eu(x_0,r,u,d,p,N,gain):\n",
    "# Calcul du prix europeen a l'instant 0\n",
    "    U=np.zeros([N+1,N+1])\n",
    "    for k in range(0,N+1):\n",
    "        U[N,k] = gain(x_0 * u**k * d**(N-k))/(1+r)**N;\n",
    "    for n in range(N-1,-1,-1): #le temps decroit de N-1 a 0\n",
    "        for k in range(n+1):\n",
    "            U[n,k] =  p*U[n+1,k+1]+(1-p)*U[n+1,k]\n",
    "    return U[0,0]\n",
    "\n",
    "def prix_eu_n(n,x_0,r,u,d,p,N,gain):\n",
    "# Calcul du prix a l'instant n\n",
    "  return prix_eu(x_0,r,u,d,p,N-n,gain)"
   ]
  },
  {
   "cell_type": "markdown",
   "metadata": {},
   "source": [
    " On peut vérifier que lorsque $p=1/2$ (ou $r=0$) et $x=K$ le prix\n",
    "  des puts et des calls coïncident.  Pour le choix classique\n",
    "  $(1+r-d)/(u-d)$ (et $r\\not=0$), les prix sont différents, ce que\n",
    "  l'on vérifie aussi."
   ]
  },
  {
   "cell_type": "code",
   "execution_count": 118,
   "metadata": {},
   "outputs": [],
   "source": [
    "def main_1():\n",
    "    r_0=0.05;sigma=0.3;\n",
    "    x_0=100;K=100;\n",
    "\n",
    "    N=50;\n",
    "    d=1-sigma/math.sqrt(N);u=1+sigma/math.sqrt(N);\n",
    "    r=r_0/N;\n",
    "\n",
    "    # Lorsque p=1/2 et K=x_0 le prix du call = le prix du put (exercice!)\n",
    "    p=1/2;K=x_0;\n",
    "    \n",
    "    def gain_put(x): return max(K-x,0) # Payoff du put  \n",
    "    def gain_call(x): return max(x-K,0) # Payoff du call \n",
    "\n",
    "    p_put  = prix_eu_n(0,x_0,r,u,d,p,N,gain_put);\n",
    "    p_call = prix_eu_n(0,x_0,r,u,d,p,N,gain_call);\n",
    "    if (abs(p_put - p_call) >= 0.000001) :\n",
    "        print(\"WARNING: ces deux prix devrait coincider: \",p_put,\" <> \",p_call)\n",
    "    else:\n",
    "        print(\"Parfait!\");\n",
    "\n",
    "    p= (1+r-d)/(u-d)\n",
    "    print(\"Prix du call : \",prix_eu_n(0,x_0,r,u,d,p,N,gain_call))\n",
    "    print(\"Prix du put : \",prix_eu_n(0,x_0,r,u,d,p,N,gain_put))"
   ]
  },
  {
   "cell_type": "code",
   "execution_count": 119,
   "metadata": {},
   "outputs": [
    {
     "name": "stdout",
     "output_type": "stream",
     "text": [
      "Parfait!\n",
      "Prix du call :  14.285050131985198\n",
      "Prix du put :  9.410369101110671\n"
     ]
    }
   ],
   "source": [
    "main_1()"
   ]
  },
  {
   "cell_type": "markdown",
   "metadata": {},
   "source": [
    "Voici un programme qui permet de calculer des histogrammes."
   ]
  },
  {
   "cell_type": "code",
   "execution_count": 120,
   "metadata": {},
   "outputs": [],
   "source": [
    "def histo_discret(samples, maxsize,titre):\n",
    "# histogramme de tirages selon une loi discrète à valeurs entières\n",
    "# supposé prendre des valeurs entre 0 et maxsize.\n",
    "    size, scale = 10000, 10\n",
    "    my_histo = pd.Series(samples)\n",
    "    my_histo.plot.hist(grid=True, bins=20, rwidth=0.9, color='#607c8e')\n",
    "    plt.title(' ')\n",
    "    plt.xlabel(titre)\n",
    "    plt.ylabel(' ')\n",
    "    plt.grid(axis='y', alpha=1)"
   ]
  },
  {
   "cell_type": "markdown",
   "metadata": {},
   "source": [
    "## 2. Le cas américain (arrêt optimal)"
   ]
  },
  {
   "cell_type": "markdown",
   "metadata": {},
   "source": [
    "On s'intéresse au cas d'un option américaine qui promet (en valeur actualisée en $0$), si on l'exerce à l'intant $n$\n",
    "pour une valeur de $X_n$ valant $x$\n",
    "$$\n",
    "   \\frac{1}{(1+r)^n}\\max(K-x,0).\n",
    "$$\n",
    "On cherche à calculer son prix donné par \n",
    "$$\n",
    "\\sup_{\\tau \\mbox{ t.a.} \\leq N} \\E(f(\\tau,X_\\tau)).\n",
    "$$\n"
   ]
  },
  {
   "cell_type": "markdown",
   "metadata": {},
   "source": [
    "__Question 2.1__ On pose $v(n,x)=(1+r)**n u(n,x)$, vérifier en utilisant l'équation qui définit $u$ dans le cours, \n",
    " que $v$ est solution de \n",
    " \n",
    " \\begin{equation}\\label{eq:rec} \n",
    "    \\left\\{\n",
    "      \\begin{array}{l}\n",
    "        v(n,x) = \\displaystyle \\max\\left[\\frac{p v(n+1,xu)+(1-p) v(n+1,xd)}{1+r},(K-x)_+\\right], n<N, x\\in E\\\\\n",
    "        v(N,x) = (K-x)_+,  x\\in E.\n",
    "      \\end{array}\n",
    "    \\right.   \n",
    "  \\end{equation}"
   ]
  },
  {
   "cell_type": "markdown",
   "metadata": {},
   "source": [
    "__Question 2.2.__ Ecrire un algorithme récursif (et inefficace ...) pour le calcul de $v$ en recopiant l'équation précédente."
   ]
  },
  {
   "cell_type": "code",
   "execution_count": 121,
   "metadata": {},
   "outputs": [],
   "source": [
    "def prix_recursif_am(x,k,r,u,d,p,N,gain):\n",
    "    if k==N:\n",
    "        return gain(x)\n",
    "    else:\n",
    "        res = p * prix_recursif_am(x*u,k+1,r,u,d,p,N,gain) + (1-p) * prix_recursif_am(x*d,k+1,r,u,d,p,N,gain);\n",
    "        return max( res / (1+r), gain(x) )\n",
    "\n",
    "def prix_slow_am(x,r,u,d,p,N,gain):\n",
    "    return prix_recursif_am(x,0,r,u,d,p,N,gain)"
   ]
  },
  {
   "cell_type": "markdown",
   "metadata": {},
   "source": [
    "__Question 2.3.__ Ecrire un algorithme efficace de calcul de $v(n,x)$ (le prix de\n",
    "  l'option américaine en $n$)."
   ]
  },
  {
   "cell_type": "code",
   "execution_count": 122,
   "metadata": {},
   "outputs": [],
   "source": [
    "def prix_am(x_0,r,u,d,p,N,gain):\n",
    "# Calcul du prix americain a l'instant 0\n",
    "    U=np.zeros([N+1,N+1])\n",
    "    for k in range(N+1):\n",
    "        x=x_0 * u**k * d**(N-k) # le point de calcul\n",
    "        U[N,k]=gain(x);# Valeur de U en N\n",
    "\n",
    "    for n in range(N-1,-1,-1): # le temps decroit de N-1 a 0\n",
    "        for k in range(n+1): # k varie de 0 a n\n",
    "            U[n,k]=p*U[n+1,k+1] + (1-p)* U[n+1,k]\n",
    "            U[n,k]= U[n,k] / (1+r);# actualisation\n",
    "            x = x_0 * u**k * d**(n-k) # le point de calcul\n",
    "            U[n,k]=max(U[n,k],gain(x));# calcul du max\n",
    "    return U[0,0];\n",
    "\n",
    "def prix_am_n(n,x_0,r,u,d,p,N,gain): return prix_am(x_0,r,u,d,p,N-n,gain)"
   ]
  },
  {
   "cell_type": "markdown",
   "metadata": {},
   "source": [
    " __Question 2.4.__ Pour $N=10$, comparer les $2$ méthodes pour vérifier que tout\n",
    "  fonctionne. Effectuer des calculs de prix avec des $N$ plus grands\n",
    "  (uniquement pour la deuxième méthode, bien sûr)."
   ]
  },
  {
   "cell_type": "code",
   "execution_count": 123,
   "metadata": {},
   "outputs": [
    {
     "name": "stdout",
     "output_type": "stream",
     "text": [
      "Ces deux prix devrait coincider (ou presque) :  8.461120344261216  <>  8.461120344261218\n",
      "Parfait!\n"
     ]
    }
   ],
   "source": [
    "def main_2():\n",
    "    sigma=0.3; r_0=0.1;\n",
    "    K=100;x_0=100;\n",
    "\n",
    "    N=10;\n",
    "    r=r_0/N;\n",
    "    d=1-sigma/math.sqrt(N);\n",
    "    u=1+sigma/math.sqrt(N);\n",
    "    p= (1+r-d)/(u-d);#p=1/2;\n",
    "    \n",
    "    def gain_put(x): return max(K-x,0) # Payoff du put  \n",
    "    def gain_call(x): return max(x-K,0) # Payoff du call \n",
    "\n",
    "    prix_am(x_0,r,u,d,p,N,gain_put)\n",
    "    prix_slow_am(x_0,r,u,d,p,N,gain_put)\n",
    "\n",
    "    # Les deux algos font ils le même chose ?\n",
    "    # on verifie : prix_slow(x_0,N) \\approx prix(x_0,N)\n",
    "    p1=prix_slow_am(x_0,r,u,d,p,N,gain_put);\n",
    "    p2=prix_am(x_0,r,u,d,p,N,gain_put);\n",
    "    print(\"Ces deux prix devrait coincider (ou presque) : \",p1,\" <> \",p2);\n",
    "    if (abs(p1 - p2) >= 0.00001):\n",
    "         print(\"WARNING: ces deux prix devrait coincider : \",p1,\" <> \",p2);\n",
    "    else:\n",
    "         print(\"Parfait!\")\n",
    "\n",
    "    N=1000;d=1-sigma/math.sqrt(N);u=1+sigma/math.sqrt(N);\n",
    "    prix_am(x_0,r,u,d,p,N,gain_put)\n",
    "\n",
    "main_2()"
   ]
  },
  {
   "cell_type": "markdown",
   "metadata": {},
   "source": [
    " __Question 2.5.__ Tracer les courbes de prix américaines et européennes  $x\\to v(0,x)$ pour $x\\in [80,120]$ et les\n",
    "  supperposer au \"payoff\"."
   ]
  },
  {
   "cell_type": "code",
   "execution_count": 124,
   "metadata": {},
   "outputs": [
    {
     "data": {
      "image/png": "[encoded data removed]",
      "text/plain": [
       "<Figure size 432x288 with 1 Axes>"
      ]
     },
     "metadata": {},
     "output_type": "display_data"
    }
   ],
   "source": [
    "import matplotlib.pyplot as plt;\n",
    "\n",
    "def main_3():\n",
    "    # tracé de courbes\n",
    "    N=50\n",
    "    sigma=0.3\n",
    "    p=1/2;d=1-sigma/math.sqrt(N);u=1+sigma/math.sqrt(N);\n",
    "    K=100;x_0=100;\n",
    "    r_0=0.1;\n",
    "    r=r_0/N;\n",
    "\n",
    "    def gain_put(x): return max(K-x,0) # Payoff du put  \n",
    "    def gain_call(x): return max(x-K,0) # Payoff du call \n",
    "  \n",
    "    vmin=50;\n",
    "    vmax=150;   \n",
    "    courbe_am=np.zeros(vmax-vmin+1)\n",
    "    courbe_eu=np.zeros(vmax-vmin+1)\n",
    "    obstacle=np.zeros(vmax-vmin+1)\n",
    "\n",
    "    n=0;\n",
    "    for x in range(vmin,vmax+1,1):\n",
    "        courbe_am[n]=prix_am(x,r,u,d,p,N,gain_put);\n",
    "        courbe_eu[n]=prix_eu(x,r,u,d,p,N,gain_put);\n",
    "        obstacle[n]=gain_put(x)\n",
    "        n=n+1; \n",
    "        \n",
    "    # On compare les courbes \"Américaines\" et \"Européennes\"\n",
    "    plt.plot(courbe_am)\n",
    "    plt.plot(courbe_eu)\n",
    "    plt.plot(obstacle)\n",
    "    \n",
    "main_3()"
   ]
  },
  {
   "cell_type": "markdown",
   "metadata": {},
   "source": [
    "__Question 2.6.__ Regardez comment le prix évolue au fils du temps~: tracez les\n",
    "  courbes $x\\to v(n,x)$, pour $n=10,20,30,40,50$."
   ]
  },
  {
   "cell_type": "code",
   "execution_count": 125,
   "metadata": {},
   "outputs": [
    {
     "data": {
      "image/png": "[encoded data removed]",
      "text/plain": [
       "<Figure size 432x288 with 1 Axes>"
      ]
     },
     "metadata": {},
     "output_type": "display_data"
    }
   ],
   "source": [
    "import matplotlib.pyplot as plt\n",
    "\n",
    "def main_4():\n",
    "    sigma=0.3;\n",
    "    K=100;x_0=100;\n",
    "\n",
    "    N=50;\n",
    "    p=1/2;d=1-sigma/math.sqrt(N);u=1+sigma/math.sqrt(N);\n",
    "    r_0=0.1;r=r_0/N;\n",
    "\n",
    "    def gain_put(x): return max(K-x,0) # Payoff du put  \n",
    "    def gain_call(x): return max(x-K,0) # Payoff du call \n",
    "\n",
    "    vmin=50;vmax=150;\n",
    "    # évolution de la courbe en fonction de n\n",
    "    liste=[2,5,10,20,40,50]\n",
    "    courbe_am=np.zeros([np.size(liste),vmax-vmin+1])\n",
    "    index_n=0\n",
    "    for N in liste:\n",
    "        i=0;\n",
    "        for x in range(vmin,vmax+1,1):\n",
    "            courbe_am[index_n,i]=prix_am(x,r,u,d,p,N,gain_put)\n",
    "            i=i+1\n",
    "        index_n=index_n+1\n",
    "    \n",
    "    for n in range(index_n):\n",
    "        plt.plot(range(vmin,vmax+1),courbe_am[n,:])\n",
    "        \n",
    "main_4()"
   ]
  },
  {
   "cell_type": "markdown",
   "metadata": {},
   "source": [
    "__Question 2.7__ Que constatez vous lorsque $N$ augmente ($N=10,100,200,500$) et\n",
    "  que l'on choisit $r$, $u$ et $d$ en fonction de $N$ comme définis\n",
    "  plus haut."
   ]
  },
  {
   "cell_type": "markdown",
   "metadata": {},
   "source": [
    "__Commentaire:__ lorsque $N$ vers $+\\infty$ dans ces\n",
    "  conditions, on converge vers le prix dans un modèle continu (le\n",
    "  célèbre: le modèle de Black et Scholes).  Dans le cas européen, le\n",
    "  résultat se prouve grâce au théorème de la limite centrale. Dans le\n",
    "  cas américain, c'est un peu plus compliqué!"
   ]
  },
  {
   "cell_type": "code",
   "execution_count": 126,
   "metadata": {},
   "outputs": [
    {
     "data": {
      "image/png": "[encoded data removed]",
      "text/plain": [
       "<Figure size 432x288 with 1 Axes>"
      ]
     },
     "metadata": {},
     "output_type": "display_data"
    }
   ],
   "source": [
    "def main_5():\n",
    "    # Avec cet algorithme on peut augmenter N\n",
    "    # mais il faut renormaliser convenablement u et d.\n",
    "    # Essayer avec N=10,100,200,...,1000\n",
    "\n",
    "    sigma=0.3\n",
    "    K=100\n",
    "    x_0=100\n",
    "    r_0=0.1\n",
    "    p=1/2\n",
    "    N=50\n",
    "\n",
    "    def gain_put(x): return max(K-x,0) # Payoff du put  \n",
    "\n",
    "    vmin=50;vmax=150;\n",
    "    courbe=np.zeros(vmax-vmin+1)\n",
    "    for N in [5,10,20,30,50]:\n",
    "        # Une renormalisation convenable\n",
    "        # pour converger vers un modèle de Black et Scholes\n",
    "        r=r_0/N;\n",
    "        d=1-sigma/math.sqrt(N);\n",
    "        u=1+sigma/math.sqrt(N);\n",
    "        n=0;\n",
    "        for x in range(vmin,vmax+1,1):\n",
    "            courbe[n]=prix_am(x,r,u,d,p,N,gain_put);\n",
    "            n=n+1; \n",
    "        plt.plot(range(vmin,vmax+1),courbe);\n",
    "    #plot2d([vmin:vmax],max(K-[vmin:vmax],0));# Le payoff / l'obstacle\n",
    "\n",
    "main_5()"
   ]
  },
  {
   "cell_type": "markdown",
   "metadata": {},
   "source": [
    "__Question 2.8__ Ecrire une fonction qui simule le vecteur\n",
    "  $(Bin(1),\\ldots,Bin(N))$ du nombre de pile cumulé dans des $N$\n",
    "  tirages à pile ou façe $(p,1-p)$.\n",
    "\n",
    "  Par la suite le valeur $X(n)$ du modèle de Cox-Ross à l'instant $n$ s'écrira:\n",
    "  $$\n",
    "   X(n)=x_0 u^{Bin(n)} d^{n-Bin(n)}.\n",
    "  $$"
   ]
  },
  {
   "cell_type": "code",
   "execution_count": 127,
   "metadata": {},
   "outputs": [],
   "source": [
    "def simul_bin(N,p):\n",
    "# sommes partielles nombre de N tirages a pile ou face (p,1-p)\n",
    "    bin=np.random.rand(N) \n",
    "    cbin=np.zeros(N)\n",
    "    for k in range(1,N):\n",
    "        if (bin[k] <= p):\n",
    "            cbin[k]=cbin[k-1]+1\n",
    "        else:\n",
    "            cbin[k]=cbin[k-1]\n",
    "    # tirages a pile ou face (p,1-p)\n",
    "    return cbin;\n"
   ]
  },
  {
   "cell_type": "markdown",
   "metadata": {},
   "source": [
    "__Question 2.9__ Calculer la prix américain en conservant dans un vecteur $V(t,k)$ les valeurs en l'instant $t$ et au point $X[n]=x_0 u^{k} d^{n-k}$. "
   ]
  },
  {
   "cell_type": "code",
   "execution_count": 128,
   "metadata": {},
   "outputs": [],
   "source": [
    "def prix_am_vect(x_0,r,u,d,p,N,gain):\n",
    "# On calcule les valeurs de \"v(n,x)\" (voir question précédente)\n",
    "# mais, ici, on les conservent dans un vecteur \"V\"\n",
    "# ce qui évitera d'avoir à les re-calculer un grand \n",
    "# nombre de fois\n",
    "    V=np.zeros([N+1,N+1])\n",
    "    for k in range(N+1):\n",
    "        x=x_0 * u**k * d**(N-k) # le point de calcul\n",
    "        V[N,k]=gain(x);# Valeur de U en N\n",
    "\n",
    "    for n in range(N-1,-1,-1): # le temps decroit de N-1 a 0\n",
    "        for k in range(n+1): # k varie de 0 a n\n",
    "            V[n,k]=p*V[n+1,k+1] + (1-p)* V[n+1,k]\n",
    "            V[n,k]= V[n,k] / (1+r);# actualisation\n",
    "            x = x_0 * u**k * d**(n-k) # le point de calcul\n",
    "            V[n,k]=max(V[n,k],gain(x));# calcul du max\n",
    "    return V;"
   ]
  },
  {
   "cell_type": "markdown",
   "metadata": {},
   "source": [
    "__Question 2.10__ A partir d'une trajectoire du modèle de Cox-Ross donnée par le vecteur\n",
    "  $Bin$ et des valeurs de $V$ précédemment calculées, évaluer le\n",
    "  temps d'arrêt optimal associé à cette trajectoire. "
   ]
  },
  {
   "cell_type": "code",
   "execution_count": 129,
   "metadata": {},
   "outputs": [],
   "source": [
    "def temps_optimal_option(x_0,u,d,Bin,V,gain):\n",
    "    # Calcule le temps d'arrêt optimal associé à la trajectoire \n",
    "    # |$(X(1),\\ldots,X(N))$| où  |$X(n) =$|  x_0*u**Bin(n)*d**(n-Bin(n))\n",
    "    # Bin est la somme cumulée de tirages de Bernouilli indépendants\n",
    "    if gain(x_0) == V[0,0]: \n",
    "        return 0\n",
    "    for n in range(np.size(Bin)):\n",
    "        x=x_0*u**Bin[n]*d**(n-Bin[n]);# Valeur de X(n)\n",
    "        if (gain(x) == V[n,int(Bin[n])]) & (gain(x) > 0):\n",
    "            return n;\n",
    "    return N;"
   ]
  },
  {
   "cell_type": "markdown",
   "metadata": {},
   "source": [
    "Simuler un grand nombre de trajectoires du modèle de Cox-Ross et\n",
    "  les valeurs des temps d'arrêt associés à ces trajectoires.  Tracer\n",
    "  un histogramme de la loi du temps d'arrêt optimal.  Faire varier les\n",
    "  valeurs de $x_0$ ($x_0=60,70,80,100,120)$) et voir l'influence de\n",
    "  ce choix sur le loi du temps d'arrêt optimal."
   ]
  },
  {
   "cell_type": "code",
   "execution_count": 130,
   "metadata": {},
   "outputs": [],
   "source": [
    "def un_test(x_0,N):\n",
    "    sigma=0.3;\n",
    "    p=1/2;d=1-sigma/math.sqrt(N);u=1+sigma/math.sqrt(N);\n",
    "    K=100;\n",
    "    r_0=0.1;\n",
    "    r=r_0/N;\n",
    "    def gain_put(x): return max(K-x,0) # Payoff du put  \n",
    "\n",
    "    V=prix_am_vect(x_0,r,u,d,p,N,gain_put);\n",
    "    Nbre=1000;\n",
    "    tau=np.zeros(Nbre)\n",
    "    for j in range(Nbre):\n",
    "        Bin=simul_bin(N,p);\n",
    "        tau[j]=temps_optimal_option(x_0,u,d,Bin,V,gain_put);\n",
    "    histo_discret(tau,max(tau),'Temps optimal');"
   ]
  },
  {
   "cell_type": "code",
   "execution_count": 131,
   "metadata": {},
   "outputs": [
    {
     "data": {
      "image/png": "[encoded data removed]",
      "text/plain": [
       "<Figure size 432x288 with 1 Axes>"
      ]
     },
     "metadata": {},
     "output_type": "display_data"
    }
   ],
   "source": [
    "# un test simple \"at the money\" |$(K=x_0)$|\n",
    "N=100;\n",
    "x_0=100;tau=un_test(x_0,N);"
   ]
  },
  {
   "cell_type": "code",
   "execution_count": 132,
   "metadata": {},
   "outputs": [
    {
     "data": {
      "image/png": "[encoded data removed]",
      "text/plain": [
       "<Figure size 432x288 with 1 Axes>"
      ]
     },
     "metadata": {},
     "output_type": "display_data"
    }
   ],
   "source": [
    "    N=50;\n",
    "    x_0=60;tau=un_test(x_0,N);# on exerce toujours en 0"
   ]
  },
  {
   "cell_type": "code",
   "execution_count": 133,
   "metadata": {},
   "outputs": [
    {
     "data": {
      "image/png": "[encoded data removed]",
      "text/plain": [
       "<Figure size 432x288 with 1 Axes>"
      ]
     },
     "metadata": {},
     "output_type": "display_data"
    }
   ],
   "source": [
    "    N=50;\n",
    "    x_0=70;tau=un_test(x_0,N);# on n'exerce plus (jamais) en 0"
   ]
  },
  {
   "cell_type": "code",
   "execution_count": 134,
   "metadata": {},
   "outputs": [
    {
     "data": {
      "image/png": "[encoded data removed]",
      "text/plain": [
       "<Figure size 432x288 with 1 Axes>"
      ]
     },
     "metadata": {},
     "output_type": "display_data"
    }
   ],
   "source": [
    "N=50;\n",
    "x_0=80;tau=un_test(x_0,N);# On exerce de plus en plus tard ..."
   ]
  },
  {
   "cell_type": "code",
   "execution_count": 135,
   "metadata": {},
   "outputs": [
    {
     "data": {
      "image/png": "[encoded data removed]",
      "text/plain": [
       "<Figure size 432x288 with 1 Axes>"
      ]
     },
     "metadata": {},
     "output_type": "display_data"
    }
   ],
   "source": [
    "N=50;\n",
    "x_0=100;tau=un_test(x_0,N);"
   ]
  },
  {
   "cell_type": "code",
   "execution_count": 136,
   "metadata": {},
   "outputs": [
    {
     "data": {
      "image/png": "[encoded data removed]",
      "text/plain": [
       "<Figure size 432x288 with 1 Axes>"
      ]
     },
     "metadata": {},
     "output_type": "display_data"
    }
   ],
   "source": [
    "N=50;\n",
    "x_0=120;tau=un_test(x_0,N);# Le plus souvent en N"
   ]
  },
  {
   "cell_type": "markdown",
   "metadata": {},
   "source": [
    " __Question 2.11__ Traiter le cas du call. On peut montrer qu'il ne s'exerce qu'à l'échéance.\n",
    " Le vérifier par simulation."
   ]
  },
  {
   "cell_type": "code",
   "execution_count": 137,
   "metadata": {},
   "outputs": [],
   "source": [
    "# Teste le cas du call |$(x-K)_+$|\n",
    "# qui ne s'exerce jamais avant l'écheance |$N$|.\n",
    "# Le fait que le prix eu du call soit toujours plus grand \n",
    "# que l'obstacle permet de le prouver rigoureusement.\n",
    "  \n",
    "def main_8():\n",
    "    sigma=0.3; r_0=0.1;\n",
    "    K=100;x_0=100;\n",
    "    N=50;\n",
    "    r=r_0/N;\n",
    "    u=(1+r)*math.exp(sigma/math.sqrt(N));d=(1+r)*math.exp(-sigma/math.sqrt(N));\n",
    "    p=1/2;  #p= (1+r-d)/(u-d); # en principe pour Cox-Ross\n",
    "    def gain_call(x): return max(x-K,0) # Payoff du call \n",
    " \n",
    "    V_call=prix_am_vect(x_0,r,u,d,p,N,gain_call);\n",
    "    Nbre=1000;\n",
    "    tau=np.zeros(Nbre)\n",
    "    for j in range(Nbre):\n",
    "        Bin=simul_bin(N,p)\n",
    "        tau[j]=temps_optimal_option(x_0,u,d,Bin,V_call,gain_call)\n",
    "    histo_discret(tau,max(tau),'Temps optimal')"
   ]
  },
  {
   "cell_type": "code",
   "execution_count": 138,
   "metadata": {},
   "outputs": [
    {
     "data": {
      "image/png": "[encoded data removed]",
      "text/plain": [
       "<Figure size 432x288 with 1 Axes>"
      ]
     },
     "metadata": {},
     "output_type": "display_data"
    }
   ],
   "source": [
    "main_8() # un call sans dividende s'exerce toujours à l'instant N"
   ]
  },
  {
   "cell_type": "markdown",
   "metadata": {},
   "source": [
    " Évaluer la probabilité d'exercice anticipé (i.e. $\\P(\\tau < N)$,\n",
    "  si $\\tau$ est le temps d'arrêt optimal. Vérifier par simulation que\n",
    "  cette probabilité est strictement positive (pour le put) si $r>0$."
   ]
  },
  {
   "cell_type": "code",
   "execution_count": 148,
   "metadata": {},
   "outputs": [],
   "source": [
    "def compute_proba(x_0,N):\n",
    "    # Proba que tau<N\n",
    "    sigma=0.3;\n",
    "    p=1/2;d=1-sigma/math.sqrt(N);u=1+sigma/math.sqrt(N);\n",
    "    K=100;\n",
    "    r_0=0.1;\n",
    "    r=r_0/N;\n",
    "    def gain_put(x): return max(K-x,0) # Payoff du put  \n",
    "\n",
    "    V=prix_am_vect(x_0,r,u,d,p,N,gain_put);\n",
    "    Nbre=1000;\n",
    "    tau=np.zeros(Nbre)\n",
    "    for j in range(Nbre):\n",
    "        Bin=simul_bin(N,p);\n",
    "        tau[j]=temps_optimal_option(x_0,u,d,Bin,V,gain_put);\n",
    "    \n",
    "    res=0\n",
    "    for j in range(Nbre):\n",
    "        if (abs(tau[j]-N) < 0.000001):\n",
    "            res=res+1\n",
    "    return res / Nbre\n",
    "\n",
    "def main_9():\n",
    "    N = 50;\n",
    "    for x_0 in [60,70,80,100,120]:\n",
    "         print(\"x_0 =\",x_0,\": \",compute_proba(x_0,N))"
   ]
  },
  {
   "cell_type": "code",
   "execution_count": 149,
   "metadata": {},
   "outputs": [
    {
     "name": "stdout",
     "output_type": "stream",
     "text": [
      "x_0 = 60 :  0.0\n",
      "x_0 = 70 :  0.09\n",
      "x_0 = 80 :  0.193\n",
      "x_0 = 100 :  0.498\n",
      "x_0 = 120 :  0.696\n"
     ]
    }
   ],
   "source": [
    "main_9()"
   ]
  },
  {
   "cell_type": "markdown",
   "metadata": {},
   "source": [
    "__Question 2.12__ Tracer la frontière d'exercice en fonction du temps."
   ]
  },
  {
   "cell_type": "code",
   "execution_count": 167,
   "metadata": {},
   "outputs": [],
   "source": [
    "def frontiere(N,u,d,V,gain):\n",
    "    # Calcule la frontière d'exercice t -> s(t) t\\in[0,N]\n",
    "    s=np.zeros(N+1);\n",
    "    for n in range(N+1):\n",
    "        for j in range(n+1):\n",
    "            x=x_0*u**j*d**(n-j);\n",
    "            if (V[n,j] > gain(x)):\n",
    "                s[n]=x_0*(u**j)*d**(n-j);break;\n",
    "    return s\n",
    "\n",
    "def main_10(): \n",
    "    N=1000;\n",
    "    r_0=0.05;r=r_0/N;\n",
    "    sigma=0.3;\n",
    "    K=100;x_0=70;\n",
    "    p=1/2;d=1-sigma/math.sqrt(N);u=1+sigma/math.sqrt(N);\n",
    "    def gain_put(x): return max(K-x,0) # Payoff du put  \n",
    "\n",
    "    V=prix_am_vect(x_0,r,u,d,p,N,gain_put);\n",
    "    front=frontiere(N,u,d,V,gain_put);\n",
    "    plt.plot(front);\n"
   ]
  },
  {
   "cell_type": "code",
   "execution_count": 168,
   "metadata": {},
   "outputs": [
    {
     "data": {
      "image/png": "[encoded data removed]",
      "text/plain": [
       "<Figure size 432x288 with 1 Axes>"
      ]
     },
     "metadata": {},
     "output_type": "display_data"
    }
   ],
   "source": [
    "main_10()"
   ]
  },
  {
   "cell_type": "markdown",
   "metadata": {},
   "source": [
    "# 3. Un problème de recrutement"
   ]
  },
  {
   "cell_type": "markdown",
   "metadata": {},
   "source": [
    "On reçoit, consécutivement, $N$ candidats à un poste. Les\n",
    "circonstances m'imposent de décider tout de suite du recrutement (soit\n",
    "on recrute la personne que l'on vient de recevoir, soit on la refuse\n",
    "définitivement). On cherche à maximiser la proabilité de recruter le\n",
    "meilleur candidat. Quelle est la meilleure stratégie ?\n",
    "\n",
    "On a vu en cours que l'on peut se ramener à $(S_1,\\ldots,S_N)$ est une\n",
    "suite de variables aléatoires indépendantes de Bernouilli $1/n$, qui\n",
    "est une chaîne de Markov sur l'espace $E=\\{0,1\\}$, non homogène, de\n",
    "matrice de transition, dépendant du temps, $P_n$\n",
    "$$\n",
    "\\begin{array}{lcl}\n",
    "  P_n(0,0)&=&P_n(1,0)=1-\\frac{1}{n+1}=\\frac{n}{n+1},\\\\\n",
    "  P_n(0,1)&=&P_n(1,1)=\\frac{1}{n+1}.\n",
    "\\end{array}\n",
    "$$\n",
    "On chercher à maximiser $\\P(\\tau\\;\\mbox{ est le\n",
    "  meilleur})=\\E\\left(\\frac{\\tau}{N} S_\\tau\\right)$ parmi tous les\n",
    "temps d'arrêt."
   ]
  },
  {
   "cell_type": "markdown",
   "metadata": {},
   "source": [
    "__Question 3.1__ Ecrire un programme {\\tt Scicoslab} qui calcule la solution\n",
    "  $(u(n,0\\mbox{ ou } 1),0\\leq n \\leq N)$ de l'équation de\n",
    "  programmation dynamique donnée par (voir cours)\n",
    "  $$\n",
    "  \\left\\{\n",
    "    \\begin{array}{l}\n",
    "      u(n,x) = \\max\\Big\\{ \\frac{n}{n+1} u(n+1,0) + \\frac{1}{n} u(n+1,1),\\frac{n}{N} x\\Big\\}, n<N,\\\\\n",
    "      u(N,x) = x,\n",
    "    \\end{array}\n",
    "  \\right.   \n",
    "  $$\n",
    "  On calcule $(u(n,\\{0,1\\}),0\\leq n \\leq N)$ à l'aide de l'équation de\n",
    "  programmation dynamique. On désigne l'``obstacle'' par $(f(n,\\{0,1\\}),0\\leq n \\leq N)$.\n",
    "  Notez que $f(n,0)=0$ et $f(n,1)=n/N$.\n"
   ]
  },
  {
   "cell_type": "code",
   "execution_count": 189,
   "metadata": {},
   "outputs": [],
   "source": [
    "  def compute_u(N):\n",
    "    u=np.zeros([N+1,2]);\n",
    "    u[N,0]=0;u[N,1]=1;\n",
    "    for n in range(N-1,-1,-1): # =[N-1:-1:0]\n",
    "        temp = (n/(n+1))*u[n+1,0] + (1/(n+1))*u[n+1,1];\n",
    "        # temp >= 0, donc u(n,0)=max(temp,0)=temp\n",
    "        u[n,0]=temp\n",
    "        u[n,1]=max(temp,n/N)\n",
    "    return u"
   ]
  },
  {
   "cell_type": "markdown",
   "metadata": {},
   "source": [
    " __Question 3.2__ Tracer les courbes $u(n,0)$, $u(n,1)$ ainsi que \"l'obstacle\"\n",
    "  $\\frac{n}{N}$. "
   ]
  },
  {
   "cell_type": "code",
   "execution_count": 198,
   "metadata": {},
   "outputs": [],
   "source": [
    "def main_11():\n",
    "    N=1000;\n",
    "    obstacle=np.zeros(N+1)\n",
    "    for k in range(N+1):\n",
    "        obstacle[k]=k/N;\n",
    "\n",
    "    u=compute_u(N);\n",
    "    plt.plot(range(N+1),obstacle);\n",
    "    plt.plot(range(N+1),u[:,1]);# u(n,1)\n",
    "    plt.plot(range(N+1),u[:,0]);# u(n,0)"
   ]
  },
  {
   "cell_type": "code",
   "execution_count": 199,
   "metadata": {},
   "outputs": [
    {
     "data": {
      "image/png": "[encoded data removed]",
      "text/plain": [
       "<Figure size 432x288 with 1 Axes>"
      ]
     },
     "metadata": {},
     "output_type": "display_data"
    }
   ],
   "source": [
    "main_11()"
   ]
  },
  {
   "cell_type": "markdown",
   "metadata": {},
   "source": [
    "__Question 3.3__ Interprétez $u(0,1)$ comme la probabilité de choisir\n",
    "  le meilleur candidat avec une stratégie optimale~? Tracer la courbe\n",
    "  $N$ donne\n",
    "  $$\n",
    "  \\P(\\mbox{Le candidat choisi par une stratégie optimale est le\n",
    "    meilleur}),\n",
    "  $$\n",
    "  pour $N=10,25,50,100,250,500,1000$. Vérifier numériquement qu'elle\n",
    "  converge vers $1/e\\approx 37\\%$."
   ]
  },
  {
   "cell_type": "code",
   "execution_count": 210,
   "metadata": {},
   "outputs": [],
   "source": [
    "def main_12():\n",
    "    # u(0,1) = P(succés pour la stratégie optimale)\n",
    "    # On vérifie que cette proba tends vers 1/e = 37\\%\n",
    "    valeurs=[10,25,50,100,250,500,1000];\n",
    "    courbe=np.zeros(np.size(valeurs));\n",
    "\n",
    "    i=0;\n",
    "    for N in valeurs:\n",
    "        u=compute_u(N);\n",
    "        courbe[i]=u[0,1];\n",
    "        i=i+1;\n",
    "\n",
    "    #print(courbe-(1/math.exp(1)))\n",
    "    plt.plot(valeurs,courbe)"
   ]
  },
  {
   "cell_type": "code",
   "execution_count": 211,
   "metadata": {},
   "outputs": [
    {
     "data": {
      "image/png": "[encoded data removed]",
      "text/plain": [
       "<Figure size 432x288 with 1 Axes>"
      ]
     },
     "metadata": {},
     "output_type": "display_data"
    }
   ],
   "source": [
    "main_12()"
   ]
  },
  {
   "cell_type": "markdown",
   "metadata": {},
   "source": [
    "__Question 3.4__ Vérifier que l'on a $u(n,0) > 0$ pour tout $n<N$ et donc, que\n",
    "  $0=f(n,0)\\not=u(n,0)$. Par ailleurs, on a bien sûr,\n",
    "  $u(N,0)=0=f(N,0)$.  Comme le temps d'arret optimal $\\tau$ est donné\n",
    "  par\n",
    "  $$\n",
    "  \\tau = \\inf\\{n\\geq 0, u(n,S_n)=f(n,S_n)\\},\n",
    "  $$\n",
    "  en déduire qu'il sera toujours postérieur à $\\tau_{min}$, le premier\n",
    "  temps où $u(n,1)=f(n,1)=n/N$, (puisque $u(n,0) > 0 = f(n,0)$,\n",
    "  sauf lorsque $n=N$) et que c'est la premier instant après $\\tau_{min}$\n",
    "  pour lequel $S_n=1$, si $n<N$.\n",
    "\n",
    "  Il découle de ce qui précéde qu'un temps d'arrêt optimal est\n",
    "  donné par le premier instant après $n_{min}$ ($n_{min}$ compris) où $S_n=1$\n",
    "  (ou encore $R_n=1$, c'est à dire le premier instant où le nouvel\n",
    "  arrivant est meilleur que ceux qui l'on précédé).\n",
    "\n",
    "  Ecrire un algorithme de calcul de ce temps $\\tau_{min}$."
   ]
  },
  {
   "cell_type": "code",
   "execution_count": 216,
   "metadata": {},
   "outputs": [],
   "source": [
    "  def temps_min(N):\n",
    "    # Calcule le\n",
    "    # premier temps où |$u(n,1)=f(n,1)=n/N$|\n",
    "    # à |$\\epsilon$| près.\n",
    "    epsilon= 0.00001;\n",
    "    u=compute_u(N);\n",
    "    for n in range(N+1):\n",
    "        if (abs(u[n,1] - (n/N)) < epsilon): break;\n",
    "    return n;"
   ]
  },
  {
   "cell_type": "markdown",
   "metadata": {},
   "source": [
    "__Question 3.5__ Vérifier par simulation que le temps (déterministe) $\\tau_{min}$ \"vaut environ\"\n",
    "  $N/e$ pour $N$ grand.  On peut le démontrer sans trop de difficulté\n",
    "  à l'aide de la série harmonique."
   ]
  },
  {
   "cell_type": "code",
   "execution_count": 229,
   "metadata": {},
   "outputs": [
    {
     "data": {
      "image/png": "[encoded data removed]",
      "text/plain": [
       "<Figure size 432x288 with 1 Axes>"
      ]
     },
     "metadata": {},
     "output_type": "display_data"
    }
   ],
   "source": [
    "def main_13():\n",
    "    # Vérification que temps_min vaut environ |$N/e$|.\n",
    "    Taille=1000;\n",
    "    x=np.zeros(Taille+1)\n",
    "    for N in range(1,Taille+1):\n",
    "        x[N]=temps_min(N)/N;\n",
    "    x=x-1/math.exp(1);\n",
    "    plt.plot(range(Taille+1),x);\n",
    "    \n",
    "main_13()"
   ]
  },
  {
   "cell_type": "markdown",
   "metadata": {},
   "source": [
    "Ecrire une fonction qui calcule la suite des rangs d'insertion ($R$ dans le cours)\n",
    "  d'une permutation et une fonction qui calcule la permutation\n",
    "  définie par ses rangs d'insertion successifs."
   ]
  },
  {
   "cell_type": "code",
   "execution_count": 231,
   "metadata": {},
   "outputs": [
    {
     "name": "stdout",
     "output_type": "stream",
     "text": [
      "[ 5  7  6  4 10  2  1  8  3  9] [ 5.  7.  6.  4. 10.  2.  1.  8.  3.  9.]\n"
     ]
    }
   ],
   "source": [
    "def Omega2R(omega):\n",
    "# Calcule les rang d'insertion pour un omega donne\n",
    "  R=np.zeros(np.size(omega))\n",
    "  for n in range(np.size(omega)):\n",
    "    # classe le vecteur omega[1,...,n] en croissant\n",
    "    y=np.sort(omega[0:n+1]);\n",
    "    # R(n) = le classement de omega(n) parmi les n premiers\n",
    "    R[n]=np.where(y==omega[n])[0][0]+1\n",
    "  return R\n",
    "\n",
    "def R2Omega(R):\n",
    "    # Calcule omega connaissant les rangs d'insertion\n",
    "    iomega=np.zeros(0);\n",
    "    for n in range(np.size(R)):\n",
    "        # J'insére n à l'indice R[n]\n",
    "        iomega=np.concatenate([iomega[0:int(R[n]-1)],[n+1],iomega[int(R[n]-1):n+1]])\n",
    "    # On inverse la permutation\n",
    "    omega=np.zeros(np.size(R))\n",
    "    for n in range(np.size(omega)):\n",
    "        omega[int(iomega[n]-1)]=int(n+1)\n",
    "    return omega\n",
    "\n",
    "def main_14():\n",
    "    # test sur une permutation\n",
    "    N=10\n",
    "    omega=np.random.permutation(N)+1# tirage d'une permutation aléatoire.\n",
    "    R=Omega2R(omega)\n",
    "    omega2=R2Omega(R)\n",
    "    print(omega,omega2)\n",
    "    # Retrouve t'on omega ?\n",
    "    #and(R2Omega(R)==omega)\n",
    "\n",
    "main_14()"
   ]
  },
  {
   "cell_type": "markdown",
   "metadata": {},
   "source": [
    " __Question 3.6__ Vérifier par simulation que la probabilité d'obtenir le meilleur\n",
    "  candidat, lorsque l'on utilise la stratégie optimale, est de l'ordre\n",
    "  de $1/e\\approx 37\\%$. Ce qui n'est pas génial, mais c'est le mieux\n",
    "  que l'on puisse faire (sans connaitre l'avenir!)."
   ]
  },
  {
   "cell_type": "code",
   "execution_count": 272,
   "metadata": {},
   "outputs": [],
   "source": [
    "def temps_optimal(omega,tau_min,N):\n",
    "# Calcule le temps d'arret optimum\n",
    "# pour la permutation |$\\omega$| \n",
    "\n",
    "    # Calcule la suite R à partir de omega (omega->R)\n",
    "    R=Omega2R(omega);\n",
    "    # Le temps optimal se situe après |$\\tau_min$| et c'est le premier instant\n",
    "    # où |$S(n)=1$| apres ce temps, sauf si |$n=N$|, auquel cas on est oblige\n",
    "    # de prendre  le dernier candidat.\n",
    "    for n in range(tau_min+1,N+1):\n",
    "        if (abs(R[n-1]-1)<=0.00001): break\n",
    "    # Si on sort de cette boucle avec n=N et N est bien optimal.\n",
    "    return n\n",
    "\n"
   ]
  },
  {
   "cell_type": "markdown",
   "metadata": {},
   "source": [
    "On teste dans un cas particulier."
   ]
  },
  {
   "cell_type": "code",
   "execution_count": 282,
   "metadata": {},
   "outputs": [
    {
     "name": "stdout",
     "output_type": "stream",
     "text": [
      "probabilité d'obtenir le meilleur:  0.382 ~ 1/e =  0.36787944117144233\n"
     ]
    }
   ],
   "source": [
    "def main_15():\n",
    "    # Verification que la probabilité d'obtenir\n",
    "    # le meilleur est de l'ordre de 1/e\n",
    "    N=100;\n",
    "    Taille=1000;\n",
    "    tau_min=temps_min(N);\n",
    "  \n",
    "    ss=0;\n",
    "    for i in range(Taille):\n",
    "        omega=np.random.permutation(N)+1\n",
    "        tirages=temps_optimal(omega,tau_min,N)\n",
    "    \n",
    "        # tirages(i) est il le meilleur ?\n",
    "        if (omega[int(tirages-1)]==1):  ss=ss+1;\n",
    "\n",
    "    proba=ss/Taille;\n",
    "    print(\"probabilité d'obtenir le meilleur: \",proba,\"~ 1/e = \",1/math.exp(1));\n",
    "\n",
    "    # histo_discret(tirages,N);\n",
    "                \n",
    "main_15()"
   ]
  },
  {
   "cell_type": "code",
   "execution_count": null,
   "metadata": {},
   "outputs": [],
   "source": []
  }
 ],
 "metadata": {
  "kernelspec": {
   "display_name": "Python 3",
   "language": "python",
   "name": "python3"
  },
  "language_info": {
   "codemirror_mode": {
    "name": "ipython",
    "version": 3
   },
   "file_extension": ".py",
   "mimetype": "text/x-python",
   "name": "python",
   "nbconvert_exporter": "python",
   "pygments_lexer": "ipython3",
   "version": "3.6.5"
  }
 },
 "nbformat": 4,
 "nbformat_minor": 2
}
