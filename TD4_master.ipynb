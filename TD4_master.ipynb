{
 "cells": [
  {
   "cell_type": "markdown",
   "metadata": {},
   "source": [
    "# Le problème du vendeur de journaux (à une période de temps)"
   ]
  },
  {
   "cell_type": "markdown",
   "metadata": {},
   "source": [
    "Chaque matin, le vendeur doit décider d’un nombre de journaux à commander $u ∈ 𝕌 = {0, 1,\\ldots}$ au prix unitaire $c > 0$. La demande du jour est incertaine $w ∈ 𝕎 = {0, 1,\\ldots}$.\n",
    "\n",
    "Si à la ﬁn de la journée il lui reste des invendus (coût unitaire $c_S ∈ ℝ$):\n",
    "$$c_S(u − w )_+ = c_S \\max (u − w,0)$$\n",
    "On suppose que $c > − c_S$.\n",
    "\n",
    "Si à la ﬁn de la journée il n’a pas pu faire face à la demande on associe un coût unitaire $c_M$. Le coût lié à la non satisfaction de la demande est:\n",
    "$$c_M (w − u )_+ = c_M \\max (w − u,0).$$"
   ]
  },
  {
   "cell_type": "code",
   "execution_count": 249,
   "metadata": {},
   "outputs": [],
   "source": [
    "import numpy as np;\n",
    "from scipy.special import comb;\n",
    "from scipy.special import gamma;\n",
    "import matplotlib.pyplot as plt\n",
    "import io;"
   ]
  },
  {
   "cell_type": "code",
   "execution_count": 252,
   "metadata": {},
   "outputs": [],
   "source": [
    "binomiale=1\n",
    "discrete=2\n",
    "poisson=3\n",
    "\n",
    "def choisir_loi(law):\n",
    "\n",
    "    if law == binomiale:  ## loi binomiale\n",
    "        n=100\n",
    "        p=0.5\n",
    "\n",
    "        buf = io.StringIO()\n",
    "        buf.write(\"loi binomiale(%d,%5.2f)\" % (n,p))\n",
    "        title = buf.getvalue()\n",
    "    \n",
    "        wi = np.linspace(0,n,num=n+1) ## les valeurs possibles {0,1,...,n}\n",
    "        ## pdf(\"bin\",x,n,p) = n!/x!(n-x)! p^x (1-p)^n-x \n",
    "        nn = n*np.ones(n+1)\n",
    "        pi=comb(nn,wi, exact=False) * pow(p,wi)*pow(1-p,n-wi)\n",
    "\n",
    "        mu=n*p; ## moyenne de la binomiale \n",
    "        mu1= sum(pi*wi) ; ## vérification \n",
    "        if abs(mu-mu1) > 1.e-8:\n",
    "            print(\"something wrong in binomial law expectation\")\n",
    "            wait = input(\"PRESS ENTER TO CONTINUE.\")\n",
    "    \n",
    "        # un echantillong de taille N\n",
    "        N=1000\n",
    "        #W=grand(1,N,\"bin\",n,p);\n",
    "        W = np.random.binomial(n, p, N)\n",
    " \n",
    "    if law == discrete: ## une loi discrète \n",
    "        n=3\n",
    "        wi=np.array([30,50,80])\n",
    "        #DEBUTQUESTION\n",
    "        # A vous\n",
    "        # pi = choisir des probabilités\n",
    "        #ENDQUESTION\n",
    "        #DEBUTREPONSE\n",
    "        pi=np.array([1/2,1/4,1/4])\n",
    "        #ENDREPONSE\n",
    "        buf = io.StringIO()\n",
    "        buf.write(\"loi discrète sur %d valeurs\" % wi.size)\n",
    "        title = buf.getvalue()\n",
    "        #DEBUTQUESTION\n",
    "        # A vous : mu= ## la moyenne\n",
    "        #ENDQUESTION\n",
    "        #DEBUTREPONSE\n",
    "        mu=sum(pi*wi) ## la moyenne\n",
    "        #ENDREPONSE\n",
    "\n",
    "        N=1000\n",
    "        # un echantillong de taille N\n",
    "        #DEBUTQUESTION\n",
    "        # A vous : tirer un échantillon de taille N\n",
    "        #ENDQUESTION\n",
    "        #DEBUTREPONSE\n",
    "        W=np.random.choice(wi, N, p=pi) # un échantillon de taille N selon la loi pi\n",
    "        #ENDREPONSE\n",
    "    \n",
    "    if law == poisson: ## loi de Poisson de paramètre mu \n",
    "        n=100;\n",
    "        p=0.5;\n",
    "        mu=n*p;\n",
    "        wi=np.linspace(0,n,num=n+1); ## les valeurs possibles \n",
    "        pi=( pow(mu,wi) *np.exp(-mu)) / gamma(wi+1);\n",
    "        buf = io.StringIO();\n",
    "        buf.write(\"Poisson %f\" % mu);\n",
    "        title = buf.getvalue();\n",
    "        #DEBUTQUESTION\n",
    "        # A vous : \n",
    "        #     calculer la moyenne theorique, \n",
    "        #     tirer un echantillon de taille N, \n",
    "        #     comparer avec la moyenne empirique\n",
    "        #ENDQUESTION\n",
    "        #DEBUTREPONSE\n",
    "        moy = sum(pi*wi);\n",
    "        N=100000;\n",
    "        W= np.random.poisson(mu, N);\n",
    "        moye=sum(W)/N # doit converger vers moy lorsque N grand\n",
    "        #ENDREPONSE\n",
    "\n",
    "    return pi, wi, W, title\n",
    "\n",
    "def hist_plot(samples,support=[]):\n",
    "    if np.size(support)==0:\n",
    "        support = np.sort(list(dict.fromkeys(samples)))\n",
    "    histo=np.zeros(support.size);\n",
    "    for i in range(support.size):\n",
    "        histo[i]=np.size(np.where(samples==support[i]))/(W.size)\n",
    "    # On trace cet histogramme\n",
    "    plt.bar(support, histo,width=1)\n"
   ]
  },
  {
   "cell_type": "code",
   "execution_count": 257,
   "metadata": {
    "scrolled": false
   },
   "outputs": [
    {
     "data": {
      "image/png": "[encoded data removed]",
      "text/plain": [
       "<Figure size 432x288 with 1 Axes>"
      ]
     },
     "metadata": {
      "needs_background": "light"
     },
     "output_type": "display_data"
    },
    {
     "data": {
      "image/png": "[encoded data removed]",
      "text/plain": [
       "<Figure size 432x288 with 1 Axes>"
      ]
     },
     "metadata": {
      "needs_background": "light"
     },
     "output_type": "display_data"
    },
    {
     "data": {
      "image/png": "[encoded data removed]",
      "text/plain": [
       "<Figure size 432x288 with 1 Axes>"
      ]
     },
     "metadata": {
      "needs_background": "light"
     },
     "output_type": "display_data"
    }
   ],
   "source": [
    "pi, wi, W, title = choisir_loi(poisson) # poisson, binomiale, discrete\n",
    "\n",
    "fig = plt.gcf()\n",
    "\n",
    "#plt.subplot(1,3,1);\n",
    "plt.bar(wi,pi,width=1)\n",
    "plt.title(\"loi\"); \n",
    "plt.show()\n",
    "\n",
    "#plt.subplot(1,3,2);\n",
    "plt.step(wi,np.cumsum(pi),where='post',marker='o',markerfacecolor='r');\n",
    "plt.title(\"cdf :\" + title)\n",
    "plt.show()\n",
    "\n",
    "#plt.subplot(1,3,3);\n",
    "hist_plot(W,wi)\n",
    "plt.title(\"loi empirique\"); \n",
    "plt.show()"
   ]
  },
  {
   "cell_type": "markdown",
   "metadata": {},
   "source": [
    "__Paragraph 1.2__ On utilise tout d’abord la distribution de Poisson"
   ]
  },
  {
   "cell_type": "markdown",
   "metadata": {},
   "source": [
    "__1.1 La demande aléatoire__\n",
    "\n",
    "On veut faire tourner le même code pour plusieurs lois distinctes qui seront des lois discrètes. La valeur de law permet de selctionner une loi au choix: loi _binomiale_, loi _discrete_, loi de _Poisson_.\n"
   ]
  },
  {
   "cell_type": "code",
   "execution_count": 225,
   "metadata": {},
   "outputs": [],
   "source": [
    "pi, wi, W, title = choisir_loi(poisson)"
   ]
  },
  {
   "cell_type": "markdown",
   "metadata": {},
   "source": [
    "__Question 2.__ Écrire une fonction Python qui calcule j(u,w) puis une fonction qui calcule J(u). Faire un graphique avec les valeurs proposées des constantes et calculer le nombre de journaux qu’il faut commander "
   ]
  },
  {
   "cell_type": "code",
   "execution_count": 238,
   "metadata": {},
   "outputs": [
    {
     "name": "stdout",
     "output_type": "stream",
     "text": [
      "Cas discrêt: Nombre optimal de journaux a commander *30.000000*, Moyenne de la demande *47.500000*\n",
      "\n"
     ]
    },
    {
     "data": {
      "image/png": "[encoded data removed]",
      "text/plain": [
       "<Figure size 432x288 with 1 Axes>"
      ]
     },
     "metadata": {
      "needs_background": "light"
     },
     "output_type": "display_data"
    },
    {
     "name": "stdout",
     "output_type": "stream",
     "text": [
      "Cas binomial: Nombre optimal de journaux a commander *49.000000*, Moyenne de la demande *50.000000*\n",
      "\n"
     ]
    },
    {
     "data": {
      "image/png": "[encoded data removed]",
      "text/plain": [
       "<Figure size 432x288 with 1 Axes>"
      ]
     },
     "metadata": {
      "needs_background": "light"
     },
     "output_type": "display_data"
    },
    {
     "name": "stdout",
     "output_type": "stream",
     "text": [
      "Cas Poisson: Nombre optimal de journaux a commander *48.000000*, Moyenne de la demande *50.000000*\n",
      "\n"
     ]
    },
    {
     "data": {
      "image/png": "[encoded data removed]",
      "text/plain": [
       "<Figure size 432x288 with 1 Axes>"
      ]
     },
     "metadata": {
      "needs_background": "light"
     },
     "output_type": "display_data"
    }
   ],
   "source": [
    "c=10;cm=20;cs=5;cf=200;\n",
    "\n",
    "# la fonction coût j(u,w)\n",
    "def jj(u,w):\n",
    "    #DEBUTQUESTION\n",
    "    # A vous : écrire la fonction j (voir slides)\n",
    "    #ENDQUESTION\n",
    "    #DEBUTREPONSE\n",
    "    return c*u + cs*np.maximum(u - w,0) + cm*np.maximum(w - u,0);\n",
    "    #ENDREPONSE\n",
    "\n",
    "\n",
    "def J(u,pi,wi):\n",
    "    #DEBUTQUESTION\n",
    "    # A vous : écrire la fonction J = la moyenne de j (voir slides)\n",
    "    #ENDQUESTION\n",
    "    #DEBUTREPONSE\n",
    "    #return np.sum(pi*j(u,wi))\n",
    "    return c*u + cs*sum(pi*np.maximum(u - wi,0)) + cm*sum(pi*np.maximum(wi - u,0));\n",
    "    #ENDREPONSE\n",
    "\n",
    "\n",
    "def resultats(pi,wi,dessin='oui'):\n",
    "# draw the function and the minimum \n",
    "\n",
    "    # remplir val avec les valeurs de J(u) quand u varie de -10 a 100 avec un pas de 1\n",
    "    u=np.linspace(-10,100,num=111)\n",
    "    val=np.zeros(u.size);\n",
    "    for i in range(0,u.size):\n",
    "        #DEBUTQUESTION\n",
    "        # A vous : val[i]= ??\n",
    "        # val[i]=  # modifier\n",
    "        #ENDQUESTION\n",
    "        #DEBUTREPONSE\n",
    "        val[i]=J(u[i],pi,wi)\n",
    "        #ENDREPONSE\n",
    "    \n",
    "    # recherche du min \n",
    "    #DEBUTQUESTION\n",
    "    # A vous : trouver la valeur uopt\n",
    "    # uopt = ?\n",
    "    #ENDQUESTION\n",
    "    #DEBUTREPONSE\n",
    "    imin=np.argmin(val)\n",
    "    uopt = u[imin]\n",
    "    #ENDREPONSE\n",
    "    \n",
    "    if dessin=='oui':\n",
    "        plt.plot(u,val);\n",
    "        plt.title(\"fonction coût\");\n",
    "        plt.plot(uopt,val[imin],marker='o',markerfacecolor='r')\n",
    "\n",
    "        print(\"Nombre optimal de journaux a commander *%f*, \" % uopt,end='');\n",
    "        print(\"Moyenne de la demande *%f*\\n\" % sum(wi*pi));\n",
    "\n",
    "    return uopt\n",
    "\n",
    "\n",
    "pi, wi, W, title = choisir_loi(discrete) # poisson, binomiale, discrete\n",
    "print('Cas discrêt: ',end='')\n",
    "resultats(pi,wi)\n",
    "plt.show()\n",
    "    \n",
    "pi, wi, W, title = choisir_loi(binomiale) # poisson, binomiale, discrete\n",
    "print('Cas binomial: ',end='')\n",
    "resultats(pi,wi)\n",
    "plt.show()\n",
    "\n",
    "pi, wi, W, title = choisir_loi(poisson) # poisson, binomiale, discrete\n",
    "print('Cas Poisson: ',end='')\n",
    "resultats(pi,wi)\n",
    "plt.show()\n",
    "\n"
   ]
  },
  {
   "cell_type": "markdown",
   "metadata": {},
   "source": [
    "__Question 3.__ Vériﬁer sur un graphique que le nombre de journaux optimal à commander s’obtient par la formule :\n",
    "\n",
    "$$\\text{uopt} = \\inf\\left\\{z ∈ ℝ |F (z) ≥ (c_M − c)∕ (c_M + c_S )\\right\\}$$\n"
   ]
  },
  {
   "cell_type": "code",
   "execution_count": 239,
   "metadata": {},
   "outputs": [
    {
     "data": {
      "text/plain": [
       "[<matplotlib.lines.Line2D at 0x7fc6d8eb0da0>]"
      ]
     },
     "execution_count": 239,
     "metadata": {},
     "output_type": "execute_result"
    },
    {
     "data": {
      "image/png": "[encoded data removed]",
      "text/plain": [
       "<Figure size 432x288 with 1 Axes>"
      ]
     },
     "metadata": {
      "needs_background": "light"
     },
     "output_type": "display_data"
    }
   ],
   "source": [
    "pi, wi, W, title = choisir_loi(binomiale) # poisson, binomiale, discrete\n",
    "\n",
    "# On dessine F \n",
    "fstar = (cm-c)/(cm+cs) # valeur limite\n",
    "Fv= np.cumsum(pi) # calcul de la fonction de repartition\n",
    "plt.clf()\n",
    "xx=np.hstack((0,wi)) # on rajoute 0 a wi\n",
    "yy=np.hstack((0,Fv)) # on rajoute 0 a Fv\n",
    "plt.step(xx,yy,where='post') # tracé de la fonction de répartition\n",
    "plt.plot(xx,fstar*np.ones(xx.size)) # droite horizontale de valeur fstar\n"
   ]
  },
  {
   "cell_type": "code",
   "execution_count": 240,
   "metadata": {},
   "outputs": [
    {
     "data": {
      "image/png": "[encoded data removed]",
      "text/plain": [
       "<Figure size 432x288 with 1 Axes>"
      ]
     },
     "metadata": {
      "needs_background": "light"
     },
     "output_type": "display_data"
    }
   ],
   "source": [
    "# chercher l'indice qui donne uopt avec la formule du cours\n",
    "kopt=0\n",
    "for i in range(0,Fv.size):\n",
    "    if Fv[i] >= fstar:\n",
    "        kopt=i\n",
    "        break;\n",
    "\n",
    "plt.step(xx,yy,where='post') # marker='o',markerfacecolor='r');\n",
    "plt.plot(xx,fstar*np.ones(xx.size))\n",
    "plt.plot(wi[kopt],Fv[kopt],marker='o',markeredgewidth=5,markeredgecolor='r',markerfacecolor='r');\n"
   ]
  },
  {
   "cell_type": "markdown",
   "metadata": {},
   "source": [
    "_Paragraphe 1.3._ On utilise maintenant une loi discrète à 3 valeurs (law=2)\n",
    "\n",
    "Dans le cas précédent, on trouve que le nombre de journaux optimal à commander est très voisin de la moyenne de la demande. On cherche ici à construire un exemple ou les deux nombres seront franchement diﬀérents."
   ]
  },
  {
   "cell_type": "markdown",
   "metadata": {},
   "source": [
    "__Question 4.__ Reprendre ce qui précède, en vous plaçant maintenant dans le cas 2 et chercher à caler des valeurs des probabilités qui permettent d’obtenir le résultat souhaité."
   ]
  },
  {
   "cell_type": "code",
   "execution_count": 241,
   "metadata": {},
   "outputs": [
    {
     "name": "stdout",
     "output_type": "stream",
     "text": [
      "Nombre optimal de journaux a commander *10.000000*, Moyenne de la demande *23.750000*\n",
      "\n"
     ]
    },
    {
     "data": {
      "text/plain": [
       "10.0"
      ]
     },
     "execution_count": 241,
     "metadata": {},
     "output_type": "execute_result"
    },
    {
     "data": {
      "image/png": "[encoded data removed]",
      "text/plain": [
       "<Figure size 432x288 with 1 Axes>"
      ]
     },
     "metadata": {
      "needs_background": "light"
     },
     "output_type": "display_data"
    }
   ],
   "source": [
    "wi=np.array([10,50,80])\n",
    "pi=np.array([3/4,1/8,1/8])\n",
    "\n",
    "resultats(pi,wi)"
   ]
  },
  {
   "cell_type": "markdown",
   "metadata": {},
   "source": [
    "_Paragraphe 1.4_ La loi du coût\n",
    "\n",
    "__Question 5.__ Dans les cas 1 (binomiale) et cas 2 (discrete), faites un graphique de la loi du coût pour diverses valeurs de la commande $u$. On procédera de deux façons diﬀérentes\n",
    "    - En calculant la loi du coût.\n",
    "    - En approchant la loi du coût au moyen de tirages de la demande (loi empirique des coûts)."
   ]
  },
  {
   "cell_type": "code",
   "execution_count": 246,
   "metadata": {},
   "outputs": [
    {
     "data": {
      "image/png": "[encoded data removed]",
      "text/plain": [
       "<Figure size 432x288 with 1 Axes>"
      ]
     },
     "metadata": {
      "needs_background": "light"
     },
     "output_type": "display_data"
    },
    {
     "name": "stdout",
     "output_type": "stream",
     "text": [
      "52\n"
     ]
    },
    {
     "data": {
      "text/plain": [
       "<BarContainer object of 51 artists>"
      ]
     },
     "execution_count": 246,
     "metadata": {},
     "output_type": "execute_result"
    },
    {
     "data": {
      "image/png": "[encoded data removed]",
      "text/plain": [
       "<Figure size 432x288 with 1 Axes>"
      ]
     },
     "metadata": {
      "needs_background": "light"
     },
     "output_type": "display_data"
    }
   ],
   "source": [
    "plt.clf()\n",
    "\n",
    "def draw_cost(u,W):\n",
    "    #count, bins, ignored =   plt.hist(j(u,W),density=True)\n",
    "    samples=jj(u,W)\n",
    "    max_samples=max(samples)\n",
    "    hist_plot(samples)\n",
    "    return max_samples\n",
    "\n",
    "# poisson , discrete, binomiale\n",
    "pi, wi, W, title = choisir_loi(binomiale)\n",
    "\n",
    "u=49\n",
    "# commence par traiter le problème par simulation (avec W)\n",
    "max_samples=draw_cost(u,W);\n",
    "plt.show()\n",
    "\n",
    "# calcul de la loi exacte\n",
    "valeurs=jj(u,wi) # toutes les valeurs de j(u,wi[i])\n",
    "support = np.sort(list(dict.fromkeys(valeurs))) \n",
    "      # on calcule le support de la loi\n",
    "      # en enlevant les valeurs en double\n",
    "loi=np.zeros(support.size) # on va calculer la loi de j(u,W)\n",
    "for i in range(support.size):\n",
    "    for k in range(wi.size):\n",
    "        if jj(u,wi[k]) == support[i]:\n",
    "            loi[i]=loi[i]+pi[k]\n",
    "\n",
    "# on tronque l'histogramme au delà de la valeur max_samples\n",
    "for imax in range(support.size):\n",
    "    if support[imax] > max_samples:\n",
    "        print(imax);break\n",
    "imax=imax-1\n",
    "            \n",
    "# On trace cet histogramme\n",
    "plt.bar(support[0:imax], loi[0:imax],width=5)\n"
   ]
  },
  {
   "cell_type": "markdown",
   "metadata": {},
   "source": [
    "__Paragraphe 1.6.__  Stratégie $[s,S]$\n",
    "\n",
    "On regarde maintenant un cas ou le vendeur à déjà des journaux et où il paye un coup ﬁxe s'il commande des journaux. \n",
    "On cherche à retrouver ici le fait que la stratégie optimale est de la forme $[s,S]$.\n",
    "\n",
    "__Question 7.__ On se placera dans le cas test=1. Calculer le nombre optimal de journaux à commander \n",
    "suivant la valeur du stock initial. \n",
    "Vériﬁer que la stratégie est bien de la forme $[s,S]$: \n",
    "on remonte le stock au niveau $S$ si il est inférieur à $s$ et on ne fait rien sinon. \n",
    "\n",
    "On vérifie que $s$ se calcule aussi par la formule\n",
    "$$s := \\sup \\left\\{z ∈ (− ∞, S)|J(z) ≥ cF + J(S )\\right\\} $$"
   ]
  },
  {
   "cell_type": "code",
   "execution_count": 259,
   "metadata": {
    "scrolled": true
   },
   "outputs": [
    {
     "name": "stdout",
     "output_type": "stream",
     "text": [
      "1) Calcul par une méthode brutale : valeur de s=23.000000 et de S=48.000000\n",
      "\n"
     ]
    },
    {
     "data": {
      "image/png": "[encoded data removed]",
      "text/plain": [
       "<Figure size 432x288 with 1 Axes>"
      ]
     },
     "metadata": {
      "needs_background": "light"
     },
     "output_type": "display_data"
    },
    {
     "name": "stdout",
     "output_type": "stream",
     "text": [
      "2) Formule du cours: valeur de s=23.000000 et de S=48.000000\n",
      "\n"
     ]
    }
   ],
   "source": [
    "# On regarde maintenant un cas ou le vendeur à déjà des journaux \n",
    "# et ou il paye un coup fixe s'il commande des journaux \n",
    "# on voit une stratégie [s,S] \n",
    "\n",
    "def Jtilde(u,x,pi,wi):\n",
    "    return cf*(u>0) + J(u+x,pi,wi) -c*x\n",
    "\n",
    "# Le but est de verifier que l'on a une stratégie [s,S]\n",
    "\n",
    "# Coix du modèle : poisson , discrete, binomiale\n",
    "pi, wi, W, title = choisir_loi(poisson)\n",
    "\n",
    "# Calcul de S\n",
    "# S=uopt, où uopt est l'argmin de J(u) (cf Slide 11/20)\n",
    "# uopt est caclulé dans la fonction résultat\n",
    "uopt=resultats(pi,wi,dessin='non') # on ne veux pas de dessin ici\n",
    "S=uopt \n",
    "\n",
    "# Il nous faut maintenant calculer s\n",
    "xv=np.linspace(0,2*max(wi), num=200+1);\n",
    "xuopt=xv.copy();\n",
    "U=np.linspace(0,2*max(wi), num=200+1); # \n",
    "Ju=U.copy();\n",
    "\n",
    "for i in range(0, xv.size):\n",
    "    for j in range(0, U.size):\n",
    "        Ju[j]= Jtilde(U[j],xv[i],pi,wi); # à xv[i] stock fixé, on calcule les coûts pour les commandes U[j]  \n",
    "    k = np.argmin(Ju); # on optimize en Ju\n",
    "    xuopt[i]= U[k]; # ca qui nous donne la commande optimale pour le stock initial xv[i]\n",
    "\n",
    "# s = la valeur la plus grande où le contrôle est non nul\n",
    "# on cherche donc l'indice iopt de la valeur la plus petite où le \n",
    "# contrôle est non nul. xv[iopt-1] donne la valeur de s cherchée.\n",
    "iopt=-1;\n",
    "for i in range(0, xuopt.size):\n",
    "    if xuopt[i] == 0:\n",
    "        iopt=i;\n",
    "        break;\n",
    "# (iopt-1) est le dernier indice ou la controle est non nul\n",
    "# et s est la valeur de x correspondante xv[iopt-1]\n",
    "s = xv[iopt-1]\n",
    "print(\"1) Calcul par une méthode brutale : valeur de s=%f et de S=%f\\n\" % (s, S))\n",
    "\n",
    "plt.clf()\n",
    "\n",
    "# on vérifie que pour x en dessous de s, x+uopt=cte=S\n",
    "plt.plot(xv[:int(s)],xv[:int(s)]+xuopt[:int(s)])\n",
    "\n",
    "# au dela xuopt=0 (on ne commande rien), donc on est sur la droite y = x!\n",
    "plt.plot(xv[int(s)+1:150],xv[int(s)+1:150]+xuopt[int(s)+1:150])\n",
    "\n",
    "plt.show()\n",
    "\n",
    "# On vérifie le formule de s donnée dans le cours (p.11 cours-4) fonctionne\n",
    "xv= np.linspace(0,2*max(wi), num=200+1);\n",
    "Jv=np.zeros(xv.size);\n",
    "for i in range(0,xv.size):\n",
    "    Jv[i]=J(xv[i],pi,wi)\n",
    "JS=J(S,pi,wi) # J(S)\n",
    "costs = Jv - (cf + JS);\n",
    "# calcul du plus grand z où J(z) >= c_F + J(S)\n",
    "iopt=-1\n",
    "for i in range(0,xv.size):\n",
    "    if costs[i] <=0:\n",
    "        iopt=i;\n",
    "        break;\n",
    "if iopt < 0: \n",
    "    s=0 \n",
    "else:\n",
    "    s=xv[iopt-1]\n",
    "    \n",
    "print(\"2) Formule du cours: valeur de s=%f et de S=%f\\n\" % (s, S))\n"
   ]
  },
  {
   "cell_type": "markdown",
   "metadata": {},
   "source": [
    " Question 6 En utilisant la présentation faite en cours, construire un problème linéaire dont la solution \n",
    "    permet de calculer le nombre de journaux optimal à commander "
   ]
  }
 ],
 "metadata": {
  "kernelspec": {
   "display_name": "Python 3",
   "language": "python",
   "name": "python3"
  },
  "language_info": {
   "codemirror_mode": {
    "name": "ipython",
    "version": 3
   },
   "file_extension": ".py",
   "mimetype": "text/x-python",
   "name": "python",
   "nbconvert_exporter": "python",
   "pygments_lexer": "ipython3",
   "version": "3.7.2"
  }
 },
 "nbformat": 4,
 "nbformat_minor": 2
}
